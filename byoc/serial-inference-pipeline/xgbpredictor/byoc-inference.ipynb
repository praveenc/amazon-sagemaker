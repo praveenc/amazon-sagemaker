{
 "cells": [
  {
   "cell_type": "code",
   "execution_count": null,
   "id": "7def65a6-796a-482a-a934-96b77dd93f3e",
   "metadata": {
    "tags": []
   },
   "outputs": [],
   "source": [
    "!pip install -U awscli boto3 sagemaker rich watermark xgboost scikit-learn --quiet"
   ]
  },
  {
   "cell_type": "code",
   "execution_count": 1,
   "id": "e543a963-bfad-41ff-8073-436c0b7be4e9",
   "metadata": {
    "tags": []
   },
   "outputs": [
    {
     "name": "stdout",
     "output_type": "stream",
     "text": [
      "awscli   : 1.27.99\n",
      "boto3    : 1.26.99\n",
      "sagemaker: 2.141.0\n",
      "xgboost  : 1.7.4\n",
      "sklearn  : 1.2.2\n",
      "\n"
     ]
    }
   ],
   "source": [
    "%load_ext watermark\n",
    "%load_ext rich\n",
    "\n",
    "%watermark -p awscli,boto3,sagemaker,xgboost,sklearn"
   ]
  },
  {
   "cell_type": "markdown",
   "id": "7ecd6679-363c-4200-8397-276c86714506",
   "metadata": {},
   "source": [
    "### Upload model artifacts as `model.tar.gz` to S3\n"
   ]
  },
  {
   "cell_type": "code",
   "execution_count": 2,
   "id": "9a4c6a0a-1522-4106-9dc5-304950b5be1d",
   "metadata": {
    "tags": []
   },
   "outputs": [
    {
     "name": "stdout",
     "output_type": "stream",
     "text": [
      "Model file exists: ./models/model.tar.gz\n"
     ]
    }
   ],
   "source": [
    "import tarfile\n",
    "import os\n",
    "\n",
    "model_path = os.path.join(\"./models\", \"xgboost-model\")\n",
    "model_output_path = os.path.join(\"./models\", \"model.tar.gz\")\n",
    "\n",
    "if not os.path.exists(model_output_path):\n",
    "    print(f\"Compressing model to {model_output_path}\")\n",
    "    tar = tarfile.open(model_output_path, \"w:gz\")\n",
    "    tar.add(model_path, arcname=\"xgboost-model\")\n",
    "    tar.close()\n",
    "else:\n",
    "    print(f\"Model file exists: {model_output_path}\")"
   ]
  },
  {
   "cell_type": "code",
   "execution_count": 3,
   "id": "25bff45f-56e3-4bc1-90e8-0d9e31def130",
   "metadata": {
    "tags": []
   },
   "outputs": [
    {
     "data": {
      "text/html": [
       "<pre style=\"white-space:pre;overflow-x:auto;line-height:normal;font-family:Menlo,'DejaVu Sans Mono',consolas,'Courier New',monospace\">Role: arn:aws:iam::<span style=\"color: #008080; text-decoration-color: #008080; font-weight: bold\">726793866085</span>:role/service-role/AmazonSageMaker-ExecutionRole-20220313T104021\n",
       "</pre>\n"
      ],
      "text/plain": [
       "Role: arn:aws:iam::\u001b[1;36m726793866085\u001b[0m:role/service-role/AmazonSageMaker-ExecutionRole-20220313T104021\n"
      ]
     },
     "metadata": {},
     "output_type": "display_data"
    },
    {
     "data": {
      "text/html": [
       "<pre style=\"white-space:pre;overflow-x:auto;line-height:normal;font-family:Menlo,'DejaVu Sans Mono',consolas,'Courier New',monospace\">Bucket: sagemaker-us-east-<span style=\"color: #008080; text-decoration-color: #008080; font-weight: bold\">1</span>-<span style=\"color: #008080; text-decoration-color: #008080; font-weight: bold\">726793866085</span>\n",
       "</pre>\n"
      ],
      "text/plain": [
       "Bucket: sagemaker-us-east-\u001b[1;36m1\u001b[0m-\u001b[1;36m726793866085\u001b[0m\n"
      ]
     },
     "metadata": {},
     "output_type": "display_data"
    },
    {
     "data": {
      "text/html": [
       "<pre style=\"white-space:pre;overflow-x:auto;line-height:normal;font-family:Menlo,'DejaVu Sans Mono',consolas,'Courier New',monospace\">Model base: s3:<span style=\"color: #800080; text-decoration-color: #800080\">//sagemaker-us-east-1-726793866085/sagemaker/abalone/models/byoc-serial-inference/</span><span style=\"color: #ff00ff; text-decoration-color: #ff00ff\">xgbpredictor</span>\n",
       "</pre>\n"
      ],
      "text/plain": [
       "Model base: s3:\u001b[35m/\u001b[0m\u001b[35m/sagemaker-us-east-1-726793866085/sagemaker/abalone/models/byoc-serial-inference/\u001b[0m\u001b[95mxgbpredictor\u001b[0m\n"
      ]
     },
     "metadata": {},
     "output_type": "display_data"
    },
    {
     "data": {
      "text/plain": [
       "'s3://sagemaker-us-east-1-726793866085/sagemaker/abalone/models/byoc-serial-inference/xgbpredictor/model.tar.gz'"
      ]
     },
     "execution_count": 3,
     "metadata": {},
     "output_type": "execute_result"
    }
   ],
   "source": [
    "import sagemaker\n",
    "import boto3\n",
    "from sagemaker.s3 import S3Uploader, s3_path_join\n",
    "from sagemaker import session\n",
    "from sagemaker import get_execution_role\n",
    "from rich import print\n",
    "\n",
    "sm_session = session.Session()\n",
    "region = sm_session._region_name\n",
    "role = get_execution_role()\n",
    "bucket = sm_session.default_bucket()\n",
    "sm_client = boto3.client(\"sagemaker\")\n",
    "\n",
    "prefix = \"sagemaker/abalone\"\n",
    "account_id = boto3.client(\"sts\").get_caller_identity().get(\"Account\")\n",
    "model_s3uri = s3_path_join(f\"s3://{bucket}/{prefix}\", \"models/byoc-serial-inference/xgbpredictor\")\n",
    "\n",
    "print(f\"Role: {role}\")\n",
    "print(f\"Bucket: {bucket}\")\n",
    "print(f\"Model base: {model_s3uri}\")\n",
    "\n",
    "S3Uploader.upload(\n",
    "    local_path=model_output_path,\n",
    "    desired_s3_uri=model_s3uri,\n",
    "    sagemaker_session=sm_session,\n",
    ")"
   ]
  },
  {
   "cell_type": "markdown",
   "id": "04630460-d038-4690-bd6d-37a2b3838b11",
   "metadata": {},
   "source": [
    "### Create model object with custom inference image"
   ]
  },
  {
   "cell_type": "code",
   "execution_count": 4,
   "id": "e7e073e5-bcce-4a84-b8d4-d00302050064",
   "metadata": {
    "tags": []
   },
   "outputs": [
    {
     "data": {
      "text/html": [
       "<pre style=\"white-space:pre;overflow-x:auto;line-height:normal;font-family:Menlo,'DejaVu Sans Mono',consolas,'Courier New',monospace\">model_image_uri: <span style=\"color: #008080; text-decoration-color: #008080; font-weight: bold\">726793866085.</span>dkr.ecr.us-east-<span style=\"color: #008080; text-decoration-color: #008080; font-weight: bold\">1.</span>amazonaws.com/byoc/abalone-predictor:latest\n",
       "</pre>\n"
      ],
      "text/plain": [
       "model_image_uri: \u001b[1;36m726793866085.\u001b[0mdkr.ecr.us-east-\u001b[1;36m1.\u001b[0mamazonaws.com/byoc/abalone-predictor:latest\n"
      ]
     },
     "metadata": {},
     "output_type": "display_data"
    },
    {
     "data": {
      "text/html": [
       "<pre style=\"white-space:pre;overflow-x:auto;line-height:normal;font-family:Menlo,'DejaVu Sans Mono',consolas,'Courier New',monospace\">Creating model : AbaloneXGB-predictor-<span style=\"color: #008080; text-decoration-color: #008080; font-weight: bold\">12926</span>-26Mar2023 with \n",
       "s3:<span style=\"color: #800080; text-decoration-color: #800080\">//sagemaker-us-east-1-726793866085/sagemaker/abalone/models/byoc-serial-inference/xgbpredictor/</span><span style=\"color: #ff00ff; text-decoration-color: #ff00ff\">model.tar.gz</span>\n",
       "</pre>\n"
      ],
      "text/plain": [
       "Creating model : AbaloneXGB-predictor-\u001b[1;36m12926\u001b[0m-26Mar2023 with \n",
       "s3:\u001b[35m/\u001b[0m\u001b[35m/sagemaker-us-east-1-726793866085/sagemaker/abalone/models/byoc-serial-inference/xgbpredictor/\u001b[0m\u001b[95mmodel.tar.gz\u001b[0m\n"
      ]
     },
     "metadata": {},
     "output_type": "display_data"
    },
    {
     "data": {
      "text/html": [
       "<pre style=\"white-space:pre;overflow-x:auto;line-height:normal;font-family:Menlo,'DejaVu Sans Mono',consolas,'Courier New',monospace\">Response\n",
       "</pre>\n"
      ],
      "text/plain": [
       "Response\n"
      ]
     },
     "metadata": {},
     "output_type": "display_data"
    },
    {
     "data": {
      "text/html": [
       "<pre style=\"white-space:pre;overflow-x:auto;line-height:normal;font-family:Menlo,'DejaVu Sans Mono',consolas,'Courier New',monospace\">arn:aws:sagemaker:us-east-<span style=\"color: #00ff00; text-decoration-color: #00ff00; font-weight: bold\">1:7267</span>93866085:model/abalonexgb-predictor-<span style=\"color: #008080; text-decoration-color: #008080; font-weight: bold\">12926</span>-26mar2023\n",
       "</pre>\n"
      ],
      "text/plain": [
       "arn:aws:sagemaker:us-east-\u001b[1;92m1:7267\u001b[0m93866085:model/abalonexgb-predictor-\u001b[1;36m12926\u001b[0m-26mar2023\n"
      ]
     },
     "metadata": {},
     "output_type": "display_data"
    }
   ],
   "source": [
    "from datetime import datetime\n",
    "from uuid import uuid4\n",
    "\n",
    "image_name = \"byoc/abalone-predictor\"\n",
    "ecr_image = f\"{account_id}.dkr.ecr.{region}.amazonaws.com/{image_name}:latest\"\n",
    "suffix = f\"{str(uuid4())[:5]}-{datetime.now().strftime('%d%b%Y')}\"\n",
    "\n",
    "model_data_url = s3_path_join(model_s3uri, \"model.tar.gz\")\n",
    "\n",
    "print(f\"model_image_uri: {ecr_image}\")\n",
    "model_name = f\"AbaloneXGB-predictor-{suffix}\"\n",
    "\n",
    "print(f\"Creating model : {model_name} with {model_data_url}\")\n",
    "model_response = sm_client.create_model(\n",
    "    ModelName=model_name,\n",
    "    ExecutionRoleArn=role,\n",
    "    PrimaryContainer={\"Image\": ecr_image, \"ModelDataUrl\": model_data_url},\n",
    ")\n",
    "\n",
    "print(f\"Response\")\n",
    "print(model_response[\"ModelArn\"])"
   ]
  },
  {
   "cell_type": "markdown",
   "id": "58cbe819-c976-4a61-a14b-1f9481858e0d",
   "metadata": {},
   "source": [
    "### Create Endpoint Config"
   ]
  },
  {
   "cell_type": "code",
   "execution_count": 5,
   "id": "e5ee8d07-ab31-4f7b-855c-3bfc4ac73cb3",
   "metadata": {
    "tags": []
   },
   "outputs": [
    {
     "data": {
      "text/html": [
       "<pre style=\"white-space:pre;overflow-x:auto;line-height:normal;font-family:Menlo,'DejaVu Sans Mono',consolas,'Courier New',monospace\">Creating endpoint config : AbaloneXGB-epc-predictor-<span style=\"color: #008080; text-decoration-color: #008080; font-weight: bold\">12926</span>-26Mar2023\n",
       "</pre>\n"
      ],
      "text/plain": [
       "Creating endpoint config : AbaloneXGB-epc-predictor-\u001b[1;36m12926\u001b[0m-26Mar2023\n"
      ]
     },
     "metadata": {},
     "output_type": "display_data"
    },
    {
     "data": {
      "text/html": [
       "<pre style=\"white-space:pre;overflow-x:auto;line-height:normal;font-family:Menlo,'DejaVu Sans Mono',consolas,'Courier New',monospace\">arn:aws:sagemaker:us-east-<span style=\"color: #00ff00; text-decoration-color: #00ff00; font-weight: bold\">1:7267</span>9386<span style=\"color: #00ff00; text-decoration-color: #00ff00; font-weight: bold\">6085:e</span>ndpoint-config/abalonexgb-epc-predictor-<span style=\"color: #008080; text-decoration-color: #008080; font-weight: bold\">12926</span>-26mar2023\n",
       "</pre>\n"
      ],
      "text/plain": [
       "arn:aws:sagemaker:us-east-\u001b[1;92m1:7267\u001b[0m9386\u001b[1;92m6085:e\u001b[0mndpoint-config/abalonexgb-epc-predictor-\u001b[1;36m12926\u001b[0m-26mar2023\n"
      ]
     },
     "metadata": {},
     "output_type": "display_data"
    }
   ],
   "source": [
    "endpoint_config_name = f\"AbaloneXGB-epc-predictor-{suffix}\"\n",
    "print(f\"Creating endpoint config : {endpoint_config_name}\")\n",
    "\n",
    "# create endpoint config with data capture config using sagemaker boto3 client\n",
    "epc_response = sm_client.create_endpoint_config(\n",
    "    EndpointConfigName=endpoint_config_name,\n",
    "    ProductionVariants=[\n",
    "        {\n",
    "            \"VariantName\": \"AllTraffic\",\n",
    "            \"ModelName\": model_name,\n",
    "            \"InitialInstanceCount\": 1,\n",
    "            \"InstanceType\": \"ml.m5.2xlarge\",\n",
    "            \"InitialVariantWeight\": 1,\n",
    "        }\n",
    "    ],\n",
    ")\n",
    "\n",
    "print(epc_response[\"EndpointConfigArn\"])"
   ]
  },
  {
   "cell_type": "code",
   "execution_count": 6,
   "id": "a220d39e-7c90-4092-97c9-75783a6c0a9a",
   "metadata": {
    "tags": []
   },
   "outputs": [
    {
     "data": {
      "text/html": [
       "<pre style=\"white-space:pre;overflow-x:auto;line-height:normal;font-family:Menlo,'DejaVu Sans Mono',consolas,'Courier New',monospace\">Creating endpoint : AbaloneXGB-ep-predictor-<span style=\"color: #008080; text-decoration-color: #008080; font-weight: bold\">12926</span>-26Mar2023\n",
       "</pre>\n"
      ],
      "text/plain": [
       "Creating endpoint : AbaloneXGB-ep-predictor-\u001b[1;36m12926\u001b[0m-26Mar2023\n"
      ]
     },
     "metadata": {},
     "output_type": "display_data"
    },
    {
     "data": {
      "text/html": [
       "<pre style=\"white-space:pre;overflow-x:auto;line-height:normal;font-family:Menlo,'DejaVu Sans Mono',consolas,'Courier New',monospace\">arn:aws:sagemaker:us-east-<span style=\"color: #00ff00; text-decoration-color: #00ff00; font-weight: bold\">1:7267</span>9386<span style=\"color: #00ff00; text-decoration-color: #00ff00; font-weight: bold\">6085:e</span>ndpoint/abalonexgb-ep-predictor-<span style=\"color: #008080; text-decoration-color: #008080; font-weight: bold\">12926</span>-26mar2023\n",
       "</pre>\n"
      ],
      "text/plain": [
       "arn:aws:sagemaker:us-east-\u001b[1;92m1:7267\u001b[0m9386\u001b[1;92m6085:e\u001b[0mndpoint/abalonexgb-ep-predictor-\u001b[1;36m12926\u001b[0m-26mar2023\n"
      ]
     },
     "metadata": {},
     "output_type": "display_data"
    }
   ],
   "source": [
    "# create endpoint with endpoint config and endpoint_image_uri\n",
    "endpoint_name = f\"AbaloneXGB-ep-predictor-{suffix}\"\n",
    "print(f\"Creating endpoint : {endpoint_name}\")\n",
    "\n",
    "ep_response = sm_client.create_endpoint(\n",
    "    EndpointName=endpoint_name,\n",
    "    EndpointConfigName=endpoint_config_name,\n",
    ")\n",
    "\n",
    "print(ep_response[\"EndpointArn\"])"
   ]
  },
  {
   "cell_type": "code",
   "execution_count": 7,
   "id": "0358fb5a-8c43-48e1-88f7-e1f4db2047bb",
   "metadata": {
    "tags": []
   },
   "outputs": [
    {
     "data": {
      "text/html": [
       "<pre style=\"white-space:pre;overflow-x:auto;line-height:normal;font-family:Menlo,'DejaVu Sans Mono',consolas,'Courier New',monospace\">Endpoint <span style=\"font-weight: bold\">AbaloneXGB-ep-predictor-</span><span style=\"color: #008080; text-decoration-color: #008080; font-weight: bold\">12926</span><span style=\"font-weight: bold\">-26Mar2023</span> Status: <span style=\"font-style: italic\">Creating</span>\n",
       "</pre>\n"
      ],
      "text/plain": [
       "Endpoint \u001b[1mAbaloneXGB-ep-predictor-\u001b[0m\u001b[1;36m12926\u001b[0m\u001b[1m-26Mar2023\u001b[0m Status: \u001b[3mCreating\u001b[0m\n"
      ]
     },
     "metadata": {},
     "output_type": "display_data"
    },
    {
     "data": {
      "text/html": [
       "<pre style=\"white-space:pre;overflow-x:auto;line-height:normal;font-family:Menlo,'DejaVu Sans Mono',consolas,'Courier New',monospace\">Endpoint <span style=\"font-weight: bold\">AbaloneXGB-ep-predictor-</span><span style=\"color: #008080; text-decoration-color: #008080; font-weight: bold\">12926</span><span style=\"font-weight: bold\">-26Mar2023</span> Status: <span style=\"font-style: italic\">InService</span>\n",
       "</pre>\n"
      ],
      "text/plain": [
       "Endpoint \u001b[1mAbaloneXGB-ep-predictor-\u001b[0m\u001b[1;36m12926\u001b[0m\u001b[1m-26Mar2023\u001b[0m Status: \u001b[3mInService\u001b[0m\n"
      ]
     },
     "metadata": {},
     "output_type": "display_data"
    }
   ],
   "source": [
    "from rich import print\n",
    "\n",
    "resp = sm_client.describe_endpoint(EndpointName=endpoint_name)\n",
    "status = resp[\"EndpointStatus\"]\n",
    "print(f\"Endpoint [b]{endpoint_name}[/b] Status: [i]{status}[/i]\")\n",
    "# Get the waiter object\n",
    "waiter = sm_client.get_waiter(\"endpoint_in_service\")\n",
    "# Apply the waiter on the endpoint\n",
    "waiter.wait(EndpointName=endpoint_name)\n",
    "# Get endpoint status using describe endpoint\n",
    "resp = sm_client.describe_endpoint(EndpointName=endpoint_name)\n",
    "status = resp[\"EndpointStatus\"]\n",
    "print(f\"Endpoint [b]{endpoint_name}[/b] Status: [i]{status}[/i]\")"
   ]
  },
  {
   "cell_type": "markdown",
   "id": "9786cc6d-3298-42c6-ac83-423474011eed",
   "metadata": {},
   "source": [
    "### Send test inference"
   ]
  },
  {
   "cell_type": "code",
   "execution_count": null,
   "id": "7338fe3a-6fb2-4f2a-aecf-cb43abf050f1",
   "metadata": {},
   "outputs": [],
   "source": [
    "row = \"0.5475261886982955,0.3215419286350158,0.24426074957028274,0.08695002906785124,0.11869309488761703,0.31322854300540076,0.041671324149052995,0.0,0.0,1.0\""
   ]
  },
  {
   "cell_type": "code",
   "execution_count": 11,
   "id": "3717ff77-2700-4af7-b143-0de0e67bff2e",
   "metadata": {
    "scrolled": true,
    "tags": []
   },
   "outputs": [
    {
     "data": {
      "text/html": [
       "<pre style=\"white-space:pre;overflow-x:auto;line-height:normal;font-family:Menlo,'DejaVu Sans Mono',consolas,'Courier New',monospace\">Test file: .<span style=\"color: #800080; text-decoration-color: #800080\">/</span><span style=\"color: #ff00ff; text-decoration-color: #ff00ff\">test.csv</span> exists!\n",
       "</pre>\n"
      ],
      "text/plain": [
       "Test file: .\u001b[35m/\u001b[0m\u001b[95mtest.csv\u001b[0m exists!\n"
      ]
     },
     "metadata": {},
     "output_type": "display_data"
    },
    {
     "data": {
      "text/html": [
       "<pre style=\"white-space:pre;overflow-x:auto;line-height:normal;font-family:Menlo,'DejaVu Sans Mono',consolas,'Courier New',monospace\">Headers\n",
       "</pre>\n"
      ],
      "text/plain": [
       "Headers\n"
      ]
     },
     "metadata": {},
     "output_type": "display_data"
    },
    {
     "data": {
      "text/html": [
       "<pre style=\"white-space:pre;overflow-x:auto;line-height:normal;font-family:Menlo,'DejaVu Sans Mono',consolas,'Courier New',monospace\">n_Rings,n__Length,n__Diameter,n__Height,n__Whole weight,n__Shucked weight,n__Viscera weight,n__Shell \n",
       "weight,c__Sex_F,c__Sex_I,c__Sex_M\n",
       "\n",
       "</pre>\n"
      ],
      "text/plain": [
       "n_Rings,n__Length,n__Diameter,n__Height,n__Whole weight,n__Shucked weight,n__Viscera weight,n__Shell \n",
       "weight,c__Sex_F,c__Sex_I,c__Sex_M\n",
       "\n"
      ]
     },
     "metadata": {},
     "output_type": "display_data"
    },
    {
     "data": {
      "text/html": [
       "<pre style=\"white-space:pre;overflow-x:auto;line-height:normal;font-family:Menlo,'DejaVu Sans Mono',consolas,'Courier New',monospace\">------------------------------------------------------------\n",
       "</pre>\n"
      ],
      "text/plain": [
       "------------------------------------------------------------\n"
      ]
     },
     "metadata": {},
     "output_type": "display_data"
    },
    {
     "data": {
      "text/html": [
       "<pre style=\"white-space:pre;overflow-x:auto;line-height:normal;font-family:Menlo,'DejaVu Sans Mono',consolas,'Courier New',monospace\">Invoking EP with record\n",
       "</pre>\n"
      ],
      "text/plain": [
       "Invoking EP with record\n"
      ]
     },
     "metadata": {},
     "output_type": "display_data"
    },
    {
     "data": {
      "text/html": [
       "<pre style=\"white-space:pre;overflow-x:auto;line-height:normal;font-family:Menlo,'DejaVu Sans Mono',consolas,'Courier New',monospace\"><span style=\"color: #00ff00; text-decoration-color: #00ff00; font-style: italic\">True</span>: <span style=\"color: #008080; text-decoration-color: #008080; font-weight: bold\">8.0</span> | Predicted: <span style=\"font-weight: bold\">{</span><span style=\"color: #008000; text-decoration-color: #008000\">\"result\"</span>: <span style=\"font-weight: bold\">[</span><span style=\"color: #008080; text-decoration-color: #008080; font-weight: bold\">7.787441253662109</span><span style=\"font-weight: bold\">]}</span>\n",
       "</pre>\n"
      ],
      "text/plain": [
       "\u001b[3;92mTrue\u001b[0m: \u001b[1;36m8.0\u001b[0m | Predicted: \u001b[1m{\u001b[0m\u001b[32m\"result\"\u001b[0m: \u001b[1m[\u001b[0m\u001b[1;36m7.787441253662109\u001b[0m\u001b[1m]\u001b[0m\u001b[1m}\u001b[0m\n"
      ]
     },
     "metadata": {},
     "output_type": "display_data"
    },
    {
     "data": {
      "text/html": [
       "<pre style=\"white-space:pre;overflow-x:auto;line-height:normal;font-family:Menlo,'DejaVu Sans Mono',consolas,'Courier New',monospace\">Invoking EP with record\n",
       "</pre>\n"
      ],
      "text/plain": [
       "Invoking EP with record\n"
      ]
     },
     "metadata": {},
     "output_type": "display_data"
    },
    {
     "data": {
      "text/html": [
       "<pre style=\"white-space:pre;overflow-x:auto;line-height:normal;font-family:Menlo,'DejaVu Sans Mono',consolas,'Courier New',monospace\"><span style=\"color: #00ff00; text-decoration-color: #00ff00; font-style: italic\">True</span>: <span style=\"color: #008080; text-decoration-color: #008080; font-weight: bold\">20.0</span> | Predicted: <span style=\"font-weight: bold\">{</span><span style=\"color: #008000; text-decoration-color: #008000\">\"result\"</span>: <span style=\"font-weight: bold\">[</span><span style=\"color: #008080; text-decoration-color: #008080; font-weight: bold\">10.294349670410156</span><span style=\"font-weight: bold\">]}</span>\n",
       "</pre>\n"
      ],
      "text/plain": [
       "\u001b[3;92mTrue\u001b[0m: \u001b[1;36m20.0\u001b[0m | Predicted: \u001b[1m{\u001b[0m\u001b[32m\"result\"\u001b[0m: \u001b[1m[\u001b[0m\u001b[1;36m10.294349670410156\u001b[0m\u001b[1m]\u001b[0m\u001b[1m}\u001b[0m\n"
      ]
     },
     "metadata": {},
     "output_type": "display_data"
    },
    {
     "data": {
      "text/html": [
       "<pre style=\"white-space:pre;overflow-x:auto;line-height:normal;font-family:Menlo,'DejaVu Sans Mono',consolas,'Courier New',monospace\">Invoking EP with record\n",
       "</pre>\n"
      ],
      "text/plain": [
       "Invoking EP with record\n"
      ]
     },
     "metadata": {},
     "output_type": "display_data"
    },
    {
     "data": {
      "text/html": [
       "<pre style=\"white-space:pre;overflow-x:auto;line-height:normal;font-family:Menlo,'DejaVu Sans Mono',consolas,'Courier New',monospace\"><span style=\"color: #00ff00; text-decoration-color: #00ff00; font-style: italic\">True</span>: <span style=\"color: #008080; text-decoration-color: #008080; font-weight: bold\">7.0</span> | Predicted: <span style=\"font-weight: bold\">{</span><span style=\"color: #008000; text-decoration-color: #008000\">\"result\"</span>: <span style=\"font-weight: bold\">[</span><span style=\"color: #008080; text-decoration-color: #008080; font-weight: bold\">6.808436870574951</span><span style=\"font-weight: bold\">]}</span>\n",
       "</pre>\n"
      ],
      "text/plain": [
       "\u001b[3;92mTrue\u001b[0m: \u001b[1;36m7.0\u001b[0m | Predicted: \u001b[1m{\u001b[0m\u001b[32m\"result\"\u001b[0m: \u001b[1m[\u001b[0m\u001b[1;36m6.808436870574951\u001b[0m\u001b[1m]\u001b[0m\u001b[1m}\u001b[0m\n"
      ]
     },
     "metadata": {},
     "output_type": "display_data"
    },
    {
     "data": {
      "text/html": [
       "<pre style=\"white-space:pre;overflow-x:auto;line-height:normal;font-family:Menlo,'DejaVu Sans Mono',consolas,'Courier New',monospace\">Invoking EP with record\n",
       "</pre>\n"
      ],
      "text/plain": [
       "Invoking EP with record\n"
      ]
     },
     "metadata": {},
     "output_type": "display_data"
    },
    {
     "data": {
      "text/html": [
       "<pre style=\"white-space:pre;overflow-x:auto;line-height:normal;font-family:Menlo,'DejaVu Sans Mono',consolas,'Courier New',monospace\"><span style=\"color: #00ff00; text-decoration-color: #00ff00; font-style: italic\">True</span>: <span style=\"color: #008080; text-decoration-color: #008080; font-weight: bold\">8.0</span> | Predicted: <span style=\"font-weight: bold\">{</span><span style=\"color: #008000; text-decoration-color: #008000\">\"result\"</span>: <span style=\"font-weight: bold\">[</span><span style=\"color: #008080; text-decoration-color: #008080; font-weight: bold\">7.811557292938232</span><span style=\"font-weight: bold\">]}</span>\n",
       "</pre>\n"
      ],
      "text/plain": [
       "\u001b[3;92mTrue\u001b[0m: \u001b[1;36m8.0\u001b[0m | Predicted: \u001b[1m{\u001b[0m\u001b[32m\"result\"\u001b[0m: \u001b[1m[\u001b[0m\u001b[1;36m7.811557292938232\u001b[0m\u001b[1m]\u001b[0m\u001b[1m}\u001b[0m\n"
      ]
     },
     "metadata": {},
     "output_type": "display_data"
    },
    {
     "data": {
      "text/html": [
       "<pre style=\"white-space:pre;overflow-x:auto;line-height:normal;font-family:Menlo,'DejaVu Sans Mono',consolas,'Courier New',monospace\">Invoking EP with record\n",
       "</pre>\n"
      ],
      "text/plain": [
       "Invoking EP with record\n"
      ]
     },
     "metadata": {},
     "output_type": "display_data"
    },
    {
     "data": {
      "text/html": [
       "<pre style=\"white-space:pre;overflow-x:auto;line-height:normal;font-family:Menlo,'DejaVu Sans Mono',consolas,'Courier New',monospace\"><span style=\"color: #00ff00; text-decoration-color: #00ff00; font-style: italic\">True</span>: <span style=\"color: #008080; text-decoration-color: #008080; font-weight: bold\">5.0</span> | Predicted: <span style=\"font-weight: bold\">{</span><span style=\"color: #008000; text-decoration-color: #008000\">\"result\"</span>: <span style=\"font-weight: bold\">[</span><span style=\"color: #008080; text-decoration-color: #008080; font-weight: bold\">5.372518062591553</span><span style=\"font-weight: bold\">]}</span>\n",
       "</pre>\n"
      ],
      "text/plain": [
       "\u001b[3;92mTrue\u001b[0m: \u001b[1;36m5.0\u001b[0m | Predicted: \u001b[1m{\u001b[0m\u001b[32m\"result\"\u001b[0m: \u001b[1m[\u001b[0m\u001b[1;36m5.372518062591553\u001b[0m\u001b[1m]\u001b[0m\u001b[1m}\u001b[0m\n"
      ]
     },
     "metadata": {},
     "output_type": "display_data"
    },
    {
     "data": {
      "text/html": [
       "<pre style=\"white-space:pre;overflow-x:auto;line-height:normal;font-family:Menlo,'DejaVu Sans Mono',consolas,'Courier New',monospace\">Invoking EP with record\n",
       "</pre>\n"
      ],
      "text/plain": [
       "Invoking EP with record\n"
      ]
     },
     "metadata": {},
     "output_type": "display_data"
    },
    {
     "data": {
      "text/html": [
       "<pre style=\"white-space:pre;overflow-x:auto;line-height:normal;font-family:Menlo,'DejaVu Sans Mono',consolas,'Courier New',monospace\"><span style=\"color: #00ff00; text-decoration-color: #00ff00; font-style: italic\">True</span>: <span style=\"color: #008080; text-decoration-color: #008080; font-weight: bold\">15.0</span> | Predicted: <span style=\"font-weight: bold\">{</span><span style=\"color: #008000; text-decoration-color: #008000\">\"result\"</span>: <span style=\"font-weight: bold\">[</span><span style=\"color: #008080; text-decoration-color: #008080; font-weight: bold\">11.742025375366211</span><span style=\"font-weight: bold\">]}</span>\n",
       "</pre>\n"
      ],
      "text/plain": [
       "\u001b[3;92mTrue\u001b[0m: \u001b[1;36m15.0\u001b[0m | Predicted: \u001b[1m{\u001b[0m\u001b[32m\"result\"\u001b[0m: \u001b[1m[\u001b[0m\u001b[1;36m11.742025375366211\u001b[0m\u001b[1m]\u001b[0m\u001b[1m}\u001b[0m\n"
      ]
     },
     "metadata": {},
     "output_type": "display_data"
    },
    {
     "data": {
      "text/html": [
       "<pre style=\"white-space:pre;overflow-x:auto;line-height:normal;font-family:Menlo,'DejaVu Sans Mono',consolas,'Courier New',monospace\">Invoking EP with record\n",
       "</pre>\n"
      ],
      "text/plain": [
       "Invoking EP with record\n"
      ]
     },
     "metadata": {},
     "output_type": "display_data"
    },
    {
     "data": {
      "text/html": [
       "<pre style=\"white-space:pre;overflow-x:auto;line-height:normal;font-family:Menlo,'DejaVu Sans Mono',consolas,'Courier New',monospace\"><span style=\"color: #00ff00; text-decoration-color: #00ff00; font-style: italic\">True</span>: <span style=\"color: #008080; text-decoration-color: #008080; font-weight: bold\">10.0</span> | Predicted: <span style=\"font-weight: bold\">{</span><span style=\"color: #008000; text-decoration-color: #008000\">\"result\"</span>: <span style=\"font-weight: bold\">[</span><span style=\"color: #008080; text-decoration-color: #008080; font-weight: bold\">8.81834888458252</span><span style=\"font-weight: bold\">]}</span>\n",
       "</pre>\n"
      ],
      "text/plain": [
       "\u001b[3;92mTrue\u001b[0m: \u001b[1;36m10.0\u001b[0m | Predicted: \u001b[1m{\u001b[0m\u001b[32m\"result\"\u001b[0m: \u001b[1m[\u001b[0m\u001b[1;36m8.81834888458252\u001b[0m\u001b[1m]\u001b[0m\u001b[1m}\u001b[0m\n"
      ]
     },
     "metadata": {},
     "output_type": "display_data"
    },
    {
     "data": {
      "text/html": [
       "<pre style=\"white-space:pre;overflow-x:auto;line-height:normal;font-family:Menlo,'DejaVu Sans Mono',consolas,'Courier New',monospace\">Invoking EP with record\n",
       "</pre>\n"
      ],
      "text/plain": [
       "Invoking EP with record\n"
      ]
     },
     "metadata": {},
     "output_type": "display_data"
    },
    {
     "data": {
      "text/html": [
       "<pre style=\"white-space:pre;overflow-x:auto;line-height:normal;font-family:Menlo,'DejaVu Sans Mono',consolas,'Courier New',monospace\"><span style=\"color: #00ff00; text-decoration-color: #00ff00; font-style: italic\">True</span>: <span style=\"color: #008080; text-decoration-color: #008080; font-weight: bold\">9.0</span> | Predicted: <span style=\"font-weight: bold\">{</span><span style=\"color: #008000; text-decoration-color: #008000\">\"result\"</span>: <span style=\"font-weight: bold\">[</span><span style=\"color: #008080; text-decoration-color: #008080; font-weight: bold\">7.989439964294434</span><span style=\"font-weight: bold\">]}</span>\n",
       "</pre>\n"
      ],
      "text/plain": [
       "\u001b[3;92mTrue\u001b[0m: \u001b[1;36m9.0\u001b[0m | Predicted: \u001b[1m{\u001b[0m\u001b[32m\"result\"\u001b[0m: \u001b[1m[\u001b[0m\u001b[1;36m7.989439964294434\u001b[0m\u001b[1m]\u001b[0m\u001b[1m}\u001b[0m\n"
      ]
     },
     "metadata": {},
     "output_type": "display_data"
    },
    {
     "data": {
      "text/html": [
       "<pre style=\"white-space:pre;overflow-x:auto;line-height:normal;font-family:Menlo,'DejaVu Sans Mono',consolas,'Courier New',monospace\">Invoking EP with record\n",
       "</pre>\n"
      ],
      "text/plain": [
       "Invoking EP with record\n"
      ]
     },
     "metadata": {},
     "output_type": "display_data"
    },
    {
     "data": {
      "text/html": [
       "<pre style=\"white-space:pre;overflow-x:auto;line-height:normal;font-family:Menlo,'DejaVu Sans Mono',consolas,'Courier New',monospace\"><span style=\"color: #00ff00; text-decoration-color: #00ff00; font-style: italic\">True</span>: <span style=\"color: #008080; text-decoration-color: #008080; font-weight: bold\">14.0</span> | Predicted: <span style=\"font-weight: bold\">{</span><span style=\"color: #008000; text-decoration-color: #008000\">\"result\"</span>: <span style=\"font-weight: bold\">[</span><span style=\"color: #008080; text-decoration-color: #008080; font-weight: bold\">9.012625694274902</span><span style=\"font-weight: bold\">]}</span>\n",
       "</pre>\n"
      ],
      "text/plain": [
       "\u001b[3;92mTrue\u001b[0m: \u001b[1;36m14.0\u001b[0m | Predicted: \u001b[1m{\u001b[0m\u001b[32m\"result\"\u001b[0m: \u001b[1m[\u001b[0m\u001b[1;36m9.012625694274902\u001b[0m\u001b[1m]\u001b[0m\u001b[1m}\u001b[0m\n"
      ]
     },
     "metadata": {},
     "output_type": "display_data"
    },
    {
     "data": {
      "text/html": [
       "<pre style=\"white-space:pre;overflow-x:auto;line-height:normal;font-family:Menlo,'DejaVu Sans Mono',consolas,'Courier New',monospace\">Invoking EP with record\n",
       "</pre>\n"
      ],
      "text/plain": [
       "Invoking EP with record\n"
      ]
     },
     "metadata": {},
     "output_type": "display_data"
    },
    {
     "data": {
      "text/html": [
       "<pre style=\"white-space:pre;overflow-x:auto;line-height:normal;font-family:Menlo,'DejaVu Sans Mono',consolas,'Courier New',monospace\"><span style=\"color: #00ff00; text-decoration-color: #00ff00; font-style: italic\">True</span>: <span style=\"color: #008080; text-decoration-color: #008080; font-weight: bold\">11.0</span> | Predicted: <span style=\"font-weight: bold\">{</span><span style=\"color: #008000; text-decoration-color: #008000\">\"result\"</span>: <span style=\"font-weight: bold\">[</span><span style=\"color: #008080; text-decoration-color: #008080; font-weight: bold\">8.170607566833496</span><span style=\"font-weight: bold\">]}</span>\n",
       "</pre>\n"
      ],
      "text/plain": [
       "\u001b[3;92mTrue\u001b[0m: \u001b[1;36m11.0\u001b[0m | Predicted: \u001b[1m{\u001b[0m\u001b[32m\"result\"\u001b[0m: \u001b[1m[\u001b[0m\u001b[1;36m8.170607566833496\u001b[0m\u001b[1m]\u001b[0m\u001b[1m}\u001b[0m\n"
      ]
     },
     "metadata": {},
     "output_type": "display_data"
    }
   ],
   "source": [
    "import os\n",
    "import json\n",
    "import numpy as np\n",
    "import pandas as pd\n",
    "from sagemaker.predictor import Predictor\n",
    "from sagemaker.serializers import CSVSerializer\n",
    "from time import time, sleep\n",
    "\n",
    "runtime_sm_client = boto3.client(\"sagemaker-runtime\")\n",
    "\n",
    "LOCALDIR = \".\"\n",
    "\n",
    "local_test_dataset = f\"{LOCALDIR}/test.csv\"\n",
    "\n",
    "test_s3uri = s3_path_join(f\"s3://{bucket}/{prefix}\", \"data/test/test.csv\")\n",
    "\n",
    "# Download test data from S3\n",
    "if not os.path.exists(local_test_dataset):\n",
    "    print(f\"Downloading test data to {LOCALDIR} from {test_s3uri} ...\")\n",
    "    S3Downloader.download(test_s3uri, local_path=LOCALDIR, sagemaker_session=sm_session)\n",
    "else:\n",
    "    print(f\"Test file: {local_test_dataset} exists!\")\n",
    "\n",
    "limit = 10\n",
    "i = 0\n",
    "\n",
    "with open(local_test_dataset, \"r\") as _f:\n",
    "    for row in _f:\n",
    "        if i == 0:\n",
    "            print(f\"Headers\")\n",
    "            print(row)\n",
    "            print(\"---\" * 20)\n",
    "            i += 1\n",
    "        elif i <= limit:\n",
    "            row = row.rstrip(\"\\n\")\n",
    "            splits = row.split(\",\")\n",
    "            # Remove the target column (first column)\n",
    "            label = splits.pop(0)\n",
    "            input_cols = \",\".join(s for s in splits)\n",
    "            prediction = None\n",
    "            try:\n",
    "                print(f\"Invoking EP with record\")\n",
    "                # print(input_cols)\n",
    "                prediction = runtime_sm_client.invoke_endpoint(\n",
    "                    EndpointName=endpoint_name,\n",
    "                    ContentType=\"text/csv\",\n",
    "                    Body=input_cols,\n",
    "                )\n",
    "                # print(prediction[\"Body\"].read())\n",
    "                response = prediction[\"Body\"].read().decode(\"utf-8\")\n",
    "                # print(response)\n",
    "                print(f\"True: {label} | Predicted: {response}\")\n",
    "                i += 1\n",
    "                sleep(0.5)\n",
    "            except Exception as e:\n",
    "                print(f\"Prediction error: {e}\")\n",
    "                pass"
   ]
  },
  {
   "cell_type": "code",
   "execution_count": 12,
   "id": "2b1dd365-391a-4797-b4b4-5d74e75dfd85",
   "metadata": {
    "tags": []
   },
   "outputs": [
    {
     "data": {
      "text/html": [
       "<pre style=\"white-space:pre;overflow-x:auto;line-height:normal;font-family:Menlo,'DejaVu Sans Mono',consolas,'Courier New',monospace\"><span style=\"color: #008080; text-decoration-color: #008080; font-weight: bold\">2023</span>-<span style=\"color: #008080; text-decoration-color: #008080; font-weight: bold\">03</span>-<span style=\"color: #008080; text-decoration-color: #008080; font-weight: bold\">26</span> <span style=\"color: #00ff00; text-decoration-color: #00ff00; font-weight: bold\">20:04:56</span>: <span style=\"font-weight: bold\">[</span><span style=\"color: #008080; text-decoration-color: #008080; font-weight: bold\">2023</span>-<span style=\"color: #008080; text-decoration-color: #008080; font-weight: bold\">03</span>-<span style=\"color: #008080; text-decoration-color: #008080; font-weight: bold\">26</span> <span style=\"color: #00ff00; text-decoration-color: #00ff00; font-weight: bold\">20:04:55</span> +<span style=\"color: #008080; text-decoration-color: #008080; font-weight: bold\">0000</span><span style=\"font-weight: bold\">]</span> <span style=\"font-weight: bold\">[</span><span style=\"color: #008080; text-decoration-color: #008080; font-weight: bold\">10</span><span style=\"font-weight: bold\">]</span> <span style=\"font-weight: bold\">[</span>INFO<span style=\"font-weight: bold\">]</span> Starting gunicorn <span style=\"color: #008080; text-decoration-color: #008080; font-weight: bold\">20.1</span>.<span style=\"color: #008080; text-decoration-color: #008080; font-weight: bold\">0</span>\n",
       "</pre>\n"
      ],
      "text/plain": [
       "\u001b[1;36m2023\u001b[0m-\u001b[1;36m03\u001b[0m-\u001b[1;36m26\u001b[0m \u001b[1;92m20:04:56\u001b[0m: \u001b[1m[\u001b[0m\u001b[1;36m2023\u001b[0m-\u001b[1;36m03\u001b[0m-\u001b[1;36m26\u001b[0m \u001b[1;92m20:04:55\u001b[0m +\u001b[1;36m0000\u001b[0m\u001b[1m]\u001b[0m \u001b[1m[\u001b[0m\u001b[1;36m10\u001b[0m\u001b[1m]\u001b[0m \u001b[1m[\u001b[0mINFO\u001b[1m]\u001b[0m Starting gunicorn \u001b[1;36m20.1\u001b[0m.\u001b[1;36m0\u001b[0m\n"
      ]
     },
     "metadata": {},
     "output_type": "display_data"
    },
    {
     "data": {
      "text/html": [
       "<pre style=\"white-space:pre;overflow-x:auto;line-height:normal;font-family:Menlo,'DejaVu Sans Mono',consolas,'Courier New',monospace\"><span style=\"color: #008080; text-decoration-color: #008080; font-weight: bold\">2023</span>-<span style=\"color: #008080; text-decoration-color: #008080; font-weight: bold\">03</span>-<span style=\"color: #008080; text-decoration-color: #008080; font-weight: bold\">26</span> <span style=\"color: #00ff00; text-decoration-color: #00ff00; font-weight: bold\">20:04:56</span>: <span style=\"font-weight: bold\">[</span><span style=\"color: #008080; text-decoration-color: #008080; font-weight: bold\">2023</span>-<span style=\"color: #008080; text-decoration-color: #008080; font-weight: bold\">03</span>-<span style=\"color: #008080; text-decoration-color: #008080; font-weight: bold\">26</span> <span style=\"color: #00ff00; text-decoration-color: #00ff00; font-weight: bold\">20:04:55</span> +<span style=\"color: #008080; text-decoration-color: #008080; font-weight: bold\">0000</span><span style=\"font-weight: bold\">]</span> <span style=\"font-weight: bold\">[</span><span style=\"color: #008080; text-decoration-color: #008080; font-weight: bold\">10</span><span style=\"font-weight: bold\">]</span> <span style=\"font-weight: bold\">[</span>INFO<span style=\"font-weight: bold\">]</span> Listening at: unix:<span style=\"color: #800080; text-decoration-color: #800080\">/tmp/</span><span style=\"color: #ff00ff; text-decoration-color: #ff00ff\">gunicorn.sock</span> <span style=\"font-weight: bold\">(</span><span style=\"color: #008080; text-decoration-color: #008080; font-weight: bold\">10</span><span style=\"font-weight: bold\">)</span>\n",
       "</pre>\n"
      ],
      "text/plain": [
       "\u001b[1;36m2023\u001b[0m-\u001b[1;36m03\u001b[0m-\u001b[1;36m26\u001b[0m \u001b[1;92m20:04:56\u001b[0m: \u001b[1m[\u001b[0m\u001b[1;36m2023\u001b[0m-\u001b[1;36m03\u001b[0m-\u001b[1;36m26\u001b[0m \u001b[1;92m20:04:55\u001b[0m +\u001b[1;36m0000\u001b[0m\u001b[1m]\u001b[0m \u001b[1m[\u001b[0m\u001b[1;36m10\u001b[0m\u001b[1m]\u001b[0m \u001b[1m[\u001b[0mINFO\u001b[1m]\u001b[0m Listening at: unix:\u001b[35m/tmp/\u001b[0m\u001b[95mgunicorn.sock\u001b[0m \u001b[1m(\u001b[0m\u001b[1;36m10\u001b[0m\u001b[1m)\u001b[0m\n"
      ]
     },
     "metadata": {},
     "output_type": "display_data"
    },
    {
     "data": {
      "text/html": [
       "<pre style=\"white-space:pre;overflow-x:auto;line-height:normal;font-family:Menlo,'DejaVu Sans Mono',consolas,'Courier New',monospace\"><span style=\"color: #008080; text-decoration-color: #008080; font-weight: bold\">2023</span>-<span style=\"color: #008080; text-decoration-color: #008080; font-weight: bold\">03</span>-<span style=\"color: #008080; text-decoration-color: #008080; font-weight: bold\">26</span> <span style=\"color: #00ff00; text-decoration-color: #00ff00; font-weight: bold\">20:04:56</span>: <span style=\"font-weight: bold\">[</span><span style=\"color: #008080; text-decoration-color: #008080; font-weight: bold\">2023</span>-<span style=\"color: #008080; text-decoration-color: #008080; font-weight: bold\">03</span>-<span style=\"color: #008080; text-decoration-color: #008080; font-weight: bold\">26</span> <span style=\"color: #00ff00; text-decoration-color: #00ff00; font-weight: bold\">20:04:55</span> +<span style=\"color: #008080; text-decoration-color: #008080; font-weight: bold\">0000</span><span style=\"font-weight: bold\">]</span> <span style=\"font-weight: bold\">[</span><span style=\"color: #008080; text-decoration-color: #008080; font-weight: bold\">10</span><span style=\"font-weight: bold\">]</span> <span style=\"font-weight: bold\">[</span>INFO<span style=\"font-weight: bold\">]</span> Using worker: sync\n",
       "</pre>\n"
      ],
      "text/plain": [
       "\u001b[1;36m2023\u001b[0m-\u001b[1;36m03\u001b[0m-\u001b[1;36m26\u001b[0m \u001b[1;92m20:04:56\u001b[0m: \u001b[1m[\u001b[0m\u001b[1;36m2023\u001b[0m-\u001b[1;36m03\u001b[0m-\u001b[1;36m26\u001b[0m \u001b[1;92m20:04:55\u001b[0m +\u001b[1;36m0000\u001b[0m\u001b[1m]\u001b[0m \u001b[1m[\u001b[0m\u001b[1;36m10\u001b[0m\u001b[1m]\u001b[0m \u001b[1m[\u001b[0mINFO\u001b[1m]\u001b[0m Using worker: sync\n"
      ]
     },
     "metadata": {},
     "output_type": "display_data"
    },
    {
     "data": {
      "text/html": [
       "<pre style=\"white-space:pre;overflow-x:auto;line-height:normal;font-family:Menlo,'DejaVu Sans Mono',consolas,'Courier New',monospace\"><span style=\"color: #008080; text-decoration-color: #008080; font-weight: bold\">2023</span>-<span style=\"color: #008080; text-decoration-color: #008080; font-weight: bold\">03</span>-<span style=\"color: #008080; text-decoration-color: #008080; font-weight: bold\">26</span> <span style=\"color: #00ff00; text-decoration-color: #00ff00; font-weight: bold\">20:04:56</span>: <span style=\"font-weight: bold\">[</span><span style=\"color: #008080; text-decoration-color: #008080; font-weight: bold\">2023</span>-<span style=\"color: #008080; text-decoration-color: #008080; font-weight: bold\">03</span>-<span style=\"color: #008080; text-decoration-color: #008080; font-weight: bold\">26</span> <span style=\"color: #00ff00; text-decoration-color: #00ff00; font-weight: bold\">20:04:55</span> +<span style=\"color: #008080; text-decoration-color: #008080; font-weight: bold\">0000</span><span style=\"font-weight: bold\">]</span> <span style=\"font-weight: bold\">[</span><span style=\"color: #008080; text-decoration-color: #008080; font-weight: bold\">12</span><span style=\"font-weight: bold\">]</span> <span style=\"font-weight: bold\">[</span>INFO<span style=\"font-weight: bold\">]</span> Booting worker with pid: <span style=\"color: #008080; text-decoration-color: #008080; font-weight: bold\">12</span>\n",
       "</pre>\n"
      ],
      "text/plain": [
       "\u001b[1;36m2023\u001b[0m-\u001b[1;36m03\u001b[0m-\u001b[1;36m26\u001b[0m \u001b[1;92m20:04:56\u001b[0m: \u001b[1m[\u001b[0m\u001b[1;36m2023\u001b[0m-\u001b[1;36m03\u001b[0m-\u001b[1;36m26\u001b[0m \u001b[1;92m20:04:55\u001b[0m +\u001b[1;36m0000\u001b[0m\u001b[1m]\u001b[0m \u001b[1m[\u001b[0m\u001b[1;36m12\u001b[0m\u001b[1m]\u001b[0m \u001b[1m[\u001b[0mINFO\u001b[1m]\u001b[0m Booting worker with pid: \u001b[1;36m12\u001b[0m\n"
      ]
     },
     "metadata": {},
     "output_type": "display_data"
    },
    {
     "data": {
      "text/html": [
       "<pre style=\"white-space:pre;overflow-x:auto;line-height:normal;font-family:Menlo,'DejaVu Sans Mono',consolas,'Courier New',monospace\"><span style=\"color: #008080; text-decoration-color: #008080; font-weight: bold\">2023</span>-<span style=\"color: #008080; text-decoration-color: #008080; font-weight: bold\">03</span>-<span style=\"color: #008080; text-decoration-color: #008080; font-weight: bold\">26</span> <span style=\"color: #00ff00; text-decoration-color: #00ff00; font-weight: bold\">20:04:56</span>: <span style=\"font-weight: bold\">[</span><span style=\"color: #008080; text-decoration-color: #008080; font-weight: bold\">2023</span>-<span style=\"color: #008080; text-decoration-color: #008080; font-weight: bold\">03</span>-<span style=\"color: #008080; text-decoration-color: #008080; font-weight: bold\">26</span> <span style=\"color: #00ff00; text-decoration-color: #00ff00; font-weight: bold\">20:04:56</span> +<span style=\"color: #008080; text-decoration-color: #008080; font-weight: bold\">0000</span><span style=\"font-weight: bold\">]</span> <span style=\"font-weight: bold\">[</span><span style=\"color: #008080; text-decoration-color: #008080; font-weight: bold\">20</span><span style=\"font-weight: bold\">]</span> <span style=\"font-weight: bold\">[</span>INFO<span style=\"font-weight: bold\">]</span> Booting worker with pid: <span style=\"color: #008080; text-decoration-color: #008080; font-weight: bold\">20</span>\n",
       "</pre>\n"
      ],
      "text/plain": [
       "\u001b[1;36m2023\u001b[0m-\u001b[1;36m03\u001b[0m-\u001b[1;36m26\u001b[0m \u001b[1;92m20:04:56\u001b[0m: \u001b[1m[\u001b[0m\u001b[1;36m2023\u001b[0m-\u001b[1;36m03\u001b[0m-\u001b[1;36m26\u001b[0m \u001b[1;92m20:04:56\u001b[0m +\u001b[1;36m0000\u001b[0m\u001b[1m]\u001b[0m \u001b[1m[\u001b[0m\u001b[1;36m20\u001b[0m\u001b[1m]\u001b[0m \u001b[1m[\u001b[0mINFO\u001b[1m]\u001b[0m Booting worker with pid: \u001b[1;36m20\u001b[0m\n"
      ]
     },
     "metadata": {},
     "output_type": "display_data"
    },
    {
     "data": {
      "text/html": [
       "<pre style=\"white-space:pre;overflow-x:auto;line-height:normal;font-family:Menlo,'DejaVu Sans Mono',consolas,'Courier New',monospace\"><span style=\"color: #008080; text-decoration-color: #008080; font-weight: bold\">2023</span>-<span style=\"color: #008080; text-decoration-color: #008080; font-weight: bold\">03</span>-<span style=\"color: #008080; text-decoration-color: #008080; font-weight: bold\">26</span> <span style=\"color: #00ff00; text-decoration-color: #00ff00; font-weight: bold\">20:04:56</span>: <span style=\"font-weight: bold\">[</span><span style=\"color: #008080; text-decoration-color: #008080; font-weight: bold\">2023</span>-<span style=\"color: #008080; text-decoration-color: #008080; font-weight: bold\">03</span>-<span style=\"color: #008080; text-decoration-color: #008080; font-weight: bold\">26</span> <span style=\"color: #00ff00; text-decoration-color: #00ff00; font-weight: bold\">20:04:56</span> +<span style=\"color: #008080; text-decoration-color: #008080; font-weight: bold\">0000</span><span style=\"font-weight: bold\">]</span> <span style=\"font-weight: bold\">[</span><span style=\"color: #008080; text-decoration-color: #008080; font-weight: bold\">28</span><span style=\"font-weight: bold\">]</span> <span style=\"font-weight: bold\">[</span>INFO<span style=\"font-weight: bold\">]</span> Booting worker with pid: <span style=\"color: #008080; text-decoration-color: #008080; font-weight: bold\">28</span>\n",
       "</pre>\n"
      ],
      "text/plain": [
       "\u001b[1;36m2023\u001b[0m-\u001b[1;36m03\u001b[0m-\u001b[1;36m26\u001b[0m \u001b[1;92m20:04:56\u001b[0m: \u001b[1m[\u001b[0m\u001b[1;36m2023\u001b[0m-\u001b[1;36m03\u001b[0m-\u001b[1;36m26\u001b[0m \u001b[1;92m20:04:56\u001b[0m +\u001b[1;36m0000\u001b[0m\u001b[1m]\u001b[0m \u001b[1m[\u001b[0m\u001b[1;36m28\u001b[0m\u001b[1m]\u001b[0m \u001b[1m[\u001b[0mINFO\u001b[1m]\u001b[0m Booting worker with pid: \u001b[1;36m28\u001b[0m\n"
      ]
     },
     "metadata": {},
     "output_type": "display_data"
    },
    {
     "data": {
      "text/html": [
       "<pre style=\"white-space:pre;overflow-x:auto;line-height:normal;font-family:Menlo,'DejaVu Sans Mono',consolas,'Courier New',monospace\"><span style=\"color: #008080; text-decoration-color: #008080; font-weight: bold\">2023</span>-<span style=\"color: #008080; text-decoration-color: #008080; font-weight: bold\">03</span>-<span style=\"color: #008080; text-decoration-color: #008080; font-weight: bold\">26</span> <span style=\"color: #00ff00; text-decoration-color: #00ff00; font-weight: bold\">20:04:56</span>: <span style=\"font-weight: bold\">[</span><span style=\"color: #008080; text-decoration-color: #008080; font-weight: bold\">2023</span>-<span style=\"color: #008080; text-decoration-color: #008080; font-weight: bold\">03</span>-<span style=\"color: #008080; text-decoration-color: #008080; font-weight: bold\">26</span> <span style=\"color: #00ff00; text-decoration-color: #00ff00; font-weight: bold\">20:04:56</span> +<span style=\"color: #008080; text-decoration-color: #008080; font-weight: bold\">0000</span><span style=\"font-weight: bold\">]</span> <span style=\"font-weight: bold\">[</span><span style=\"color: #008080; text-decoration-color: #008080; font-weight: bold\">36</span><span style=\"font-weight: bold\">]</span> <span style=\"font-weight: bold\">[</span>INFO<span style=\"font-weight: bold\">]</span> Booting worker with pid: <span style=\"color: #008080; text-decoration-color: #008080; font-weight: bold\">36</span>\n",
       "</pre>\n"
      ],
      "text/plain": [
       "\u001b[1;36m2023\u001b[0m-\u001b[1;36m03\u001b[0m-\u001b[1;36m26\u001b[0m \u001b[1;92m20:04:56\u001b[0m: \u001b[1m[\u001b[0m\u001b[1;36m2023\u001b[0m-\u001b[1;36m03\u001b[0m-\u001b[1;36m26\u001b[0m \u001b[1;92m20:04:56\u001b[0m +\u001b[1;36m0000\u001b[0m\u001b[1m]\u001b[0m \u001b[1m[\u001b[0m\u001b[1;36m36\u001b[0m\u001b[1m]\u001b[0m \u001b[1m[\u001b[0mINFO\u001b[1m]\u001b[0m Booting worker with pid: \u001b[1;36m36\u001b[0m\n"
      ]
     },
     "metadata": {},
     "output_type": "display_data"
    },
    {
     "data": {
      "text/html": [
       "<pre style=\"white-space:pre;overflow-x:auto;line-height:normal;font-family:Menlo,'DejaVu Sans Mono',consolas,'Courier New',monospace\"><span style=\"color: #008080; text-decoration-color: #008080; font-weight: bold\">2023</span>-<span style=\"color: #008080; text-decoration-color: #008080; font-weight: bold\">03</span>-<span style=\"color: #008080; text-decoration-color: #008080; font-weight: bold\">26</span> <span style=\"color: #00ff00; text-decoration-color: #00ff00; font-weight: bold\">20:04:56</span>: <span style=\"font-weight: bold\">[</span><span style=\"color: #008080; text-decoration-color: #008080; font-weight: bold\">2023</span>-<span style=\"color: #008080; text-decoration-color: #008080; font-weight: bold\">03</span>-<span style=\"color: #008080; text-decoration-color: #008080; font-weight: bold\">26</span> <span style=\"color: #00ff00; text-decoration-color: #00ff00; font-weight: bold\">20:04:56</span> +<span style=\"color: #008080; text-decoration-color: #008080; font-weight: bold\">0000</span><span style=\"font-weight: bold\">]</span> <span style=\"font-weight: bold\">[</span><span style=\"color: #008080; text-decoration-color: #008080; font-weight: bold\">44</span><span style=\"font-weight: bold\">]</span> <span style=\"font-weight: bold\">[</span>INFO<span style=\"font-weight: bold\">]</span> Booting worker with pid: <span style=\"color: #008080; text-decoration-color: #008080; font-weight: bold\">44</span>\n",
       "</pre>\n"
      ],
      "text/plain": [
       "\u001b[1;36m2023\u001b[0m-\u001b[1;36m03\u001b[0m-\u001b[1;36m26\u001b[0m \u001b[1;92m20:04:56\u001b[0m: \u001b[1m[\u001b[0m\u001b[1;36m2023\u001b[0m-\u001b[1;36m03\u001b[0m-\u001b[1;36m26\u001b[0m \u001b[1;92m20:04:56\u001b[0m +\u001b[1;36m0000\u001b[0m\u001b[1m]\u001b[0m \u001b[1m[\u001b[0m\u001b[1;36m44\u001b[0m\u001b[1m]\u001b[0m \u001b[1m[\u001b[0mINFO\u001b[1m]\u001b[0m Booting worker with pid: \u001b[1;36m44\u001b[0m\n"
      ]
     },
     "metadata": {},
     "output_type": "display_data"
    },
    {
     "data": {
      "text/html": [
       "<pre style=\"white-space:pre;overflow-x:auto;line-height:normal;font-family:Menlo,'DejaVu Sans Mono',consolas,'Courier New',monospace\"><span style=\"color: #008080; text-decoration-color: #008080; font-weight: bold\">2023</span>-<span style=\"color: #008080; text-decoration-color: #008080; font-weight: bold\">03</span>-<span style=\"color: #008080; text-decoration-color: #008080; font-weight: bold\">26</span> <span style=\"color: #00ff00; text-decoration-color: #00ff00; font-weight: bold\">20:04:56</span>: <span style=\"font-weight: bold\">[</span><span style=\"color: #008080; text-decoration-color: #008080; font-weight: bold\">2023</span>-<span style=\"color: #008080; text-decoration-color: #008080; font-weight: bold\">03</span>-<span style=\"color: #008080; text-decoration-color: #008080; font-weight: bold\">26</span> <span style=\"color: #00ff00; text-decoration-color: #00ff00; font-weight: bold\">20:04:56</span> +<span style=\"color: #008080; text-decoration-color: #008080; font-weight: bold\">0000</span><span style=\"font-weight: bold\">]</span> <span style=\"font-weight: bold\">[</span><span style=\"color: #008080; text-decoration-color: #008080; font-weight: bold\">45</span><span style=\"font-weight: bold\">]</span> <span style=\"font-weight: bold\">[</span>INFO<span style=\"font-weight: bold\">]</span> Booting worker with pid: <span style=\"color: #008080; text-decoration-color: #008080; font-weight: bold\">45</span>\n",
       "</pre>\n"
      ],
      "text/plain": [
       "\u001b[1;36m2023\u001b[0m-\u001b[1;36m03\u001b[0m-\u001b[1;36m26\u001b[0m \u001b[1;92m20:04:56\u001b[0m: \u001b[1m[\u001b[0m\u001b[1;36m2023\u001b[0m-\u001b[1;36m03\u001b[0m-\u001b[1;36m26\u001b[0m \u001b[1;92m20:04:56\u001b[0m +\u001b[1;36m0000\u001b[0m\u001b[1m]\u001b[0m \u001b[1m[\u001b[0m\u001b[1;36m45\u001b[0m\u001b[1m]\u001b[0m \u001b[1m[\u001b[0mINFO\u001b[1m]\u001b[0m Booting worker with pid: \u001b[1;36m45\u001b[0m\n"
      ]
     },
     "metadata": {},
     "output_type": "display_data"
    },
    {
     "data": {
      "text/html": [
       "<pre style=\"white-space:pre;overflow-x:auto;line-height:normal;font-family:Menlo,'DejaVu Sans Mono',consolas,'Courier New',monospace\"><span style=\"color: #008080; text-decoration-color: #008080; font-weight: bold\">2023</span>-<span style=\"color: #008080; text-decoration-color: #008080; font-weight: bold\">03</span>-<span style=\"color: #008080; text-decoration-color: #008080; font-weight: bold\">26</span> <span style=\"color: #00ff00; text-decoration-color: #00ff00; font-weight: bold\">20:04:56</span>: <span style=\"font-weight: bold\">[</span><span style=\"color: #008080; text-decoration-color: #008080; font-weight: bold\">2023</span>-<span style=\"color: #008080; text-decoration-color: #008080; font-weight: bold\">03</span>-<span style=\"color: #008080; text-decoration-color: #008080; font-weight: bold\">26</span> <span style=\"color: #00ff00; text-decoration-color: #00ff00; font-weight: bold\">20:04:56</span> +<span style=\"color: #008080; text-decoration-color: #008080; font-weight: bold\">0000</span><span style=\"font-weight: bold\">]</span> <span style=\"font-weight: bold\">[</span><span style=\"color: #008080; text-decoration-color: #008080; font-weight: bold\">47</span><span style=\"font-weight: bold\">]</span> <span style=\"font-weight: bold\">[</span>INFO<span style=\"font-weight: bold\">]</span> Booting worker with pid: <span style=\"color: #008080; text-decoration-color: #008080; font-weight: bold\">47</span>\n",
       "</pre>\n"
      ],
      "text/plain": [
       "\u001b[1;36m2023\u001b[0m-\u001b[1;36m03\u001b[0m-\u001b[1;36m26\u001b[0m \u001b[1;92m20:04:56\u001b[0m: \u001b[1m[\u001b[0m\u001b[1;36m2023\u001b[0m-\u001b[1;36m03\u001b[0m-\u001b[1;36m26\u001b[0m \u001b[1;92m20:04:56\u001b[0m +\u001b[1;36m0000\u001b[0m\u001b[1m]\u001b[0m \u001b[1m[\u001b[0m\u001b[1;36m47\u001b[0m\u001b[1m]\u001b[0m \u001b[1m[\u001b[0mINFO\u001b[1m]\u001b[0m Booting worker with pid: \u001b[1;36m47\u001b[0m\n"
      ]
     },
     "metadata": {},
     "output_type": "display_data"
    },
    {
     "data": {
      "text/html": [
       "<pre style=\"white-space:pre;overflow-x:auto;line-height:normal;font-family:Menlo,'DejaVu Sans Mono',consolas,'Courier New',monospace\"><span style=\"color: #008080; text-decoration-color: #008080; font-weight: bold\">2023</span>-<span style=\"color: #008080; text-decoration-color: #008080; font-weight: bold\">03</span>-<span style=\"color: #008080; text-decoration-color: #008080; font-weight: bold\">26</span> <span style=\"color: #00ff00; text-decoration-color: #00ff00; font-weight: bold\">20:05:00</span>: <span style=\"font-weight: bold\">[</span><span style=\"color: #008080; text-decoration-color: #008080; font-weight: bold\">2023</span>-<span style=\"color: #008080; text-decoration-color: #008080; font-weight: bold\">03</span>-<span style=\"color: #008080; text-decoration-color: #008080; font-weight: bold\">26</span> <span style=\"color: #00ff00; text-decoration-color: #00ff00; font-weight: bold\">20:04:56</span> +<span style=\"color: #008080; text-decoration-color: #008080; font-weight: bold\">0000</span><span style=\"font-weight: bold\">]</span> <span style=\"font-weight: bold\">[</span><span style=\"color: #008080; text-decoration-color: #008080; font-weight: bold\">46</span><span style=\"font-weight: bold\">]</span> <span style=\"font-weight: bold\">[</span>INFO<span style=\"font-weight: bold\">]</span> Booting worker with pid: <span style=\"color: #008080; text-decoration-color: #008080; font-weight: bold\">46</span>\n",
       "</pre>\n"
      ],
      "text/plain": [
       "\u001b[1;36m2023\u001b[0m-\u001b[1;36m03\u001b[0m-\u001b[1;36m26\u001b[0m \u001b[1;92m20:05:00\u001b[0m: \u001b[1m[\u001b[0m\u001b[1;36m2023\u001b[0m-\u001b[1;36m03\u001b[0m-\u001b[1;36m26\u001b[0m \u001b[1;92m20:04:56\u001b[0m +\u001b[1;36m0000\u001b[0m\u001b[1m]\u001b[0m \u001b[1m[\u001b[0m\u001b[1;36m46\u001b[0m\u001b[1m]\u001b[0m \u001b[1m[\u001b[0mINFO\u001b[1m]\u001b[0m Booting worker with pid: \u001b[1;36m46\u001b[0m\n"
      ]
     },
     "metadata": {},
     "output_type": "display_data"
    },
    {
     "data": {
      "text/html": [
       "<pre style=\"white-space:pre;overflow-x:auto;line-height:normal;font-family:Menlo,'DejaVu Sans Mono',consolas,'Courier New',monospace\"><span style=\"color: #008080; text-decoration-color: #008080; font-weight: bold\">2023</span>-<span style=\"color: #008080; text-decoration-color: #008080; font-weight: bold\">03</span>-<span style=\"color: #008080; text-decoration-color: #008080; font-weight: bold\">26</span> <span style=\"color: #00ff00; text-decoration-color: #00ff00; font-weight: bold\">20:05:00</span>: xgboost model loaded\n",
       "</pre>\n"
      ],
      "text/plain": [
       "\u001b[1;36m2023\u001b[0m-\u001b[1;36m03\u001b[0m-\u001b[1;36m26\u001b[0m \u001b[1;92m20:05:00\u001b[0m: xgboost model loaded\n"
      ]
     },
     "metadata": {},
     "output_type": "display_data"
    },
    {
     "data": {
      "text/html": [
       "<pre style=\"white-space:pre;overflow-x:auto;line-height:normal;font-family:Menlo,'DejaVu Sans Mono',consolas,'Courier New',monospace\"><span style=\"color: #008080; text-decoration-color: #008080; font-weight: bold\">2023</span>-<span style=\"color: #008080; text-decoration-color: #008080; font-weight: bold\">03</span>-<span style=\"color: #008080; text-decoration-color: #008080; font-weight: bold\">26</span> <span style=\"color: #00ff00; text-decoration-color: #00ff00; font-weight: bold\">20:05:04</span>: <span style=\"color: #00ff00; text-decoration-color: #00ff00; font-weight: bold\">169.254.178.2</span> - - <span style=\"font-weight: bold\">[</span><span style=\"color: #008080; text-decoration-color: #008080; font-weight: bold\">26</span>/Mar/<span style=\"color: #00ff00; text-decoration-color: #00ff00; font-weight: bold\">2023:20:05:00</span> +<span style=\"color: #008080; text-decoration-color: #008080; font-weight: bold\">0000</span><span style=\"font-weight: bold\">]</span> <span style=\"color: #008000; text-decoration-color: #008000\">\"GET /ping HTTP/1.1\"</span> <span style=\"color: #008080; text-decoration-color: #008080; font-weight: bold\">200</span> <span style=\"color: #008080; text-decoration-color: #008080; font-weight: bold\">1</span> <span style=\"color: #008000; text-decoration-color: #008000\">\"-\"</span> <span style=\"color: #008000; text-decoration-color: #008000\">\"AHC/2.0\"</span>\n",
       "</pre>\n"
      ],
      "text/plain": [
       "\u001b[1;36m2023\u001b[0m-\u001b[1;36m03\u001b[0m-\u001b[1;36m26\u001b[0m \u001b[1;92m20:05:04\u001b[0m: \u001b[1;92m169.254.178.2\u001b[0m - - \u001b[1m[\u001b[0m\u001b[1;36m26\u001b[0m/Mar/\u001b[1;92m2023:20:05:00\u001b[0m +\u001b[1;36m0000\u001b[0m\u001b[1m]\u001b[0m \u001b[32m\"GET /ping HTTP/1.1\"\u001b[0m \u001b[1;36m200\u001b[0m \u001b[1;36m1\u001b[0m \u001b[32m\"-\"\u001b[0m \u001b[32m\"AHC/2.0\"\u001b[0m\n"
      ]
     },
     "metadata": {},
     "output_type": "display_data"
    },
    {
     "data": {
      "text/html": [
       "<pre style=\"white-space:pre;overflow-x:auto;line-height:normal;font-family:Menlo,'DejaVu Sans Mono',consolas,'Courier New',monospace\"><span style=\"color: #008080; text-decoration-color: #008080; font-weight: bold\">2023</span>-<span style=\"color: #008080; text-decoration-color: #008080; font-weight: bold\">03</span>-<span style=\"color: #008080; text-decoration-color: #008080; font-weight: bold\">26</span> <span style=\"color: #00ff00; text-decoration-color: #00ff00; font-weight: bold\">20:05:05</span>: xgboost model loaded\n",
       "</pre>\n"
      ],
      "text/plain": [
       "\u001b[1;36m2023\u001b[0m-\u001b[1;36m03\u001b[0m-\u001b[1;36m26\u001b[0m \u001b[1;92m20:05:05\u001b[0m: xgboost model loaded\n"
      ]
     },
     "metadata": {},
     "output_type": "display_data"
    },
    {
     "data": {
      "text/html": [
       "<pre style=\"white-space:pre;overflow-x:auto;line-height:normal;font-family:Menlo,'DejaVu Sans Mono',consolas,'Courier New',monospace\"><span style=\"color: #008080; text-decoration-color: #008080; font-weight: bold\">2023</span>-<span style=\"color: #008080; text-decoration-color: #008080; font-weight: bold\">03</span>-<span style=\"color: #008080; text-decoration-color: #008080; font-weight: bold\">26</span> <span style=\"color: #00ff00; text-decoration-color: #00ff00; font-weight: bold\">20:05:09</span>: <span style=\"color: #00ff00; text-decoration-color: #00ff00; font-weight: bold\">169.254.178.2</span> - - <span style=\"font-weight: bold\">[</span><span style=\"color: #008080; text-decoration-color: #008080; font-weight: bold\">26</span>/Mar/<span style=\"color: #00ff00; text-decoration-color: #00ff00; font-weight: bold\">2023:20:05:05</span> +<span style=\"color: #008080; text-decoration-color: #008080; font-weight: bold\">0000</span><span style=\"font-weight: bold\">]</span> <span style=\"color: #008000; text-decoration-color: #008000\">\"GET /ping HTTP/1.1\"</span> <span style=\"color: #008080; text-decoration-color: #008080; font-weight: bold\">200</span> <span style=\"color: #008080; text-decoration-color: #008080; font-weight: bold\">1</span> <span style=\"color: #008000; text-decoration-color: #008000\">\"-\"</span> <span style=\"color: #008000; text-decoration-color: #008000\">\"AHC/2.0\"</span>\n",
       "</pre>\n"
      ],
      "text/plain": [
       "\u001b[1;36m2023\u001b[0m-\u001b[1;36m03\u001b[0m-\u001b[1;36m26\u001b[0m \u001b[1;92m20:05:09\u001b[0m: \u001b[1;92m169.254.178.2\u001b[0m - - \u001b[1m[\u001b[0m\u001b[1;36m26\u001b[0m/Mar/\u001b[1;92m2023:20:05:05\u001b[0m +\u001b[1;36m0000\u001b[0m\u001b[1m]\u001b[0m \u001b[32m\"GET /ping HTTP/1.1\"\u001b[0m \u001b[1;36m200\u001b[0m \u001b[1;36m1\u001b[0m \u001b[32m\"-\"\u001b[0m \u001b[32m\"AHC/2.0\"\u001b[0m\n"
      ]
     },
     "metadata": {},
     "output_type": "display_data"
    },
    {
     "data": {
      "text/html": [
       "<pre style=\"white-space:pre;overflow-x:auto;line-height:normal;font-family:Menlo,'DejaVu Sans Mono',consolas,'Courier New',monospace\"><span style=\"color: #008080; text-decoration-color: #008080; font-weight: bold\">2023</span>-<span style=\"color: #008080; text-decoration-color: #008080; font-weight: bold\">03</span>-<span style=\"color: #008080; text-decoration-color: #008080; font-weight: bold\">26</span> <span style=\"color: #00ff00; text-decoration-color: #00ff00; font-weight: bold\">20:05:10</span>: xgboost model loaded\n",
       "</pre>\n"
      ],
      "text/plain": [
       "\u001b[1;36m2023\u001b[0m-\u001b[1;36m03\u001b[0m-\u001b[1;36m26\u001b[0m \u001b[1;92m20:05:10\u001b[0m: xgboost model loaded\n"
      ]
     },
     "metadata": {},
     "output_type": "display_data"
    },
    {
     "data": {
      "text/html": [
       "<pre style=\"white-space:pre;overflow-x:auto;line-height:normal;font-family:Menlo,'DejaVu Sans Mono',consolas,'Courier New',monospace\"><span style=\"color: #008080; text-decoration-color: #008080; font-weight: bold\">2023</span>-<span style=\"color: #008080; text-decoration-color: #008080; font-weight: bold\">03</span>-<span style=\"color: #008080; text-decoration-color: #008080; font-weight: bold\">26</span> <span style=\"color: #00ff00; text-decoration-color: #00ff00; font-weight: bold\">20:05:14</span>: <span style=\"color: #00ff00; text-decoration-color: #00ff00; font-weight: bold\">169.254.178.2</span> - - <span style=\"font-weight: bold\">[</span><span style=\"color: #008080; text-decoration-color: #008080; font-weight: bold\">26</span>/Mar/<span style=\"color: #00ff00; text-decoration-color: #00ff00; font-weight: bold\">2023:20:05:10</span> +<span style=\"color: #008080; text-decoration-color: #008080; font-weight: bold\">0000</span><span style=\"font-weight: bold\">]</span> <span style=\"color: #008000; text-decoration-color: #008000\">\"GET /ping HTTP/1.1\"</span> <span style=\"color: #008080; text-decoration-color: #008080; font-weight: bold\">200</span> <span style=\"color: #008080; text-decoration-color: #008080; font-weight: bold\">1</span> <span style=\"color: #008000; text-decoration-color: #008000\">\"-\"</span> <span style=\"color: #008000; text-decoration-color: #008000\">\"AHC/2.0\"</span>\n",
       "</pre>\n"
      ],
      "text/plain": [
       "\u001b[1;36m2023\u001b[0m-\u001b[1;36m03\u001b[0m-\u001b[1;36m26\u001b[0m \u001b[1;92m20:05:14\u001b[0m: \u001b[1;92m169.254.178.2\u001b[0m - - \u001b[1m[\u001b[0m\u001b[1;36m26\u001b[0m/Mar/\u001b[1;92m2023:20:05:10\u001b[0m +\u001b[1;36m0000\u001b[0m\u001b[1m]\u001b[0m \u001b[32m\"GET /ping HTTP/1.1\"\u001b[0m \u001b[1;36m200\u001b[0m \u001b[1;36m1\u001b[0m \u001b[32m\"-\"\u001b[0m \u001b[32m\"AHC/2.0\"\u001b[0m\n"
      ]
     },
     "metadata": {},
     "output_type": "display_data"
    },
    {
     "data": {
      "text/html": [
       "<pre style=\"white-space:pre;overflow-x:auto;line-height:normal;font-family:Menlo,'DejaVu Sans Mono',consolas,'Courier New',monospace\"><span style=\"color: #008080; text-decoration-color: #008080; font-weight: bold\">2023</span>-<span style=\"color: #008080; text-decoration-color: #008080; font-weight: bold\">03</span>-<span style=\"color: #008080; text-decoration-color: #008080; font-weight: bold\">26</span> <span style=\"color: #00ff00; text-decoration-color: #00ff00; font-weight: bold\">20:05:15</span>: xgboost model loaded\n",
       "</pre>\n"
      ],
      "text/plain": [
       "\u001b[1;36m2023\u001b[0m-\u001b[1;36m03\u001b[0m-\u001b[1;36m26\u001b[0m \u001b[1;92m20:05:15\u001b[0m: xgboost model loaded\n"
      ]
     },
     "metadata": {},
     "output_type": "display_data"
    },
    {
     "data": {
      "text/html": [
       "<pre style=\"white-space:pre;overflow-x:auto;line-height:normal;font-family:Menlo,'DejaVu Sans Mono',consolas,'Courier New',monospace\"><span style=\"color: #008080; text-decoration-color: #008080; font-weight: bold\">2023</span>-<span style=\"color: #008080; text-decoration-color: #008080; font-weight: bold\">03</span>-<span style=\"color: #008080; text-decoration-color: #008080; font-weight: bold\">26</span> <span style=\"color: #00ff00; text-decoration-color: #00ff00; font-weight: bold\">20:05:19</span>: <span style=\"color: #00ff00; text-decoration-color: #00ff00; font-weight: bold\">169.254.178.2</span> - - <span style=\"font-weight: bold\">[</span><span style=\"color: #008080; text-decoration-color: #008080; font-weight: bold\">26</span>/Mar/<span style=\"color: #00ff00; text-decoration-color: #00ff00; font-weight: bold\">2023:20:05:15</span> +<span style=\"color: #008080; text-decoration-color: #008080; font-weight: bold\">0000</span><span style=\"font-weight: bold\">]</span> <span style=\"color: #008000; text-decoration-color: #008000\">\"GET /ping HTTP/1.1\"</span> <span style=\"color: #008080; text-decoration-color: #008080; font-weight: bold\">200</span> <span style=\"color: #008080; text-decoration-color: #008080; font-weight: bold\">1</span> <span style=\"color: #008000; text-decoration-color: #008000\">\"-\"</span> <span style=\"color: #008000; text-decoration-color: #008000\">\"AHC/2.0\"</span>\n",
       "</pre>\n"
      ],
      "text/plain": [
       "\u001b[1;36m2023\u001b[0m-\u001b[1;36m03\u001b[0m-\u001b[1;36m26\u001b[0m \u001b[1;92m20:05:19\u001b[0m: \u001b[1;92m169.254.178.2\u001b[0m - - \u001b[1m[\u001b[0m\u001b[1;36m26\u001b[0m/Mar/\u001b[1;92m2023:20:05:15\u001b[0m +\u001b[1;36m0000\u001b[0m\u001b[1m]\u001b[0m \u001b[32m\"GET /ping HTTP/1.1\"\u001b[0m \u001b[1;36m200\u001b[0m \u001b[1;36m1\u001b[0m \u001b[32m\"-\"\u001b[0m \u001b[32m\"AHC/2.0\"\u001b[0m\n"
      ]
     },
     "metadata": {},
     "output_type": "display_data"
    },
    {
     "data": {
      "text/html": [
       "<pre style=\"white-space:pre;overflow-x:auto;line-height:normal;font-family:Menlo,'DejaVu Sans Mono',consolas,'Courier New',monospace\"><span style=\"color: #008080; text-decoration-color: #008080; font-weight: bold\">2023</span>-<span style=\"color: #008080; text-decoration-color: #008080; font-weight: bold\">03</span>-<span style=\"color: #008080; text-decoration-color: #008080; font-weight: bold\">26</span> <span style=\"color: #00ff00; text-decoration-color: #00ff00; font-weight: bold\">20:05:20</span>: xgboost model loaded\n",
       "</pre>\n"
      ],
      "text/plain": [
       "\u001b[1;36m2023\u001b[0m-\u001b[1;36m03\u001b[0m-\u001b[1;36m26\u001b[0m \u001b[1;92m20:05:20\u001b[0m: xgboost model loaded\n"
      ]
     },
     "metadata": {},
     "output_type": "display_data"
    },
    {
     "data": {
      "text/html": [
       "<pre style=\"white-space:pre;overflow-x:auto;line-height:normal;font-family:Menlo,'DejaVu Sans Mono',consolas,'Courier New',monospace\"><span style=\"color: #008080; text-decoration-color: #008080; font-weight: bold\">2023</span>-<span style=\"color: #008080; text-decoration-color: #008080; font-weight: bold\">03</span>-<span style=\"color: #008080; text-decoration-color: #008080; font-weight: bold\">26</span> <span style=\"color: #00ff00; text-decoration-color: #00ff00; font-weight: bold\">20:05:24</span>: <span style=\"color: #00ff00; text-decoration-color: #00ff00; font-weight: bold\">169.254.178.2</span> - - <span style=\"font-weight: bold\">[</span><span style=\"color: #008080; text-decoration-color: #008080; font-weight: bold\">26</span>/Mar/<span style=\"color: #00ff00; text-decoration-color: #00ff00; font-weight: bold\">2023:20:05:20</span> +<span style=\"color: #008080; text-decoration-color: #008080; font-weight: bold\">0000</span><span style=\"font-weight: bold\">]</span> <span style=\"color: #008000; text-decoration-color: #008000\">\"GET /ping HTTP/1.1\"</span> <span style=\"color: #008080; text-decoration-color: #008080; font-weight: bold\">200</span> <span style=\"color: #008080; text-decoration-color: #008080; font-weight: bold\">1</span> <span style=\"color: #008000; text-decoration-color: #008000\">\"-\"</span> <span style=\"color: #008000; text-decoration-color: #008000\">\"AHC/2.0\"</span>\n",
       "</pre>\n"
      ],
      "text/plain": [
       "\u001b[1;36m2023\u001b[0m-\u001b[1;36m03\u001b[0m-\u001b[1;36m26\u001b[0m \u001b[1;92m20:05:24\u001b[0m: \u001b[1;92m169.254.178.2\u001b[0m - - \u001b[1m[\u001b[0m\u001b[1;36m26\u001b[0m/Mar/\u001b[1;92m2023:20:05:20\u001b[0m +\u001b[1;36m0000\u001b[0m\u001b[1m]\u001b[0m \u001b[32m\"GET /ping HTTP/1.1\"\u001b[0m \u001b[1;36m200\u001b[0m \u001b[1;36m1\u001b[0m \u001b[32m\"-\"\u001b[0m \u001b[32m\"AHC/2.0\"\u001b[0m\n"
      ]
     },
     "metadata": {},
     "output_type": "display_data"
    },
    {
     "data": {
      "text/html": [
       "<pre style=\"white-space:pre;overflow-x:auto;line-height:normal;font-family:Menlo,'DejaVu Sans Mono',consolas,'Courier New',monospace\"><span style=\"color: #008080; text-decoration-color: #008080; font-weight: bold\">2023</span>-<span style=\"color: #008080; text-decoration-color: #008080; font-weight: bold\">03</span>-<span style=\"color: #008080; text-decoration-color: #008080; font-weight: bold\">26</span> <span style=\"color: #00ff00; text-decoration-color: #00ff00; font-weight: bold\">20:05:25</span>: xgboost model loaded\n",
       "</pre>\n"
      ],
      "text/plain": [
       "\u001b[1;36m2023\u001b[0m-\u001b[1;36m03\u001b[0m-\u001b[1;36m26\u001b[0m \u001b[1;92m20:05:25\u001b[0m: xgboost model loaded\n"
      ]
     },
     "metadata": {},
     "output_type": "display_data"
    },
    {
     "data": {
      "text/html": [
       "<pre style=\"white-space:pre;overflow-x:auto;line-height:normal;font-family:Menlo,'DejaVu Sans Mono',consolas,'Courier New',monospace\"><span style=\"color: #008080; text-decoration-color: #008080; font-weight: bold\">2023</span>-<span style=\"color: #008080; text-decoration-color: #008080; font-weight: bold\">03</span>-<span style=\"color: #008080; text-decoration-color: #008080; font-weight: bold\">26</span> <span style=\"color: #00ff00; text-decoration-color: #00ff00; font-weight: bold\">20:05:29</span>: <span style=\"color: #00ff00; text-decoration-color: #00ff00; font-weight: bold\">169.254.178.2</span> - - <span style=\"font-weight: bold\">[</span><span style=\"color: #008080; text-decoration-color: #008080; font-weight: bold\">26</span>/Mar/<span style=\"color: #00ff00; text-decoration-color: #00ff00; font-weight: bold\">2023:20:05:25</span> +<span style=\"color: #008080; text-decoration-color: #008080; font-weight: bold\">0000</span><span style=\"font-weight: bold\">]</span> <span style=\"color: #008000; text-decoration-color: #008000\">\"GET /ping HTTP/1.1\"</span> <span style=\"color: #008080; text-decoration-color: #008080; font-weight: bold\">200</span> <span style=\"color: #008080; text-decoration-color: #008080; font-weight: bold\">1</span> <span style=\"color: #008000; text-decoration-color: #008000\">\"-\"</span> <span style=\"color: #008000; text-decoration-color: #008000\">\"AHC/2.0\"</span>\n",
       "</pre>\n"
      ],
      "text/plain": [
       "\u001b[1;36m2023\u001b[0m-\u001b[1;36m03\u001b[0m-\u001b[1;36m26\u001b[0m \u001b[1;92m20:05:29\u001b[0m: \u001b[1;92m169.254.178.2\u001b[0m - - \u001b[1m[\u001b[0m\u001b[1;36m26\u001b[0m/Mar/\u001b[1;92m2023:20:05:25\u001b[0m +\u001b[1;36m0000\u001b[0m\u001b[1m]\u001b[0m \u001b[32m\"GET /ping HTTP/1.1\"\u001b[0m \u001b[1;36m200\u001b[0m \u001b[1;36m1\u001b[0m \u001b[32m\"-\"\u001b[0m \u001b[32m\"AHC/2.0\"\u001b[0m\n"
      ]
     },
     "metadata": {},
     "output_type": "display_data"
    },
    {
     "data": {
      "text/html": [
       "<pre style=\"white-space:pre;overflow-x:auto;line-height:normal;font-family:Menlo,'DejaVu Sans Mono',consolas,'Courier New',monospace\"><span style=\"color: #008080; text-decoration-color: #008080; font-weight: bold\">2023</span>-<span style=\"color: #008080; text-decoration-color: #008080; font-weight: bold\">03</span>-<span style=\"color: #008080; text-decoration-color: #008080; font-weight: bold\">26</span> <span style=\"color: #00ff00; text-decoration-color: #00ff00; font-weight: bold\">20:05:30</span>: xgboost model loaded\n",
       "</pre>\n"
      ],
      "text/plain": [
       "\u001b[1;36m2023\u001b[0m-\u001b[1;36m03\u001b[0m-\u001b[1;36m26\u001b[0m \u001b[1;92m20:05:30\u001b[0m: xgboost model loaded\n"
      ]
     },
     "metadata": {},
     "output_type": "display_data"
    },
    {
     "data": {
      "text/html": [
       "<pre style=\"white-space:pre;overflow-x:auto;line-height:normal;font-family:Menlo,'DejaVu Sans Mono',consolas,'Courier New',monospace\"><span style=\"color: #008080; text-decoration-color: #008080; font-weight: bold\">2023</span>-<span style=\"color: #008080; text-decoration-color: #008080; font-weight: bold\">03</span>-<span style=\"color: #008080; text-decoration-color: #008080; font-weight: bold\">26</span> <span style=\"color: #00ff00; text-decoration-color: #00ff00; font-weight: bold\">20:05:34</span>: <span style=\"color: #00ff00; text-decoration-color: #00ff00; font-weight: bold\">169.254.178.2</span> - - <span style=\"font-weight: bold\">[</span><span style=\"color: #008080; text-decoration-color: #008080; font-weight: bold\">26</span>/Mar/<span style=\"color: #00ff00; text-decoration-color: #00ff00; font-weight: bold\">2023:20:05:30</span> +<span style=\"color: #008080; text-decoration-color: #008080; font-weight: bold\">0000</span><span style=\"font-weight: bold\">]</span> <span style=\"color: #008000; text-decoration-color: #008000\">\"GET /ping HTTP/1.1\"</span> <span style=\"color: #008080; text-decoration-color: #008080; font-weight: bold\">200</span> <span style=\"color: #008080; text-decoration-color: #008080; font-weight: bold\">1</span> <span style=\"color: #008000; text-decoration-color: #008000\">\"-\"</span> <span style=\"color: #008000; text-decoration-color: #008000\">\"AHC/2.0\"</span>\n",
       "</pre>\n"
      ],
      "text/plain": [
       "\u001b[1;36m2023\u001b[0m-\u001b[1;36m03\u001b[0m-\u001b[1;36m26\u001b[0m \u001b[1;92m20:05:34\u001b[0m: \u001b[1;92m169.254.178.2\u001b[0m - - \u001b[1m[\u001b[0m\u001b[1;36m26\u001b[0m/Mar/\u001b[1;92m2023:20:05:30\u001b[0m +\u001b[1;36m0000\u001b[0m\u001b[1m]\u001b[0m \u001b[32m\"GET /ping HTTP/1.1\"\u001b[0m \u001b[1;36m200\u001b[0m \u001b[1;36m1\u001b[0m \u001b[32m\"-\"\u001b[0m \u001b[32m\"AHC/2.0\"\u001b[0m\n"
      ]
     },
     "metadata": {},
     "output_type": "display_data"
    },
    {
     "data": {
      "text/html": [
       "<pre style=\"white-space:pre;overflow-x:auto;line-height:normal;font-family:Menlo,'DejaVu Sans Mono',consolas,'Courier New',monospace\"><span style=\"color: #008080; text-decoration-color: #008080; font-weight: bold\">2023</span>-<span style=\"color: #008080; text-decoration-color: #008080; font-weight: bold\">03</span>-<span style=\"color: #008080; text-decoration-color: #008080; font-weight: bold\">26</span> <span style=\"color: #00ff00; text-decoration-color: #00ff00; font-weight: bold\">20:05:35</span>: xgboost model loaded\n",
       "</pre>\n"
      ],
      "text/plain": [
       "\u001b[1;36m2023\u001b[0m-\u001b[1;36m03\u001b[0m-\u001b[1;36m26\u001b[0m \u001b[1;92m20:05:35\u001b[0m: xgboost model loaded\n"
      ]
     },
     "metadata": {},
     "output_type": "display_data"
    },
    {
     "data": {
      "text/html": [
       "<pre style=\"white-space:pre;overflow-x:auto;line-height:normal;font-family:Menlo,'DejaVu Sans Mono',consolas,'Courier New',monospace\"><span style=\"color: #008080; text-decoration-color: #008080; font-weight: bold\">2023</span>-<span style=\"color: #008080; text-decoration-color: #008080; font-weight: bold\">03</span>-<span style=\"color: #008080; text-decoration-color: #008080; font-weight: bold\">26</span> <span style=\"color: #00ff00; text-decoration-color: #00ff00; font-weight: bold\">20:05:39</span>: <span style=\"color: #00ff00; text-decoration-color: #00ff00; font-weight: bold\">169.254.178.2</span> - - <span style=\"font-weight: bold\">[</span><span style=\"color: #008080; text-decoration-color: #008080; font-weight: bold\">26</span>/Mar/<span style=\"color: #00ff00; text-decoration-color: #00ff00; font-weight: bold\">2023:20:05:35</span> +<span style=\"color: #008080; text-decoration-color: #008080; font-weight: bold\">0000</span><span style=\"font-weight: bold\">]</span> <span style=\"color: #008000; text-decoration-color: #008000\">\"GET /ping HTTP/1.1\"</span> <span style=\"color: #008080; text-decoration-color: #008080; font-weight: bold\">200</span> <span style=\"color: #008080; text-decoration-color: #008080; font-weight: bold\">1</span> <span style=\"color: #008000; text-decoration-color: #008000\">\"-\"</span> <span style=\"color: #008000; text-decoration-color: #008000\">\"AHC/2.0\"</span>\n",
       "</pre>\n"
      ],
      "text/plain": [
       "\u001b[1;36m2023\u001b[0m-\u001b[1;36m03\u001b[0m-\u001b[1;36m26\u001b[0m \u001b[1;92m20:05:39\u001b[0m: \u001b[1;92m169.254.178.2\u001b[0m - - \u001b[1m[\u001b[0m\u001b[1;36m26\u001b[0m/Mar/\u001b[1;92m2023:20:05:35\u001b[0m +\u001b[1;36m0000\u001b[0m\u001b[1m]\u001b[0m \u001b[32m\"GET /ping HTTP/1.1\"\u001b[0m \u001b[1;36m200\u001b[0m \u001b[1;36m1\u001b[0m \u001b[32m\"-\"\u001b[0m \u001b[32m\"AHC/2.0\"\u001b[0m\n"
      ]
     },
     "metadata": {},
     "output_type": "display_data"
    },
    {
     "data": {
      "text/html": [
       "<pre style=\"white-space:pre;overflow-x:auto;line-height:normal;font-family:Menlo,'DejaVu Sans Mono',consolas,'Courier New',monospace\"><span style=\"color: #008080; text-decoration-color: #008080; font-weight: bold\">2023</span>-<span style=\"color: #008080; text-decoration-color: #008080; font-weight: bold\">03</span>-<span style=\"color: #008080; text-decoration-color: #008080; font-weight: bold\">26</span> <span style=\"color: #00ff00; text-decoration-color: #00ff00; font-weight: bold\">20:05:40</span>: xgboost model loaded\n",
       "</pre>\n"
      ],
      "text/plain": [
       "\u001b[1;36m2023\u001b[0m-\u001b[1;36m03\u001b[0m-\u001b[1;36m26\u001b[0m \u001b[1;92m20:05:40\u001b[0m: xgboost model loaded\n"
      ]
     },
     "metadata": {},
     "output_type": "display_data"
    },
    {
     "data": {
      "text/html": [
       "<pre style=\"white-space:pre;overflow-x:auto;line-height:normal;font-family:Menlo,'DejaVu Sans Mono',consolas,'Courier New',monospace\"><span style=\"color: #008080; text-decoration-color: #008080; font-weight: bold\">2023</span>-<span style=\"color: #008080; text-decoration-color: #008080; font-weight: bold\">03</span>-<span style=\"color: #008080; text-decoration-color: #008080; font-weight: bold\">26</span> <span style=\"color: #00ff00; text-decoration-color: #00ff00; font-weight: bold\">20:05:44</span>: <span style=\"color: #00ff00; text-decoration-color: #00ff00; font-weight: bold\">169.254.178.2</span> - - <span style=\"font-weight: bold\">[</span><span style=\"color: #008080; text-decoration-color: #008080; font-weight: bold\">26</span>/Mar/<span style=\"color: #00ff00; text-decoration-color: #00ff00; font-weight: bold\">2023:20:05:40</span> +<span style=\"color: #008080; text-decoration-color: #008080; font-weight: bold\">0000</span><span style=\"font-weight: bold\">]</span> <span style=\"color: #008000; text-decoration-color: #008000\">\"GET /ping HTTP/1.1\"</span> <span style=\"color: #008080; text-decoration-color: #008080; font-weight: bold\">200</span> <span style=\"color: #008080; text-decoration-color: #008080; font-weight: bold\">1</span> <span style=\"color: #008000; text-decoration-color: #008000\">\"-\"</span> <span style=\"color: #008000; text-decoration-color: #008000\">\"AHC/2.0\"</span>\n",
       "</pre>\n"
      ],
      "text/plain": [
       "\u001b[1;36m2023\u001b[0m-\u001b[1;36m03\u001b[0m-\u001b[1;36m26\u001b[0m \u001b[1;92m20:05:44\u001b[0m: \u001b[1;92m169.254.178.2\u001b[0m - - \u001b[1m[\u001b[0m\u001b[1;36m26\u001b[0m/Mar/\u001b[1;92m2023:20:05:40\u001b[0m +\u001b[1;36m0000\u001b[0m\u001b[1m]\u001b[0m \u001b[32m\"GET /ping HTTP/1.1\"\u001b[0m \u001b[1;36m200\u001b[0m \u001b[1;36m1\u001b[0m \u001b[32m\"-\"\u001b[0m \u001b[32m\"AHC/2.0\"\u001b[0m\n"
      ]
     },
     "metadata": {},
     "output_type": "display_data"
    },
    {
     "data": {
      "text/html": [
       "<pre style=\"white-space:pre;overflow-x:auto;line-height:normal;font-family:Menlo,'DejaVu Sans Mono',consolas,'Courier New',monospace\"><span style=\"color: #008080; text-decoration-color: #008080; font-weight: bold\">2023</span>-<span style=\"color: #008080; text-decoration-color: #008080; font-weight: bold\">03</span>-<span style=\"color: #008080; text-decoration-color: #008080; font-weight: bold\">26</span> <span style=\"color: #00ff00; text-decoration-color: #00ff00; font-weight: bold\">20:05:45</span>: xgboost model loaded\n",
       "</pre>\n"
      ],
      "text/plain": [
       "\u001b[1;36m2023\u001b[0m-\u001b[1;36m03\u001b[0m-\u001b[1;36m26\u001b[0m \u001b[1;92m20:05:45\u001b[0m: xgboost model loaded\n"
      ]
     },
     "metadata": {},
     "output_type": "display_data"
    },
    {
     "data": {
      "text/html": [
       "<pre style=\"white-space:pre;overflow-x:auto;line-height:normal;font-family:Menlo,'DejaVu Sans Mono',consolas,'Courier New',monospace\"><span style=\"color: #008080; text-decoration-color: #008080; font-weight: bold\">2023</span>-<span style=\"color: #008080; text-decoration-color: #008080; font-weight: bold\">03</span>-<span style=\"color: #008080; text-decoration-color: #008080; font-weight: bold\">26</span> <span style=\"color: #00ff00; text-decoration-color: #00ff00; font-weight: bold\">20:05:49</span>: <span style=\"color: #00ff00; text-decoration-color: #00ff00; font-weight: bold\">169.254.178.2</span> - - <span style=\"font-weight: bold\">[</span><span style=\"color: #008080; text-decoration-color: #008080; font-weight: bold\">26</span>/Mar/<span style=\"color: #00ff00; text-decoration-color: #00ff00; font-weight: bold\">2023:20:05:45</span> +<span style=\"color: #008080; text-decoration-color: #008080; font-weight: bold\">0000</span><span style=\"font-weight: bold\">]</span> <span style=\"color: #008000; text-decoration-color: #008000\">\"GET /ping HTTP/1.1\"</span> <span style=\"color: #008080; text-decoration-color: #008080; font-weight: bold\">200</span> <span style=\"color: #008080; text-decoration-color: #008080; font-weight: bold\">1</span> <span style=\"color: #008000; text-decoration-color: #008000\">\"-\"</span> <span style=\"color: #008000; text-decoration-color: #008000\">\"AHC/2.0\"</span>\n",
       "</pre>\n"
      ],
      "text/plain": [
       "\u001b[1;36m2023\u001b[0m-\u001b[1;36m03\u001b[0m-\u001b[1;36m26\u001b[0m \u001b[1;92m20:05:49\u001b[0m: \u001b[1;92m169.254.178.2\u001b[0m - - \u001b[1m[\u001b[0m\u001b[1;36m26\u001b[0m/Mar/\u001b[1;92m2023:20:05:45\u001b[0m +\u001b[1;36m0000\u001b[0m\u001b[1m]\u001b[0m \u001b[32m\"GET /ping HTTP/1.1\"\u001b[0m \u001b[1;36m200\u001b[0m \u001b[1;36m1\u001b[0m \u001b[32m\"-\"\u001b[0m \u001b[32m\"AHC/2.0\"\u001b[0m\n"
      ]
     },
     "metadata": {},
     "output_type": "display_data"
    },
    {
     "data": {
      "text/html": [
       "<pre style=\"white-space:pre;overflow-x:auto;line-height:normal;font-family:Menlo,'DejaVu Sans Mono',consolas,'Courier New',monospace\"><span style=\"color: #008080; text-decoration-color: #008080; font-weight: bold\">2023</span>-<span style=\"color: #008080; text-decoration-color: #008080; font-weight: bold\">03</span>-<span style=\"color: #008080; text-decoration-color: #008080; font-weight: bold\">26</span> <span style=\"color: #00ff00; text-decoration-color: #00ff00; font-weight: bold\">20:05:50</span>: xgboost model loaded\n",
       "</pre>\n"
      ],
      "text/plain": [
       "\u001b[1;36m2023\u001b[0m-\u001b[1;36m03\u001b[0m-\u001b[1;36m26\u001b[0m \u001b[1;92m20:05:50\u001b[0m: xgboost model loaded\n"
      ]
     },
     "metadata": {},
     "output_type": "display_data"
    },
    {
     "data": {
      "text/html": [
       "<pre style=\"white-space:pre;overflow-x:auto;line-height:normal;font-family:Menlo,'DejaVu Sans Mono',consolas,'Courier New',monospace\"><span style=\"color: #008080; text-decoration-color: #008080; font-weight: bold\">2023</span>-<span style=\"color: #008080; text-decoration-color: #008080; font-weight: bold\">03</span>-<span style=\"color: #008080; text-decoration-color: #008080; font-weight: bold\">26</span> <span style=\"color: #00ff00; text-decoration-color: #00ff00; font-weight: bold\">20:05:54</span>: <span style=\"color: #00ff00; text-decoration-color: #00ff00; font-weight: bold\">169.254.178.2</span> - - <span style=\"font-weight: bold\">[</span><span style=\"color: #008080; text-decoration-color: #008080; font-weight: bold\">26</span>/Mar/<span style=\"color: #00ff00; text-decoration-color: #00ff00; font-weight: bold\">2023:20:05:50</span> +<span style=\"color: #008080; text-decoration-color: #008080; font-weight: bold\">0000</span><span style=\"font-weight: bold\">]</span> <span style=\"color: #008000; text-decoration-color: #008000\">\"GET /ping HTTP/1.1\"</span> <span style=\"color: #008080; text-decoration-color: #008080; font-weight: bold\">200</span> <span style=\"color: #008080; text-decoration-color: #008080; font-weight: bold\">1</span> <span style=\"color: #008000; text-decoration-color: #008000\">\"-\"</span> <span style=\"color: #008000; text-decoration-color: #008000\">\"AHC/2.0\"</span>\n",
       "</pre>\n"
      ],
      "text/plain": [
       "\u001b[1;36m2023\u001b[0m-\u001b[1;36m03\u001b[0m-\u001b[1;36m26\u001b[0m \u001b[1;92m20:05:54\u001b[0m: \u001b[1;92m169.254.178.2\u001b[0m - - \u001b[1m[\u001b[0m\u001b[1;36m26\u001b[0m/Mar/\u001b[1;92m2023:20:05:50\u001b[0m +\u001b[1;36m0000\u001b[0m\u001b[1m]\u001b[0m \u001b[32m\"GET /ping HTTP/1.1\"\u001b[0m \u001b[1;36m200\u001b[0m \u001b[1;36m1\u001b[0m \u001b[32m\"-\"\u001b[0m \u001b[32m\"AHC/2.0\"\u001b[0m\n"
      ]
     },
     "metadata": {},
     "output_type": "display_data"
    },
    {
     "data": {
      "text/html": [
       "<pre style=\"white-space:pre;overflow-x:auto;line-height:normal;font-family:Menlo,'DejaVu Sans Mono',consolas,'Courier New',monospace\"><span style=\"color: #008080; text-decoration-color: #008080; font-weight: bold\">2023</span>-<span style=\"color: #008080; text-decoration-color: #008080; font-weight: bold\">03</span>-<span style=\"color: #008080; text-decoration-color: #008080; font-weight: bold\">26</span> <span style=\"color: #00ff00; text-decoration-color: #00ff00; font-weight: bold\">20:05:55</span>: xgboost model loaded\n",
       "</pre>\n"
      ],
      "text/plain": [
       "\u001b[1;36m2023\u001b[0m-\u001b[1;36m03\u001b[0m-\u001b[1;36m26\u001b[0m \u001b[1;92m20:05:55\u001b[0m: xgboost model loaded\n"
      ]
     },
     "metadata": {},
     "output_type": "display_data"
    },
    {
     "data": {
      "text/html": [
       "<pre style=\"white-space:pre;overflow-x:auto;line-height:normal;font-family:Menlo,'DejaVu Sans Mono',consolas,'Courier New',monospace\"><span style=\"color: #008080; text-decoration-color: #008080; font-weight: bold\">2023</span>-<span style=\"color: #008080; text-decoration-color: #008080; font-weight: bold\">03</span>-<span style=\"color: #008080; text-decoration-color: #008080; font-weight: bold\">26</span> <span style=\"color: #00ff00; text-decoration-color: #00ff00; font-weight: bold\">20:05:59</span>: <span style=\"color: #00ff00; text-decoration-color: #00ff00; font-weight: bold\">169.254.178.2</span> - - <span style=\"font-weight: bold\">[</span><span style=\"color: #008080; text-decoration-color: #008080; font-weight: bold\">26</span>/Mar/<span style=\"color: #00ff00; text-decoration-color: #00ff00; font-weight: bold\">2023:20:05:55</span> +<span style=\"color: #008080; text-decoration-color: #008080; font-weight: bold\">0000</span><span style=\"font-weight: bold\">]</span> <span style=\"color: #008000; text-decoration-color: #008000\">\"GET /ping HTTP/1.1\"</span> <span style=\"color: #008080; text-decoration-color: #008080; font-weight: bold\">200</span> <span style=\"color: #008080; text-decoration-color: #008080; font-weight: bold\">1</span> <span style=\"color: #008000; text-decoration-color: #008000\">\"-\"</span> <span style=\"color: #008000; text-decoration-color: #008000\">\"AHC/2.0\"</span>\n",
       "</pre>\n"
      ],
      "text/plain": [
       "\u001b[1;36m2023\u001b[0m-\u001b[1;36m03\u001b[0m-\u001b[1;36m26\u001b[0m \u001b[1;92m20:05:59\u001b[0m: \u001b[1;92m169.254.178.2\u001b[0m - - \u001b[1m[\u001b[0m\u001b[1;36m26\u001b[0m/Mar/\u001b[1;92m2023:20:05:55\u001b[0m +\u001b[1;36m0000\u001b[0m\u001b[1m]\u001b[0m \u001b[32m\"GET /ping HTTP/1.1\"\u001b[0m \u001b[1;36m200\u001b[0m \u001b[1;36m1\u001b[0m \u001b[32m\"-\"\u001b[0m \u001b[32m\"AHC/2.0\"\u001b[0m\n"
      ]
     },
     "metadata": {},
     "output_type": "display_data"
    },
    {
     "data": {
      "text/html": [
       "<pre style=\"white-space:pre;overflow-x:auto;line-height:normal;font-family:Menlo,'DejaVu Sans Mono',consolas,'Courier New',monospace\"><span style=\"color: #008080; text-decoration-color: #008080; font-weight: bold\">2023</span>-<span style=\"color: #008080; text-decoration-color: #008080; font-weight: bold\">03</span>-<span style=\"color: #008080; text-decoration-color: #008080; font-weight: bold\">26</span> <span style=\"color: #00ff00; text-decoration-color: #00ff00; font-weight: bold\">20:06:00</span>: xgboost model loaded\n",
       "</pre>\n"
      ],
      "text/plain": [
       "\u001b[1;36m2023\u001b[0m-\u001b[1;36m03\u001b[0m-\u001b[1;36m26\u001b[0m \u001b[1;92m20:06:00\u001b[0m: xgboost model loaded\n"
      ]
     },
     "metadata": {},
     "output_type": "display_data"
    },
    {
     "data": {
      "text/html": [
       "<pre style=\"white-space:pre;overflow-x:auto;line-height:normal;font-family:Menlo,'DejaVu Sans Mono',consolas,'Courier New',monospace\"><span style=\"color: #008080; text-decoration-color: #008080; font-weight: bold\">2023</span>-<span style=\"color: #008080; text-decoration-color: #008080; font-weight: bold\">03</span>-<span style=\"color: #008080; text-decoration-color: #008080; font-weight: bold\">26</span> <span style=\"color: #00ff00; text-decoration-color: #00ff00; font-weight: bold\">20:06:04</span>: <span style=\"color: #00ff00; text-decoration-color: #00ff00; font-weight: bold\">169.254.178.2</span> - - <span style=\"font-weight: bold\">[</span><span style=\"color: #008080; text-decoration-color: #008080; font-weight: bold\">26</span>/Mar/<span style=\"color: #00ff00; text-decoration-color: #00ff00; font-weight: bold\">2023:20:06:00</span> +<span style=\"color: #008080; text-decoration-color: #008080; font-weight: bold\">0000</span><span style=\"font-weight: bold\">]</span> <span style=\"color: #008000; text-decoration-color: #008000\">\"GET /ping HTTP/1.1\"</span> <span style=\"color: #008080; text-decoration-color: #008080; font-weight: bold\">200</span> <span style=\"color: #008080; text-decoration-color: #008080; font-weight: bold\">1</span> <span style=\"color: #008000; text-decoration-color: #008000\">\"-\"</span> <span style=\"color: #008000; text-decoration-color: #008000\">\"AHC/2.0\"</span>\n",
       "</pre>\n"
      ],
      "text/plain": [
       "\u001b[1;36m2023\u001b[0m-\u001b[1;36m03\u001b[0m-\u001b[1;36m26\u001b[0m \u001b[1;92m20:06:04\u001b[0m: \u001b[1;92m169.254.178.2\u001b[0m - - \u001b[1m[\u001b[0m\u001b[1;36m26\u001b[0m/Mar/\u001b[1;92m2023:20:06:00\u001b[0m +\u001b[1;36m0000\u001b[0m\u001b[1m]\u001b[0m \u001b[32m\"GET /ping HTTP/1.1\"\u001b[0m \u001b[1;36m200\u001b[0m \u001b[1;36m1\u001b[0m \u001b[32m\"-\"\u001b[0m \u001b[32m\"AHC/2.0\"\u001b[0m\n"
      ]
     },
     "metadata": {},
     "output_type": "display_data"
    },
    {
     "data": {
      "text/html": [
       "<pre style=\"white-space:pre;overflow-x:auto;line-height:normal;font-family:Menlo,'DejaVu Sans Mono',consolas,'Courier New',monospace\"><span style=\"color: #008080; text-decoration-color: #008080; font-weight: bold\">2023</span>-<span style=\"color: #008080; text-decoration-color: #008080; font-weight: bold\">03</span>-<span style=\"color: #008080; text-decoration-color: #008080; font-weight: bold\">26</span> <span style=\"color: #00ff00; text-decoration-color: #00ff00; font-weight: bold\">20:06:05</span>: xgboost model loaded\n",
       "</pre>\n"
      ],
      "text/plain": [
       "\u001b[1;36m2023\u001b[0m-\u001b[1;36m03\u001b[0m-\u001b[1;36m26\u001b[0m \u001b[1;92m20:06:05\u001b[0m: xgboost model loaded\n"
      ]
     },
     "metadata": {},
     "output_type": "display_data"
    },
    {
     "data": {
      "text/html": [
       "<pre style=\"white-space:pre;overflow-x:auto;line-height:normal;font-family:Menlo,'DejaVu Sans Mono',consolas,'Courier New',monospace\"><span style=\"color: #008080; text-decoration-color: #008080; font-weight: bold\">2023</span>-<span style=\"color: #008080; text-decoration-color: #008080; font-weight: bold\">03</span>-<span style=\"color: #008080; text-decoration-color: #008080; font-weight: bold\">26</span> <span style=\"color: #00ff00; text-decoration-color: #00ff00; font-weight: bold\">20:06:09</span>: <span style=\"color: #00ff00; text-decoration-color: #00ff00; font-weight: bold\">169.254.178.2</span> - - <span style=\"font-weight: bold\">[</span><span style=\"color: #008080; text-decoration-color: #008080; font-weight: bold\">26</span>/Mar/<span style=\"color: #00ff00; text-decoration-color: #00ff00; font-weight: bold\">2023:20:06:05</span> +<span style=\"color: #008080; text-decoration-color: #008080; font-weight: bold\">0000</span><span style=\"font-weight: bold\">]</span> <span style=\"color: #008000; text-decoration-color: #008000\">\"GET /ping HTTP/1.1\"</span> <span style=\"color: #008080; text-decoration-color: #008080; font-weight: bold\">200</span> <span style=\"color: #008080; text-decoration-color: #008080; font-weight: bold\">1</span> <span style=\"color: #008000; text-decoration-color: #008000\">\"-\"</span> <span style=\"color: #008000; text-decoration-color: #008000\">\"AHC/2.0\"</span>\n",
       "</pre>\n"
      ],
      "text/plain": [
       "\u001b[1;36m2023\u001b[0m-\u001b[1;36m03\u001b[0m-\u001b[1;36m26\u001b[0m \u001b[1;92m20:06:09\u001b[0m: \u001b[1;92m169.254.178.2\u001b[0m - - \u001b[1m[\u001b[0m\u001b[1;36m26\u001b[0m/Mar/\u001b[1;92m2023:20:06:05\u001b[0m +\u001b[1;36m0000\u001b[0m\u001b[1m]\u001b[0m \u001b[32m\"GET /ping HTTP/1.1\"\u001b[0m \u001b[1;36m200\u001b[0m \u001b[1;36m1\u001b[0m \u001b[32m\"-\"\u001b[0m \u001b[32m\"AHC/2.0\"\u001b[0m\n"
      ]
     },
     "metadata": {},
     "output_type": "display_data"
    },
    {
     "data": {
      "text/html": [
       "<pre style=\"white-space:pre;overflow-x:auto;line-height:normal;font-family:Menlo,'DejaVu Sans Mono',consolas,'Courier New',monospace\"><span style=\"color: #008080; text-decoration-color: #008080; font-weight: bold\">2023</span>-<span style=\"color: #008080; text-decoration-color: #008080; font-weight: bold\">03</span>-<span style=\"color: #008080; text-decoration-color: #008080; font-weight: bold\">26</span> <span style=\"color: #00ff00; text-decoration-color: #00ff00; font-weight: bold\">20:06:10</span>: xgboost model loaded\n",
       "</pre>\n"
      ],
      "text/plain": [
       "\u001b[1;36m2023\u001b[0m-\u001b[1;36m03\u001b[0m-\u001b[1;36m26\u001b[0m \u001b[1;92m20:06:10\u001b[0m: xgboost model loaded\n"
      ]
     },
     "metadata": {},
     "output_type": "display_data"
    },
    {
     "data": {
      "text/html": [
       "<pre style=\"white-space:pre;overflow-x:auto;line-height:normal;font-family:Menlo,'DejaVu Sans Mono',consolas,'Courier New',monospace\"><span style=\"color: #008080; text-decoration-color: #008080; font-weight: bold\">2023</span>-<span style=\"color: #008080; text-decoration-color: #008080; font-weight: bold\">03</span>-<span style=\"color: #008080; text-decoration-color: #008080; font-weight: bold\">26</span> <span style=\"color: #00ff00; text-decoration-color: #00ff00; font-weight: bold\">20:06:14</span>: <span style=\"color: #00ff00; text-decoration-color: #00ff00; font-weight: bold\">169.254.178.2</span> - - <span style=\"font-weight: bold\">[</span><span style=\"color: #008080; text-decoration-color: #008080; font-weight: bold\">26</span>/Mar/<span style=\"color: #00ff00; text-decoration-color: #00ff00; font-weight: bold\">2023:20:06:10</span> +<span style=\"color: #008080; text-decoration-color: #008080; font-weight: bold\">0000</span><span style=\"font-weight: bold\">]</span> <span style=\"color: #008000; text-decoration-color: #008000\">\"GET /ping HTTP/1.1\"</span> <span style=\"color: #008080; text-decoration-color: #008080; font-weight: bold\">200</span> <span style=\"color: #008080; text-decoration-color: #008080; font-weight: bold\">1</span> <span style=\"color: #008000; text-decoration-color: #008000\">\"-\"</span> <span style=\"color: #008000; text-decoration-color: #008000\">\"AHC/2.0\"</span>\n",
       "</pre>\n"
      ],
      "text/plain": [
       "\u001b[1;36m2023\u001b[0m-\u001b[1;36m03\u001b[0m-\u001b[1;36m26\u001b[0m \u001b[1;92m20:06:14\u001b[0m: \u001b[1;92m169.254.178.2\u001b[0m - - \u001b[1m[\u001b[0m\u001b[1;36m26\u001b[0m/Mar/\u001b[1;92m2023:20:06:10\u001b[0m +\u001b[1;36m0000\u001b[0m\u001b[1m]\u001b[0m \u001b[32m\"GET /ping HTTP/1.1\"\u001b[0m \u001b[1;36m200\u001b[0m \u001b[1;36m1\u001b[0m \u001b[32m\"-\"\u001b[0m \u001b[32m\"AHC/2.0\"\u001b[0m\n"
      ]
     },
     "metadata": {},
     "output_type": "display_data"
    },
    {
     "data": {
      "text/html": [
       "<pre style=\"white-space:pre;overflow-x:auto;line-height:normal;font-family:Menlo,'DejaVu Sans Mono',consolas,'Courier New',monospace\"><span style=\"color: #008080; text-decoration-color: #008080; font-weight: bold\">2023</span>-<span style=\"color: #008080; text-decoration-color: #008080; font-weight: bold\">03</span>-<span style=\"color: #008080; text-decoration-color: #008080; font-weight: bold\">26</span> <span style=\"color: #00ff00; text-decoration-color: #00ff00; font-weight: bold\">20:06:15</span>: xgboost model loaded\n",
       "</pre>\n"
      ],
      "text/plain": [
       "\u001b[1;36m2023\u001b[0m-\u001b[1;36m03\u001b[0m-\u001b[1;36m26\u001b[0m \u001b[1;92m20:06:15\u001b[0m: xgboost model loaded\n"
      ]
     },
     "metadata": {},
     "output_type": "display_data"
    },
    {
     "data": {
      "text/html": [
       "<pre style=\"white-space:pre;overflow-x:auto;line-height:normal;font-family:Menlo,'DejaVu Sans Mono',consolas,'Courier New',monospace\"><span style=\"color: #008080; text-decoration-color: #008080; font-weight: bold\">2023</span>-<span style=\"color: #008080; text-decoration-color: #008080; font-weight: bold\">03</span>-<span style=\"color: #008080; text-decoration-color: #008080; font-weight: bold\">26</span> <span style=\"color: #00ff00; text-decoration-color: #00ff00; font-weight: bold\">20:06:17</span>: <span style=\"color: #00ff00; text-decoration-color: #00ff00; font-weight: bold\">169.254.178.2</span> - - <span style=\"font-weight: bold\">[</span><span style=\"color: #008080; text-decoration-color: #008080; font-weight: bold\">26</span>/Mar/<span style=\"color: #00ff00; text-decoration-color: #00ff00; font-weight: bold\">2023:20:06:15</span> +<span style=\"color: #008080; text-decoration-color: #008080; font-weight: bold\">0000</span><span style=\"font-weight: bold\">]</span> <span style=\"color: #008000; text-decoration-color: #008000\">\"GET /ping HTTP/1.1\"</span> <span style=\"color: #008080; text-decoration-color: #008080; font-weight: bold\">200</span> <span style=\"color: #008080; text-decoration-color: #008080; font-weight: bold\">1</span> <span style=\"color: #008000; text-decoration-color: #008000\">\"-\"</span> <span style=\"color: #008000; text-decoration-color: #008000\">\"AHC/2.0\"</span>\n",
       "</pre>\n"
      ],
      "text/plain": [
       "\u001b[1;36m2023\u001b[0m-\u001b[1;36m03\u001b[0m-\u001b[1;36m26\u001b[0m \u001b[1;92m20:06:17\u001b[0m: \u001b[1;92m169.254.178.2\u001b[0m - - \u001b[1m[\u001b[0m\u001b[1;36m26\u001b[0m/Mar/\u001b[1;92m2023:20:06:15\u001b[0m +\u001b[1;36m0000\u001b[0m\u001b[1m]\u001b[0m \u001b[32m\"GET /ping HTTP/1.1\"\u001b[0m \u001b[1;36m200\u001b[0m \u001b[1;36m1\u001b[0m \u001b[32m\"-\"\u001b[0m \u001b[32m\"AHC/2.0\"\u001b[0m\n"
      ]
     },
     "metadata": {},
     "output_type": "display_data"
    },
    {
     "data": {
      "text/html": [
       "<pre style=\"white-space:pre;overflow-x:auto;line-height:normal;font-family:Menlo,'DejaVu Sans Mono',consolas,'Courier New',monospace\"><span style=\"color: #008080; text-decoration-color: #008080; font-weight: bold\">2023</span>-<span style=\"color: #008080; text-decoration-color: #008080; font-weight: bold\">03</span>-<span style=\"color: #008080; text-decoration-color: #008080; font-weight: bold\">26</span> <span style=\"color: #00ff00; text-decoration-color: #00ff00; font-weight: bold\">20:06:17</span>: Input: \n",
       "<span style=\"color: #008080; text-decoration-color: #008080; font-weight: bold\">8.0</span>,<span style=\"color: #008080; text-decoration-color: #008080; font-weight: bold\">0.4748533892842405</span>,<span style=\"color: #008080; text-decoration-color: #008080; font-weight: bold\">0.2506716146449868</span>,<span style=\"color: #008080; text-decoration-color: #008080; font-weight: bold\">0.5674905932383428</span>,<span style=\"color: #008080; text-decoration-color: #008080; font-weight: bold\">0.8138932119974298</span>,<span style=\"color: #008080; text-decoration-color: #008080; font-weight: bold\">0.6788834503655224</span>,<span style=\"color: #008080; text-decoration-color: #008080; font-weight: bold\">0.22393875313148</span>\n",
       "<span style=\"color: #008080; text-decoration-color: #008080; font-weight: bold\">354</span>,<span style=\"color: #008080; text-decoration-color: #008080; font-weight: bold\">1.0</span>,<span style=\"color: #008080; text-decoration-color: #008080; font-weight: bold\">0.0</span>,<span style=\"color: #008080; text-decoration-color: #008080; font-weight: bold\">0.0</span>\n",
       "</pre>\n"
      ],
      "text/plain": [
       "\u001b[1;36m2023\u001b[0m-\u001b[1;36m03\u001b[0m-\u001b[1;36m26\u001b[0m \u001b[1;92m20:06:17\u001b[0m: Input: \n",
       "\u001b[1;36m8.0\u001b[0m,\u001b[1;36m0.4748533892842405\u001b[0m,\u001b[1;36m0.2506716146449868\u001b[0m,\u001b[1;36m0.5674905932383428\u001b[0m,\u001b[1;36m0.8138932119974298\u001b[0m,\u001b[1;36m0.6788834503655224\u001b[0m,\u001b[1;36m0.22393875313148\u001b[0m\n",
       "\u001b[1;36m354\u001b[0m,\u001b[1;36m1.0\u001b[0m,\u001b[1;36m0.0\u001b[0m,\u001b[1;36m0.0\u001b[0m\n"
      ]
     },
     "metadata": {},
     "output_type": "display_data"
    },
    {
     "data": {
      "text/html": [
       "<pre style=\"white-space:pre;overflow-x:auto;line-height:normal;font-family:Menlo,'DejaVu Sans Mono',consolas,'Courier New',monospace\"><span style=\"color: #008080; text-decoration-color: #008080; font-weight: bold\">2023</span>-<span style=\"color: #008080; text-decoration-color: #008080; font-weight: bold\">03</span>-<span style=\"color: #008080; text-decoration-color: #008080; font-weight: bold\">26</span> <span style=\"color: #00ff00; text-decoration-color: #00ff00; font-weight: bold\">20:06:17</span>: <span style=\"font-weight: bold\">&lt;</span><span style=\"color: #ff00ff; text-decoration-color: #ff00ff; font-weight: bold\">class</span><span style=\"color: #000000; text-decoration-color: #000000\"> </span><span style=\"color: #008000; text-decoration-color: #008000\">'numpy.ndarray'</span><span style=\"font-weight: bold\">&gt;</span>\n",
       "</pre>\n"
      ],
      "text/plain": [
       "\u001b[1;36m2023\u001b[0m-\u001b[1;36m03\u001b[0m-\u001b[1;36m26\u001b[0m \u001b[1;92m20:06:17\u001b[0m: \u001b[1m<\u001b[0m\u001b[1;95mclass\u001b[0m\u001b[39m \u001b[0m\u001b[32m'numpy.ndarray'\u001b[0m\u001b[1m>\u001b[0m\n"
      ]
     },
     "metadata": {},
     "output_type": "display_data"
    },
    {
     "data": {
      "text/html": [
       "<pre style=\"white-space:pre;overflow-x:auto;line-height:normal;font-family:Menlo,'DejaVu Sans Mono',consolas,'Courier New',monospace\"><span style=\"color: #008080; text-decoration-color: #008080; font-weight: bold\">2023</span>-<span style=\"color: #008080; text-decoration-color: #008080; font-weight: bold\">03</span>-<span style=\"color: #008080; text-decoration-color: #008080; font-weight: bold\">26</span> <span style=\"color: #00ff00; text-decoration-color: #00ff00; font-weight: bold\">20:06:17</span>: <span style=\"font-weight: bold\">&lt;</span><span style=\"color: #ff00ff; text-decoration-color: #ff00ff; font-weight: bold\">class</span><span style=\"color: #000000; text-decoration-color: #000000\"> </span><span style=\"color: #008000; text-decoration-color: #008000\">'xgboost.core.DMatrix'</span><span style=\"font-weight: bold\">&gt;</span>\n",
       "</pre>\n"
      ],
      "text/plain": [
       "\u001b[1;36m2023\u001b[0m-\u001b[1;36m03\u001b[0m-\u001b[1;36m26\u001b[0m \u001b[1;92m20:06:17\u001b[0m: \u001b[1m<\u001b[0m\u001b[1;95mclass\u001b[0m\u001b[39m \u001b[0m\u001b[32m'xgboost.core.DMatrix'\u001b[0m\u001b[1m>\u001b[0m\n"
      ]
     },
     "metadata": {},
     "output_type": "display_data"
    },
    {
     "data": {
      "text/html": [
       "<pre style=\"white-space:pre;overflow-x:auto;line-height:normal;font-family:Menlo,'DejaVu Sans Mono',consolas,'Courier New',monospace\"><span style=\"color: #008080; text-decoration-color: #008080; font-weight: bold\">2023</span>-<span style=\"color: #008080; text-decoration-color: #008080; font-weight: bold\">03</span>-<span style=\"color: #008080; text-decoration-color: #008080; font-weight: bold\">26</span> <span style=\"color: #00ff00; text-decoration-color: #00ff00; font-weight: bold\">20:06:17</span>: <span style=\"color: #00ff00; text-decoration-color: #00ff00; font-weight: bold\">169.254.178.2</span> - - <span style=\"font-weight: bold\">[</span><span style=\"color: #008080; text-decoration-color: #008080; font-weight: bold\">26</span>/Mar/<span style=\"color: #00ff00; text-decoration-color: #00ff00; font-weight: bold\">2023:20:06:16</span> +<span style=\"color: #008080; text-decoration-color: #008080; font-weight: bold\">0000</span><span style=\"font-weight: bold\">]</span> <span style=\"color: #008000; text-decoration-color: #008000\">\"POST /invocations HTTP/1.1\"</span> <span style=\"color: #008080; text-decoration-color: #008080; font-weight: bold\">200</span> <span style=\"color: #008080; text-decoration-color: #008080; font-weight: bold\">31</span> <span style=\"color: #008000; text-decoration-color: #008000\">\"-\"</span> \n",
       "<span style=\"color: #008000; text-decoration-color: #008000\">\"AHC/2.0\"</span>\n",
       "</pre>\n"
      ],
      "text/plain": [
       "\u001b[1;36m2023\u001b[0m-\u001b[1;36m03\u001b[0m-\u001b[1;36m26\u001b[0m \u001b[1;92m20:06:17\u001b[0m: \u001b[1;92m169.254.178.2\u001b[0m - - \u001b[1m[\u001b[0m\u001b[1;36m26\u001b[0m/Mar/\u001b[1;92m2023:20:06:16\u001b[0m +\u001b[1;36m0000\u001b[0m\u001b[1m]\u001b[0m \u001b[32m\"POST /invocations HTTP/1.1\"\u001b[0m \u001b[1;36m200\u001b[0m \u001b[1;36m31\u001b[0m \u001b[32m\"-\"\u001b[0m \n",
       "\u001b[32m\"AHC/2.0\"\u001b[0m\n"
      ]
     },
     "metadata": {},
     "output_type": "display_data"
    },
    {
     "data": {
      "text/html": [
       "<pre style=\"white-space:pre;overflow-x:auto;line-height:normal;font-family:Menlo,'DejaVu Sans Mono',consolas,'Courier New',monospace\"><span style=\"color: #008080; text-decoration-color: #008080; font-weight: bold\">2023</span>-<span style=\"color: #008080; text-decoration-color: #008080; font-weight: bold\">03</span>-<span style=\"color: #008080; text-decoration-color: #008080; font-weight: bold\">26</span> <span style=\"color: #00ff00; text-decoration-color: #00ff00; font-weight: bold\">20:06:17</span>: Transformed data: <span style=\"font-weight: bold\">&lt;</span><span style=\"color: #ff00ff; text-decoration-color: #ff00ff; font-weight: bold\">xgboost.core.DMatrix</span><span style=\"color: #000000; text-decoration-color: #000000\"> object at </span><span style=\"color: #008080; text-decoration-color: #008080; font-weight: bold\">0x7f662be94910</span><span style=\"font-weight: bold\">&gt;</span>\n",
       "</pre>\n"
      ],
      "text/plain": [
       "\u001b[1;36m2023\u001b[0m-\u001b[1;36m03\u001b[0m-\u001b[1;36m26\u001b[0m \u001b[1;92m20:06:17\u001b[0m: Transformed data: \u001b[1m<\u001b[0m\u001b[1;95mxgboost.core.DMatrix\u001b[0m\u001b[39m object at \u001b[0m\u001b[1;36m0x7f662be94910\u001b[0m\u001b[1m>\u001b[0m\n"
      ]
     },
     "metadata": {},
     "output_type": "display_data"
    },
    {
     "data": {
      "text/html": [
       "<pre style=\"white-space:pre;overflow-x:auto;line-height:normal;font-family:Menlo,'DejaVu Sans Mono',consolas,'Courier New',monospace\"><span style=\"color: #008080; text-decoration-color: #008080; font-weight: bold\">2023</span>-<span style=\"color: #008080; text-decoration-color: #008080; font-weight: bold\">03</span>-<span style=\"color: #008080; text-decoration-color: #008080; font-weight: bold\">26</span> <span style=\"color: #00ff00; text-decoration-color: #00ff00; font-weight: bold\">20:06:17</span>: Input: \n",
       "<span style=\"color: #008080; text-decoration-color: #008080; font-weight: bold\">20.0</span>,<span style=\"color: #008080; text-decoration-color: #008080; font-weight: bold\">1.1802995315641436</span>,<span style=\"color: #008080; text-decoration-color: #008080; font-weight: bold\">1.5657673760166693</span>,<span style=\"color: #008080; text-decoration-color: #008080; font-weight: bold\">1.336360046202571</span>,<span style=\"color: #008080; text-decoration-color: #008080; font-weight: bold\">0.8589511700480813</span>,<span style=\"color: #008080; text-decoration-color: #008080; font-weight: bold\">1.1943890922682798</span>,<span style=\"color: #008080; text-decoration-color: #008080; font-weight: bold\">1.37347960957080</span>\n",
       "<span style=\"color: #008080; text-decoration-color: #008080; font-weight: bold\">48</span>,<span style=\"color: #008080; text-decoration-color: #008080; font-weight: bold\">0.0</span>,<span style=\"color: #008080; text-decoration-color: #008080; font-weight: bold\">0.0</span>,<span style=\"color: #008080; text-decoration-color: #008080; font-weight: bold\">1.0</span>\n",
       "</pre>\n"
      ],
      "text/plain": [
       "\u001b[1;36m2023\u001b[0m-\u001b[1;36m03\u001b[0m-\u001b[1;36m26\u001b[0m \u001b[1;92m20:06:17\u001b[0m: Input: \n",
       "\u001b[1;36m20.0\u001b[0m,\u001b[1;36m1.1802995315641436\u001b[0m,\u001b[1;36m1.5657673760166693\u001b[0m,\u001b[1;36m1.336360046202571\u001b[0m,\u001b[1;36m0.8589511700480813\u001b[0m,\u001b[1;36m1.1943890922682798\u001b[0m,\u001b[1;36m1.37347960957080\u001b[0m\n",
       "\u001b[1;36m48\u001b[0m,\u001b[1;36m0.0\u001b[0m,\u001b[1;36m0.0\u001b[0m,\u001b[1;36m1.0\u001b[0m\n"
      ]
     },
     "metadata": {},
     "output_type": "display_data"
    },
    {
     "data": {
      "text/html": [
       "<pre style=\"white-space:pre;overflow-x:auto;line-height:normal;font-family:Menlo,'DejaVu Sans Mono',consolas,'Courier New',monospace\"><span style=\"color: #008080; text-decoration-color: #008080; font-weight: bold\">2023</span>-<span style=\"color: #008080; text-decoration-color: #008080; font-weight: bold\">03</span>-<span style=\"color: #008080; text-decoration-color: #008080; font-weight: bold\">26</span> <span style=\"color: #00ff00; text-decoration-color: #00ff00; font-weight: bold\">20:06:17</span>: <span style=\"font-weight: bold\">&lt;</span><span style=\"color: #ff00ff; text-decoration-color: #ff00ff; font-weight: bold\">class</span><span style=\"color: #000000; text-decoration-color: #000000\"> </span><span style=\"color: #008000; text-decoration-color: #008000\">'numpy.ndarray'</span><span style=\"font-weight: bold\">&gt;</span>\n",
       "</pre>\n"
      ],
      "text/plain": [
       "\u001b[1;36m2023\u001b[0m-\u001b[1;36m03\u001b[0m-\u001b[1;36m26\u001b[0m \u001b[1;92m20:06:17\u001b[0m: \u001b[1m<\u001b[0m\u001b[1;95mclass\u001b[0m\u001b[39m \u001b[0m\u001b[32m'numpy.ndarray'\u001b[0m\u001b[1m>\u001b[0m\n"
      ]
     },
     "metadata": {},
     "output_type": "display_data"
    },
    {
     "data": {
      "text/html": [
       "<pre style=\"white-space:pre;overflow-x:auto;line-height:normal;font-family:Menlo,'DejaVu Sans Mono',consolas,'Courier New',monospace\"><span style=\"color: #008080; text-decoration-color: #008080; font-weight: bold\">2023</span>-<span style=\"color: #008080; text-decoration-color: #008080; font-weight: bold\">03</span>-<span style=\"color: #008080; text-decoration-color: #008080; font-weight: bold\">26</span> <span style=\"color: #00ff00; text-decoration-color: #00ff00; font-weight: bold\">20:06:17</span>: <span style=\"font-weight: bold\">&lt;</span><span style=\"color: #ff00ff; text-decoration-color: #ff00ff; font-weight: bold\">class</span><span style=\"color: #000000; text-decoration-color: #000000\"> </span><span style=\"color: #008000; text-decoration-color: #008000\">'xgboost.core.DMatrix'</span><span style=\"font-weight: bold\">&gt;</span>\n",
       "</pre>\n"
      ],
      "text/plain": [
       "\u001b[1;36m2023\u001b[0m-\u001b[1;36m03\u001b[0m-\u001b[1;36m26\u001b[0m \u001b[1;92m20:06:17\u001b[0m: \u001b[1m<\u001b[0m\u001b[1;95mclass\u001b[0m\u001b[39m \u001b[0m\u001b[32m'xgboost.core.DMatrix'\u001b[0m\u001b[1m>\u001b[0m\n"
      ]
     },
     "metadata": {},
     "output_type": "display_data"
    },
    {
     "data": {
      "text/html": [
       "<pre style=\"white-space:pre;overflow-x:auto;line-height:normal;font-family:Menlo,'DejaVu Sans Mono',consolas,'Courier New',monospace\"><span style=\"color: #008080; text-decoration-color: #008080; font-weight: bold\">2023</span>-<span style=\"color: #008080; text-decoration-color: #008080; font-weight: bold\">03</span>-<span style=\"color: #008080; text-decoration-color: #008080; font-weight: bold\">26</span> <span style=\"color: #00ff00; text-decoration-color: #00ff00; font-weight: bold\">20:06:18</span>: <span style=\"color: #00ff00; text-decoration-color: #00ff00; font-weight: bold\">169.254.178.2</span> - - <span style=\"font-weight: bold\">[</span><span style=\"color: #008080; text-decoration-color: #008080; font-weight: bold\">26</span>/Mar/<span style=\"color: #00ff00; text-decoration-color: #00ff00; font-weight: bold\">2023:20:06:17</span> +<span style=\"color: #008080; text-decoration-color: #008080; font-weight: bold\">0000</span><span style=\"font-weight: bold\">]</span> <span style=\"color: #008000; text-decoration-color: #008000\">\"POST /invocations HTTP/1.1\"</span> <span style=\"color: #008080; text-decoration-color: #008080; font-weight: bold\">200</span> <span style=\"color: #008080; text-decoration-color: #008080; font-weight: bold\">32</span> <span style=\"color: #008000; text-decoration-color: #008000\">\"-\"</span> \n",
       "<span style=\"color: #008000; text-decoration-color: #008000\">\"AHC/2.0\"</span>\n",
       "</pre>\n"
      ],
      "text/plain": [
       "\u001b[1;36m2023\u001b[0m-\u001b[1;36m03\u001b[0m-\u001b[1;36m26\u001b[0m \u001b[1;92m20:06:18\u001b[0m: \u001b[1;92m169.254.178.2\u001b[0m - - \u001b[1m[\u001b[0m\u001b[1;36m26\u001b[0m/Mar/\u001b[1;92m2023:20:06:17\u001b[0m +\u001b[1;36m0000\u001b[0m\u001b[1m]\u001b[0m \u001b[32m\"POST /invocations HTTP/1.1\"\u001b[0m \u001b[1;36m200\u001b[0m \u001b[1;36m32\u001b[0m \u001b[32m\"-\"\u001b[0m \n",
       "\u001b[32m\"AHC/2.0\"\u001b[0m\n"
      ]
     },
     "metadata": {},
     "output_type": "display_data"
    },
    {
     "data": {
      "text/html": [
       "<pre style=\"white-space:pre;overflow-x:auto;line-height:normal;font-family:Menlo,'DejaVu Sans Mono',consolas,'Courier New',monospace\"><span style=\"color: #008080; text-decoration-color: #008080; font-weight: bold\">2023</span>-<span style=\"color: #008080; text-decoration-color: #008080; font-weight: bold\">03</span>-<span style=\"color: #008080; text-decoration-color: #008080; font-weight: bold\">26</span> <span style=\"color: #00ff00; text-decoration-color: #00ff00; font-weight: bold\">20:06:18</span>: Transformed data: <span style=\"font-weight: bold\">&lt;</span><span style=\"color: #ff00ff; text-decoration-color: #ff00ff; font-weight: bold\">xgboost.core.DMatrix</span><span style=\"color: #000000; text-decoration-color: #000000\"> object at </span><span style=\"color: #008080; text-decoration-color: #008080; font-weight: bold\">0x7f662be94b50</span><span style=\"font-weight: bold\">&gt;</span>\n",
       "</pre>\n"
      ],
      "text/plain": [
       "\u001b[1;36m2023\u001b[0m-\u001b[1;36m03\u001b[0m-\u001b[1;36m26\u001b[0m \u001b[1;92m20:06:18\u001b[0m: Transformed data: \u001b[1m<\u001b[0m\u001b[1;95mxgboost.core.DMatrix\u001b[0m\u001b[39m object at \u001b[0m\u001b[1;36m0x7f662be94b50\u001b[0m\u001b[1m>\u001b[0m\n"
      ]
     },
     "metadata": {},
     "output_type": "display_data"
    },
    {
     "data": {
      "text/html": [
       "<pre style=\"white-space:pre;overflow-x:auto;line-height:normal;font-family:Menlo,'DejaVu Sans Mono',consolas,'Courier New',monospace\"><span style=\"color: #008080; text-decoration-color: #008080; font-weight: bold\">2023</span>-<span style=\"color: #008080; text-decoration-color: #008080; font-weight: bold\">03</span>-<span style=\"color: #008080; text-decoration-color: #008080; font-weight: bold\">26</span> <span style=\"color: #00ff00; text-decoration-color: #00ff00; font-weight: bold\">20:06:18</span>: Input: \n",
       "<span style=\"color: #008080; text-decoration-color: #008080; font-weight: bold\">7.0</span>,<span style=\"color: #008080; text-decoration-color: #008080; font-weight: bold\">-0.9864279054384161</span>,<span style=\"color: #008080; text-decoration-color: #008080; font-weight: bold\">-0.9448699866019973</span>,<span style=\"color: #008080; text-decoration-color: #008080; font-weight: bold\">-0.9049861840565454</span>,<span style=\"color: #008080; text-decoration-color: #008080; font-weight: bold\">-0.8397338484614792</span>,<span style=\"color: #008080; text-decoration-color: #008080; font-weight: bold\">-0.8128895133707758</span>,<span style=\"color: #008080; text-decoration-color: #008080; font-weight: bold\">-0.92560210</span>\n",
       "<span style=\"color: #008080; text-decoration-color: #008080; font-weight: bold\">3307838</span>,<span style=\"color: #008080; text-decoration-color: #008080; font-weight: bold\">0.0</span>,<span style=\"color: #008080; text-decoration-color: #008080; font-weight: bold\">0.0</span>,<span style=\"color: #008080; text-decoration-color: #008080; font-weight: bold\">1.0</span>\n",
       "</pre>\n"
      ],
      "text/plain": [
       "\u001b[1;36m2023\u001b[0m-\u001b[1;36m03\u001b[0m-\u001b[1;36m26\u001b[0m \u001b[1;92m20:06:18\u001b[0m: Input: \n",
       "\u001b[1;36m7.0\u001b[0m,\u001b[1;36m-0.9864279054384161\u001b[0m,\u001b[1;36m-0.9448699866019973\u001b[0m,\u001b[1;36m-0.9049861840565454\u001b[0m,\u001b[1;36m-0.8397338484614792\u001b[0m,\u001b[1;36m-0.8128895133707758\u001b[0m,\u001b[1;36m-0.92560210\u001b[0m\n",
       "\u001b[1;36m3307838\u001b[0m,\u001b[1;36m0.0\u001b[0m,\u001b[1;36m0.0\u001b[0m,\u001b[1;36m1.0\u001b[0m\n"
      ]
     },
     "metadata": {},
     "output_type": "display_data"
    },
    {
     "data": {
      "text/html": [
       "<pre style=\"white-space:pre;overflow-x:auto;line-height:normal;font-family:Menlo,'DejaVu Sans Mono',consolas,'Courier New',monospace\"><span style=\"color: #008080; text-decoration-color: #008080; font-weight: bold\">2023</span>-<span style=\"color: #008080; text-decoration-color: #008080; font-weight: bold\">03</span>-<span style=\"color: #008080; text-decoration-color: #008080; font-weight: bold\">26</span> <span style=\"color: #00ff00; text-decoration-color: #00ff00; font-weight: bold\">20:06:18</span>: <span style=\"font-weight: bold\">&lt;</span><span style=\"color: #ff00ff; text-decoration-color: #ff00ff; font-weight: bold\">class</span><span style=\"color: #000000; text-decoration-color: #000000\"> </span><span style=\"color: #008000; text-decoration-color: #008000\">'numpy.ndarray'</span><span style=\"font-weight: bold\">&gt;</span>\n",
       "</pre>\n"
      ],
      "text/plain": [
       "\u001b[1;36m2023\u001b[0m-\u001b[1;36m03\u001b[0m-\u001b[1;36m26\u001b[0m \u001b[1;92m20:06:18\u001b[0m: \u001b[1m<\u001b[0m\u001b[1;95mclass\u001b[0m\u001b[39m \u001b[0m\u001b[32m'numpy.ndarray'\u001b[0m\u001b[1m>\u001b[0m\n"
      ]
     },
     "metadata": {},
     "output_type": "display_data"
    },
    {
     "data": {
      "text/html": [
       "<pre style=\"white-space:pre;overflow-x:auto;line-height:normal;font-family:Menlo,'DejaVu Sans Mono',consolas,'Courier New',monospace\"><span style=\"color: #008080; text-decoration-color: #008080; font-weight: bold\">2023</span>-<span style=\"color: #008080; text-decoration-color: #008080; font-weight: bold\">03</span>-<span style=\"color: #008080; text-decoration-color: #008080; font-weight: bold\">26</span> <span style=\"color: #00ff00; text-decoration-color: #00ff00; font-weight: bold\">20:06:18</span>: <span style=\"font-weight: bold\">&lt;</span><span style=\"color: #ff00ff; text-decoration-color: #ff00ff; font-weight: bold\">class</span><span style=\"color: #000000; text-decoration-color: #000000\"> </span><span style=\"color: #008000; text-decoration-color: #008000\">'xgboost.core.DMatrix'</span><span style=\"font-weight: bold\">&gt;</span>\n",
       "</pre>\n"
      ],
      "text/plain": [
       "\u001b[1;36m2023\u001b[0m-\u001b[1;36m03\u001b[0m-\u001b[1;36m26\u001b[0m \u001b[1;92m20:06:18\u001b[0m: \u001b[1m<\u001b[0m\u001b[1;95mclass\u001b[0m\u001b[39m \u001b[0m\u001b[32m'xgboost.core.DMatrix'\u001b[0m\u001b[1m>\u001b[0m\n"
      ]
     },
     "metadata": {},
     "output_type": "display_data"
    },
    {
     "data": {
      "text/html": [
       "<pre style=\"white-space:pre;overflow-x:auto;line-height:normal;font-family:Menlo,'DejaVu Sans Mono',consolas,'Courier New',monospace\"><span style=\"color: #008080; text-decoration-color: #008080; font-weight: bold\">2023</span>-<span style=\"color: #008080; text-decoration-color: #008080; font-weight: bold\">03</span>-<span style=\"color: #008080; text-decoration-color: #008080; font-weight: bold\">26</span> <span style=\"color: #00ff00; text-decoration-color: #00ff00; font-weight: bold\">20:06:18</span>: <span style=\"color: #00ff00; text-decoration-color: #00ff00; font-weight: bold\">169.254.178.2</span> - - <span style=\"font-weight: bold\">[</span><span style=\"color: #008080; text-decoration-color: #008080; font-weight: bold\">26</span>/Mar/<span style=\"color: #00ff00; text-decoration-color: #00ff00; font-weight: bold\">2023:20:06:18</span> +<span style=\"color: #008080; text-decoration-color: #008080; font-weight: bold\">0000</span><span style=\"font-weight: bold\">]</span> <span style=\"color: #008000; text-decoration-color: #008000\">\"POST /invocations HTTP/1.1\"</span> <span style=\"color: #008080; text-decoration-color: #008080; font-weight: bold\">200</span> <span style=\"color: #008080; text-decoration-color: #008080; font-weight: bold\">31</span> <span style=\"color: #008000; text-decoration-color: #008000\">\"-\"</span> \n",
       "<span style=\"color: #008000; text-decoration-color: #008000\">\"AHC/2.0\"</span>\n",
       "</pre>\n"
      ],
      "text/plain": [
       "\u001b[1;36m2023\u001b[0m-\u001b[1;36m03\u001b[0m-\u001b[1;36m26\u001b[0m \u001b[1;92m20:06:18\u001b[0m: \u001b[1;92m169.254.178.2\u001b[0m - - \u001b[1m[\u001b[0m\u001b[1;36m26\u001b[0m/Mar/\u001b[1;92m2023:20:06:18\u001b[0m +\u001b[1;36m0000\u001b[0m\u001b[1m]\u001b[0m \u001b[32m\"POST /invocations HTTP/1.1\"\u001b[0m \u001b[1;36m200\u001b[0m \u001b[1;36m31\u001b[0m \u001b[32m\"-\"\u001b[0m \n",
       "\u001b[32m\"AHC/2.0\"\u001b[0m\n"
      ]
     },
     "metadata": {},
     "output_type": "display_data"
    },
    {
     "data": {
      "text/html": [
       "<pre style=\"white-space:pre;overflow-x:auto;line-height:normal;font-family:Menlo,'DejaVu Sans Mono',consolas,'Courier New',monospace\"><span style=\"color: #008080; text-decoration-color: #008080; font-weight: bold\">2023</span>-<span style=\"color: #008080; text-decoration-color: #008080; font-weight: bold\">03</span>-<span style=\"color: #008080; text-decoration-color: #008080; font-weight: bold\">26</span> <span style=\"color: #00ff00; text-decoration-color: #00ff00; font-weight: bold\">20:06:18</span>: Transformed data: <span style=\"font-weight: bold\">&lt;</span><span style=\"color: #ff00ff; text-decoration-color: #ff00ff; font-weight: bold\">xgboost.core.DMatrix</span><span style=\"color: #000000; text-decoration-color: #000000\"> object at </span><span style=\"color: #008080; text-decoration-color: #008080; font-weight: bold\">0x7f662be94c40</span><span style=\"font-weight: bold\">&gt;</span>\n",
       "</pre>\n"
      ],
      "text/plain": [
       "\u001b[1;36m2023\u001b[0m-\u001b[1;36m03\u001b[0m-\u001b[1;36m26\u001b[0m \u001b[1;92m20:06:18\u001b[0m: Transformed data: \u001b[1m<\u001b[0m\u001b[1;95mxgboost.core.DMatrix\u001b[0m\u001b[39m object at \u001b[0m\u001b[1;36m0x7f662be94c40\u001b[0m\u001b[1m>\u001b[0m\n"
      ]
     },
     "metadata": {},
     "output_type": "display_data"
    },
    {
     "data": {
      "text/html": [
       "<pre style=\"white-space:pre;overflow-x:auto;line-height:normal;font-family:Menlo,'DejaVu Sans Mono',consolas,'Courier New',monospace\"><span style=\"color: #008080; text-decoration-color: #008080; font-weight: bold\">2023</span>-<span style=\"color: #008080; text-decoration-color: #008080; font-weight: bold\">03</span>-<span style=\"color: #008080; text-decoration-color: #008080; font-weight: bold\">26</span> <span style=\"color: #00ff00; text-decoration-color: #00ff00; font-weight: bold\">20:06:18</span>: Input: \n",
       "<span style=\"color: #008080; text-decoration-color: #008080; font-weight: bold\">8.0</span>,<span style=\"color: #008080; text-decoration-color: #008080; font-weight: bold\">0.12213031814428864</span>,<span style=\"color: #008080; text-decoration-color: #008080; font-weight: bold\">-0.22754502585380668</span>,<span style=\"color: #008080; text-decoration-color: #008080; font-weight: bold\">-0.3482186491514147</span>,<span style=\"color: #008080; text-decoration-color: #008080; font-weight: bold\">-0.2855209644384661</span>,<span style=\"color: #008080; text-decoration-color: #008080; font-weight: bold\">-0.5117977225249174</span>,<span style=\"color: #008080; text-decoration-color: #008080; font-weight: bold\">-0.2933546</span>\n",
       "<span style=\"color: #008080; text-decoration-color: #008080; font-weight: bold\">322662112</span>,<span style=\"color: #008080; text-decoration-color: #008080; font-weight: bold\">0.0</span>,<span style=\"color: #008080; text-decoration-color: #008080; font-weight: bold\">1.0</span>,<span style=\"color: #008080; text-decoration-color: #008080; font-weight: bold\">0.0</span>\n",
       "</pre>\n"
      ],
      "text/plain": [
       "\u001b[1;36m2023\u001b[0m-\u001b[1;36m03\u001b[0m-\u001b[1;36m26\u001b[0m \u001b[1;92m20:06:18\u001b[0m: Input: \n",
       "\u001b[1;36m8.0\u001b[0m,\u001b[1;36m0.12213031814428864\u001b[0m,\u001b[1;36m-0.22754502585380668\u001b[0m,\u001b[1;36m-0.3482186491514147\u001b[0m,\u001b[1;36m-0.2855209644384661\u001b[0m,\u001b[1;36m-0.5117977225249174\u001b[0m,\u001b[1;36m-0.2933546\u001b[0m\n",
       "\u001b[1;36m322662112\u001b[0m,\u001b[1;36m0.0\u001b[0m,\u001b[1;36m1.0\u001b[0m,\u001b[1;36m0.0\u001b[0m\n"
      ]
     },
     "metadata": {},
     "output_type": "display_data"
    },
    {
     "data": {
      "text/html": [
       "<pre style=\"white-space:pre;overflow-x:auto;line-height:normal;font-family:Menlo,'DejaVu Sans Mono',consolas,'Courier New',monospace\"><span style=\"color: #008080; text-decoration-color: #008080; font-weight: bold\">2023</span>-<span style=\"color: #008080; text-decoration-color: #008080; font-weight: bold\">03</span>-<span style=\"color: #008080; text-decoration-color: #008080; font-weight: bold\">26</span> <span style=\"color: #00ff00; text-decoration-color: #00ff00; font-weight: bold\">20:06:18</span>: <span style=\"font-weight: bold\">&lt;</span><span style=\"color: #ff00ff; text-decoration-color: #ff00ff; font-weight: bold\">class</span><span style=\"color: #000000; text-decoration-color: #000000\"> </span><span style=\"color: #008000; text-decoration-color: #008000\">'numpy.ndarray'</span><span style=\"font-weight: bold\">&gt;</span>\n",
       "</pre>\n"
      ],
      "text/plain": [
       "\u001b[1;36m2023\u001b[0m-\u001b[1;36m03\u001b[0m-\u001b[1;36m26\u001b[0m \u001b[1;92m20:06:18\u001b[0m: \u001b[1m<\u001b[0m\u001b[1;95mclass\u001b[0m\u001b[39m \u001b[0m\u001b[32m'numpy.ndarray'\u001b[0m\u001b[1m>\u001b[0m\n"
      ]
     },
     "metadata": {},
     "output_type": "display_data"
    },
    {
     "data": {
      "text/html": [
       "<pre style=\"white-space:pre;overflow-x:auto;line-height:normal;font-family:Menlo,'DejaVu Sans Mono',consolas,'Courier New',monospace\"><span style=\"color: #008080; text-decoration-color: #008080; font-weight: bold\">2023</span>-<span style=\"color: #008080; text-decoration-color: #008080; font-weight: bold\">03</span>-<span style=\"color: #008080; text-decoration-color: #008080; font-weight: bold\">26</span> <span style=\"color: #00ff00; text-decoration-color: #00ff00; font-weight: bold\">20:06:18</span>: <span style=\"font-weight: bold\">&lt;</span><span style=\"color: #ff00ff; text-decoration-color: #ff00ff; font-weight: bold\">class</span><span style=\"color: #000000; text-decoration-color: #000000\"> </span><span style=\"color: #008000; text-decoration-color: #008000\">'xgboost.core.DMatrix'</span><span style=\"font-weight: bold\">&gt;</span>\n",
       "</pre>\n"
      ],
      "text/plain": [
       "\u001b[1;36m2023\u001b[0m-\u001b[1;36m03\u001b[0m-\u001b[1;36m26\u001b[0m \u001b[1;92m20:06:18\u001b[0m: \u001b[1m<\u001b[0m\u001b[1;95mclass\u001b[0m\u001b[39m \u001b[0m\u001b[32m'xgboost.core.DMatrix'\u001b[0m\u001b[1m>\u001b[0m\n"
      ]
     },
     "metadata": {},
     "output_type": "display_data"
    },
    {
     "data": {
      "text/html": [
       "<pre style=\"white-space:pre;overflow-x:auto;line-height:normal;font-family:Menlo,'DejaVu Sans Mono',consolas,'Courier New',monospace\"><span style=\"color: #008080; text-decoration-color: #008080; font-weight: bold\">2023</span>-<span style=\"color: #008080; text-decoration-color: #008080; font-weight: bold\">03</span>-<span style=\"color: #008080; text-decoration-color: #008080; font-weight: bold\">26</span> <span style=\"color: #00ff00; text-decoration-color: #00ff00; font-weight: bold\">20:06:19</span>: <span style=\"color: #00ff00; text-decoration-color: #00ff00; font-weight: bold\">169.254.178.2</span> - - <span style=\"font-weight: bold\">[</span><span style=\"color: #008080; text-decoration-color: #008080; font-weight: bold\">26</span>/Mar/<span style=\"color: #00ff00; text-decoration-color: #00ff00; font-weight: bold\">2023:20:06:18</span> +<span style=\"color: #008080; text-decoration-color: #008080; font-weight: bold\">0000</span><span style=\"font-weight: bold\">]</span> <span style=\"color: #008000; text-decoration-color: #008000\">\"POST /invocations HTTP/1.1\"</span> <span style=\"color: #008080; text-decoration-color: #008080; font-weight: bold\">200</span> <span style=\"color: #008080; text-decoration-color: #008080; font-weight: bold\">31</span> <span style=\"color: #008000; text-decoration-color: #008000\">\"-\"</span> \n",
       "<span style=\"color: #008000; text-decoration-color: #008000\">\"AHC/2.0\"</span>\n",
       "</pre>\n"
      ],
      "text/plain": [
       "\u001b[1;36m2023\u001b[0m-\u001b[1;36m03\u001b[0m-\u001b[1;36m26\u001b[0m \u001b[1;92m20:06:19\u001b[0m: \u001b[1;92m169.254.178.2\u001b[0m - - \u001b[1m[\u001b[0m\u001b[1;36m26\u001b[0m/Mar/\u001b[1;92m2023:20:06:18\u001b[0m +\u001b[1;36m0000\u001b[0m\u001b[1m]\u001b[0m \u001b[32m\"POST /invocations HTTP/1.1\"\u001b[0m \u001b[1;36m200\u001b[0m \u001b[1;36m31\u001b[0m \u001b[32m\"-\"\u001b[0m \n",
       "\u001b[32m\"AHC/2.0\"\u001b[0m\n"
      ]
     },
     "metadata": {},
     "output_type": "display_data"
    },
    {
     "data": {
      "text/html": [
       "<pre style=\"white-space:pre;overflow-x:auto;line-height:normal;font-family:Menlo,'DejaVu Sans Mono',consolas,'Courier New',monospace\"><span style=\"color: #008080; text-decoration-color: #008080; font-weight: bold\">2023</span>-<span style=\"color: #008080; text-decoration-color: #008080; font-weight: bold\">03</span>-<span style=\"color: #008080; text-decoration-color: #008080; font-weight: bold\">26</span> <span style=\"color: #00ff00; text-decoration-color: #00ff00; font-weight: bold\">20:06:19</span>: Input: \n",
       "<span style=\"color: #008080; text-decoration-color: #008080; font-weight: bold\">5.0</span>,<span style=\"color: #008080; text-decoration-color: #008080; font-weight: bold\">-1.3391509765783673</span>,<span style=\"color: #008080; text-decoration-color: #008080; font-weight: bold\">-0.9448699866019973</span>,<span style=\"color: #008080; text-decoration-color: #008080; font-weight: bold\">-1.1160683813557435</span>,<span style=\"color: #008080; text-decoration-color: #008080; font-weight: bold\">-0.9411142540754451</span>,<span style=\"color: #008080; text-decoration-color: #008080; font-weight: bold\">-1.1869732535125996</span>,<span style=\"color: #008080; text-decoration-color: #008080; font-weight: bold\">-1.22735657</span>\n",
       "<span style=\"color: #008080; text-decoration-color: #008080; font-weight: bold\">812316</span>,<span style=\"color: #008080; text-decoration-color: #008080; font-weight: bold\">0.0</span>,<span style=\"color: #008080; text-decoration-color: #008080; font-weight: bold\">1.0</span>,<span style=\"color: #008080; text-decoration-color: #008080; font-weight: bold\">0.0</span>\n",
       "</pre>\n"
      ],
      "text/plain": [
       "\u001b[1;36m2023\u001b[0m-\u001b[1;36m03\u001b[0m-\u001b[1;36m26\u001b[0m \u001b[1;92m20:06:19\u001b[0m: Input: \n",
       "\u001b[1;36m5.0\u001b[0m,\u001b[1;36m-1.3391509765783673\u001b[0m,\u001b[1;36m-0.9448699866019973\u001b[0m,\u001b[1;36m-1.1160683813557435\u001b[0m,\u001b[1;36m-0.9411142540754451\u001b[0m,\u001b[1;36m-1.1869732535125996\u001b[0m,\u001b[1;36m-1.22735657\u001b[0m\n",
       "\u001b[1;36m812316\u001b[0m,\u001b[1;36m0.0\u001b[0m,\u001b[1;36m1.0\u001b[0m,\u001b[1;36m0.0\u001b[0m\n"
      ]
     },
     "metadata": {},
     "output_type": "display_data"
    },
    {
     "data": {
      "text/html": [
       "<pre style=\"white-space:pre;overflow-x:auto;line-height:normal;font-family:Menlo,'DejaVu Sans Mono',consolas,'Courier New',monospace\"><span style=\"color: #008080; text-decoration-color: #008080; font-weight: bold\">2023</span>-<span style=\"color: #008080; text-decoration-color: #008080; font-weight: bold\">03</span>-<span style=\"color: #008080; text-decoration-color: #008080; font-weight: bold\">26</span> <span style=\"color: #00ff00; text-decoration-color: #00ff00; font-weight: bold\">20:06:19</span>: <span style=\"font-weight: bold\">&lt;</span><span style=\"color: #ff00ff; text-decoration-color: #ff00ff; font-weight: bold\">class</span><span style=\"color: #000000; text-decoration-color: #000000\"> </span><span style=\"color: #008000; text-decoration-color: #008000\">'numpy.ndarray'</span><span style=\"font-weight: bold\">&gt;</span>\n",
       "</pre>\n"
      ],
      "text/plain": [
       "\u001b[1;36m2023\u001b[0m-\u001b[1;36m03\u001b[0m-\u001b[1;36m26\u001b[0m \u001b[1;92m20:06:19\u001b[0m: \u001b[1m<\u001b[0m\u001b[1;95mclass\u001b[0m\u001b[39m \u001b[0m\u001b[32m'numpy.ndarray'\u001b[0m\u001b[1m>\u001b[0m\n"
      ]
     },
     "metadata": {},
     "output_type": "display_data"
    },
    {
     "data": {
      "text/html": [
       "<pre style=\"white-space:pre;overflow-x:auto;line-height:normal;font-family:Menlo,'DejaVu Sans Mono',consolas,'Courier New',monospace\"><span style=\"color: #008080; text-decoration-color: #008080; font-weight: bold\">2023</span>-<span style=\"color: #008080; text-decoration-color: #008080; font-weight: bold\">03</span>-<span style=\"color: #008080; text-decoration-color: #008080; font-weight: bold\">26</span> <span style=\"color: #00ff00; text-decoration-color: #00ff00; font-weight: bold\">20:06:19</span>: <span style=\"font-weight: bold\">&lt;</span><span style=\"color: #ff00ff; text-decoration-color: #ff00ff; font-weight: bold\">class</span><span style=\"color: #000000; text-decoration-color: #000000\"> </span><span style=\"color: #008000; text-decoration-color: #008000\">'xgboost.core.DMatrix'</span><span style=\"font-weight: bold\">&gt;</span>\n",
       "</pre>\n"
      ],
      "text/plain": [
       "\u001b[1;36m2023\u001b[0m-\u001b[1;36m03\u001b[0m-\u001b[1;36m26\u001b[0m \u001b[1;92m20:06:19\u001b[0m: \u001b[1m<\u001b[0m\u001b[1;95mclass\u001b[0m\u001b[39m \u001b[0m\u001b[32m'xgboost.core.DMatrix'\u001b[0m\u001b[1m>\u001b[0m\n"
      ]
     },
     "metadata": {},
     "output_type": "display_data"
    },
    {
     "data": {
      "text/html": [
       "<pre style=\"white-space:pre;overflow-x:auto;line-height:normal;font-family:Menlo,'DejaVu Sans Mono',consolas,'Courier New',monospace\"><span style=\"color: #008080; text-decoration-color: #008080; font-weight: bold\">2023</span>-<span style=\"color: #008080; text-decoration-color: #008080; font-weight: bold\">03</span>-<span style=\"color: #008080; text-decoration-color: #008080; font-weight: bold\">26</span> <span style=\"color: #00ff00; text-decoration-color: #00ff00; font-weight: bold\">20:06:20</span>: <span style=\"color: #00ff00; text-decoration-color: #00ff00; font-weight: bold\">169.254.178.2</span> - - <span style=\"font-weight: bold\">[</span><span style=\"color: #008080; text-decoration-color: #008080; font-weight: bold\">26</span>/Mar/<span style=\"color: #00ff00; text-decoration-color: #00ff00; font-weight: bold\">2023:20:06:19</span> +<span style=\"color: #008080; text-decoration-color: #008080; font-weight: bold\">0000</span><span style=\"font-weight: bold\">]</span> <span style=\"color: #008000; text-decoration-color: #008000\">\"POST /invocations HTTP/1.1\"</span> <span style=\"color: #008080; text-decoration-color: #008080; font-weight: bold\">200</span> <span style=\"color: #008080; text-decoration-color: #008080; font-weight: bold\">31</span> <span style=\"color: #008000; text-decoration-color: #008000\">\"-\"</span> \n",
       "<span style=\"color: #008000; text-decoration-color: #008000\">\"AHC/2.0\"</span>\n",
       "</pre>\n"
      ],
      "text/plain": [
       "\u001b[1;36m2023\u001b[0m-\u001b[1;36m03\u001b[0m-\u001b[1;36m26\u001b[0m \u001b[1;92m20:06:20\u001b[0m: \u001b[1;92m169.254.178.2\u001b[0m - - \u001b[1m[\u001b[0m\u001b[1;36m26\u001b[0m/Mar/\u001b[1;92m2023:20:06:19\u001b[0m +\u001b[1;36m0000\u001b[0m\u001b[1m]\u001b[0m \u001b[32m\"POST /invocations HTTP/1.1\"\u001b[0m \u001b[1;36m200\u001b[0m \u001b[1;36m31\u001b[0m \u001b[32m\"-\"\u001b[0m \n",
       "\u001b[32m\"AHC/2.0\"\u001b[0m\n"
      ]
     },
     "metadata": {},
     "output_type": "display_data"
    },
    {
     "data": {
      "text/html": [
       "<pre style=\"white-space:pre;overflow-x:auto;line-height:normal;font-family:Menlo,'DejaVu Sans Mono',consolas,'Courier New',monospace\"><span style=\"color: #008080; text-decoration-color: #008080; font-weight: bold\">2023</span>-<span style=\"color: #008080; text-decoration-color: #008080; font-weight: bold\">03</span>-<span style=\"color: #008080; text-decoration-color: #008080; font-weight: bold\">26</span> <span style=\"color: #00ff00; text-decoration-color: #00ff00; font-weight: bold\">20:06:20</span>: Transformed data: <span style=\"font-weight: bold\">&lt;</span><span style=\"color: #ff00ff; text-decoration-color: #ff00ff; font-weight: bold\">xgboost.core.DMatrix</span><span style=\"color: #000000; text-decoration-color: #000000\"> object at </span><span style=\"color: #008080; text-decoration-color: #008080; font-weight: bold\">0x7f662be94d30</span><span style=\"font-weight: bold\">&gt;</span>\n",
       "</pre>\n"
      ],
      "text/plain": [
       "\u001b[1;36m2023\u001b[0m-\u001b[1;36m03\u001b[0m-\u001b[1;36m26\u001b[0m \u001b[1;92m20:06:20\u001b[0m: Transformed data: \u001b[1m<\u001b[0m\u001b[1;95mxgboost.core.DMatrix\u001b[0m\u001b[39m object at \u001b[0m\u001b[1;36m0x7f662be94d30\u001b[0m\u001b[1m>\u001b[0m\n"
      ]
     },
     "metadata": {},
     "output_type": "display_data"
    },
    {
     "data": {
      "text/html": [
       "<pre style=\"white-space:pre;overflow-x:auto;line-height:normal;font-family:Menlo,'DejaVu Sans Mono',consolas,'Courier New',monospace\"><span style=\"color: #008080; text-decoration-color: #008080; font-weight: bold\">2023</span>-<span style=\"color: #008080; text-decoration-color: #008080; font-weight: bold\">03</span>-<span style=\"color: #008080; text-decoration-color: #008080; font-weight: bold\">26</span> <span style=\"color: #00ff00; text-decoration-color: #00ff00; font-weight: bold\">20:06:20</span>: xgboost model loaded\n",
       "</pre>\n"
      ],
      "text/plain": [
       "\u001b[1;36m2023\u001b[0m-\u001b[1;36m03\u001b[0m-\u001b[1;36m26\u001b[0m \u001b[1;92m20:06:20\u001b[0m: xgboost model loaded\n"
      ]
     },
     "metadata": {},
     "output_type": "display_data"
    },
    {
     "data": {
      "text/html": [
       "<pre style=\"white-space:pre;overflow-x:auto;line-height:normal;font-family:Menlo,'DejaVu Sans Mono',consolas,'Courier New',monospace\"><span style=\"color: #008080; text-decoration-color: #008080; font-weight: bold\">2023</span>-<span style=\"color: #008080; text-decoration-color: #008080; font-weight: bold\">03</span>-<span style=\"color: #008080; text-decoration-color: #008080; font-weight: bold\">26</span> <span style=\"color: #00ff00; text-decoration-color: #00ff00; font-weight: bold\">20:06:24</span>: <span style=\"color: #00ff00; text-decoration-color: #00ff00; font-weight: bold\">169.254.178.2</span> - - <span style=\"font-weight: bold\">[</span><span style=\"color: #008080; text-decoration-color: #008080; font-weight: bold\">26</span>/Mar/<span style=\"color: #00ff00; text-decoration-color: #00ff00; font-weight: bold\">2023:20:06:20</span> +<span style=\"color: #008080; text-decoration-color: #008080; font-weight: bold\">0000</span><span style=\"font-weight: bold\">]</span> <span style=\"color: #008000; text-decoration-color: #008000\">\"GET /ping HTTP/1.1\"</span> <span style=\"color: #008080; text-decoration-color: #008080; font-weight: bold\">200</span> <span style=\"color: #008080; text-decoration-color: #008080; font-weight: bold\">1</span> <span style=\"color: #008000; text-decoration-color: #008000\">\"-\"</span> <span style=\"color: #008000; text-decoration-color: #008000\">\"AHC/2.0\"</span>\n",
       "</pre>\n"
      ],
      "text/plain": [
       "\u001b[1;36m2023\u001b[0m-\u001b[1;36m03\u001b[0m-\u001b[1;36m26\u001b[0m \u001b[1;92m20:06:24\u001b[0m: \u001b[1;92m169.254.178.2\u001b[0m - - \u001b[1m[\u001b[0m\u001b[1;36m26\u001b[0m/Mar/\u001b[1;92m2023:20:06:20\u001b[0m +\u001b[1;36m0000\u001b[0m\u001b[1m]\u001b[0m \u001b[32m\"GET /ping HTTP/1.1\"\u001b[0m \u001b[1;36m200\u001b[0m \u001b[1;36m1\u001b[0m \u001b[32m\"-\"\u001b[0m \u001b[32m\"AHC/2.0\"\u001b[0m\n"
      ]
     },
     "metadata": {},
     "output_type": "display_data"
    },
    {
     "data": {
      "text/html": [
       "<pre style=\"white-space:pre;overflow-x:auto;line-height:normal;font-family:Menlo,'DejaVu Sans Mono',consolas,'Courier New',monospace\"><span style=\"color: #008080; text-decoration-color: #008080; font-weight: bold\">2023</span>-<span style=\"color: #008080; text-decoration-color: #008080; font-weight: bold\">03</span>-<span style=\"color: #008080; text-decoration-color: #008080; font-weight: bold\">26</span> <span style=\"color: #00ff00; text-decoration-color: #00ff00; font-weight: bold\">20:06:25</span>: xgboost model loaded\n",
       "</pre>\n"
      ],
      "text/plain": [
       "\u001b[1;36m2023\u001b[0m-\u001b[1;36m03\u001b[0m-\u001b[1;36m26\u001b[0m \u001b[1;92m20:06:25\u001b[0m: xgboost model loaded\n"
      ]
     },
     "metadata": {},
     "output_type": "display_data"
    },
    {
     "data": {
      "text/html": [
       "<pre style=\"white-space:pre;overflow-x:auto;line-height:normal;font-family:Menlo,'DejaVu Sans Mono',consolas,'Courier New',monospace\"><span style=\"color: #008080; text-decoration-color: #008080; font-weight: bold\">2023</span>-<span style=\"color: #008080; text-decoration-color: #008080; font-weight: bold\">03</span>-<span style=\"color: #008080; text-decoration-color: #008080; font-weight: bold\">26</span> <span style=\"color: #00ff00; text-decoration-color: #00ff00; font-weight: bold\">20:06:29</span>: <span style=\"color: #00ff00; text-decoration-color: #00ff00; font-weight: bold\">169.254.178.2</span> - - <span style=\"font-weight: bold\">[</span><span style=\"color: #008080; text-decoration-color: #008080; font-weight: bold\">26</span>/Mar/<span style=\"color: #00ff00; text-decoration-color: #00ff00; font-weight: bold\">2023:20:06:25</span> +<span style=\"color: #008080; text-decoration-color: #008080; font-weight: bold\">0000</span><span style=\"font-weight: bold\">]</span> <span style=\"color: #008000; text-decoration-color: #008000\">\"GET /ping HTTP/1.1\"</span> <span style=\"color: #008080; text-decoration-color: #008080; font-weight: bold\">200</span> <span style=\"color: #008080; text-decoration-color: #008080; font-weight: bold\">1</span> <span style=\"color: #008000; text-decoration-color: #008000\">\"-\"</span> <span style=\"color: #008000; text-decoration-color: #008000\">\"AHC/2.0\"</span>\n",
       "</pre>\n"
      ],
      "text/plain": [
       "\u001b[1;36m2023\u001b[0m-\u001b[1;36m03\u001b[0m-\u001b[1;36m26\u001b[0m \u001b[1;92m20:06:29\u001b[0m: \u001b[1;92m169.254.178.2\u001b[0m - - \u001b[1m[\u001b[0m\u001b[1;36m26\u001b[0m/Mar/\u001b[1;92m2023:20:06:25\u001b[0m +\u001b[1;36m0000\u001b[0m\u001b[1m]\u001b[0m \u001b[32m\"GET /ping HTTP/1.1\"\u001b[0m \u001b[1;36m200\u001b[0m \u001b[1;36m1\u001b[0m \u001b[32m\"-\"\u001b[0m \u001b[32m\"AHC/2.0\"\u001b[0m\n"
      ]
     },
     "metadata": {},
     "output_type": "display_data"
    },
    {
     "data": {
      "text/html": [
       "<pre style=\"white-space:pre;overflow-x:auto;line-height:normal;font-family:Menlo,'DejaVu Sans Mono',consolas,'Courier New',monospace\"><span style=\"color: #008080; text-decoration-color: #008080; font-weight: bold\">2023</span>-<span style=\"color: #008080; text-decoration-color: #008080; font-weight: bold\">03</span>-<span style=\"color: #008080; text-decoration-color: #008080; font-weight: bold\">26</span> <span style=\"color: #00ff00; text-decoration-color: #00ff00; font-weight: bold\">20:06:30</span>: xgboost model loaded\n",
       "</pre>\n"
      ],
      "text/plain": [
       "\u001b[1;36m2023\u001b[0m-\u001b[1;36m03\u001b[0m-\u001b[1;36m26\u001b[0m \u001b[1;92m20:06:30\u001b[0m: xgboost model loaded\n"
      ]
     },
     "metadata": {},
     "output_type": "display_data"
    },
    {
     "data": {
      "text/html": [
       "<pre style=\"white-space:pre;overflow-x:auto;line-height:normal;font-family:Menlo,'DejaVu Sans Mono',consolas,'Courier New',monospace\"><span style=\"color: #008080; text-decoration-color: #008080; font-weight: bold\">2023</span>-<span style=\"color: #008080; text-decoration-color: #008080; font-weight: bold\">03</span>-<span style=\"color: #008080; text-decoration-color: #008080; font-weight: bold\">26</span> <span style=\"color: #00ff00; text-decoration-color: #00ff00; font-weight: bold\">20:06:34</span>: <span style=\"color: #00ff00; text-decoration-color: #00ff00; font-weight: bold\">169.254.178.2</span> - - <span style=\"font-weight: bold\">[</span><span style=\"color: #008080; text-decoration-color: #008080; font-weight: bold\">26</span>/Mar/<span style=\"color: #00ff00; text-decoration-color: #00ff00; font-weight: bold\">2023:20:06:30</span> +<span style=\"color: #008080; text-decoration-color: #008080; font-weight: bold\">0000</span><span style=\"font-weight: bold\">]</span> <span style=\"color: #008000; text-decoration-color: #008000\">\"GET /ping HTTP/1.1\"</span> <span style=\"color: #008080; text-decoration-color: #008080; font-weight: bold\">200</span> <span style=\"color: #008080; text-decoration-color: #008080; font-weight: bold\">1</span> <span style=\"color: #008000; text-decoration-color: #008000\">\"-\"</span> <span style=\"color: #008000; text-decoration-color: #008000\">\"AHC/2.0\"</span>\n",
       "</pre>\n"
      ],
      "text/plain": [
       "\u001b[1;36m2023\u001b[0m-\u001b[1;36m03\u001b[0m-\u001b[1;36m26\u001b[0m \u001b[1;92m20:06:34\u001b[0m: \u001b[1;92m169.254.178.2\u001b[0m - - \u001b[1m[\u001b[0m\u001b[1;36m26\u001b[0m/Mar/\u001b[1;92m2023:20:06:30\u001b[0m +\u001b[1;36m0000\u001b[0m\u001b[1m]\u001b[0m \u001b[32m\"GET /ping HTTP/1.1\"\u001b[0m \u001b[1;36m200\u001b[0m \u001b[1;36m1\u001b[0m \u001b[32m\"-\"\u001b[0m \u001b[32m\"AHC/2.0\"\u001b[0m\n"
      ]
     },
     "metadata": {},
     "output_type": "display_data"
    },
    {
     "data": {
      "text/html": [
       "<pre style=\"white-space:pre;overflow-x:auto;line-height:normal;font-family:Menlo,'DejaVu Sans Mono',consolas,'Courier New',monospace\"><span style=\"color: #008080; text-decoration-color: #008080; font-weight: bold\">2023</span>-<span style=\"color: #008080; text-decoration-color: #008080; font-weight: bold\">03</span>-<span style=\"color: #008080; text-decoration-color: #008080; font-weight: bold\">26</span> <span style=\"color: #00ff00; text-decoration-color: #00ff00; font-weight: bold\">20:06:35</span>: xgboost model loaded\n",
       "</pre>\n"
      ],
      "text/plain": [
       "\u001b[1;36m2023\u001b[0m-\u001b[1;36m03\u001b[0m-\u001b[1;36m26\u001b[0m \u001b[1;92m20:06:35\u001b[0m: xgboost model loaded\n"
      ]
     },
     "metadata": {},
     "output_type": "display_data"
    },
    {
     "data": {
      "text/html": [
       "<pre style=\"white-space:pre;overflow-x:auto;line-height:normal;font-family:Menlo,'DejaVu Sans Mono',consolas,'Courier New',monospace\"><span style=\"color: #008080; text-decoration-color: #008080; font-weight: bold\">2023</span>-<span style=\"color: #008080; text-decoration-color: #008080; font-weight: bold\">03</span>-<span style=\"color: #008080; text-decoration-color: #008080; font-weight: bold\">26</span> <span style=\"color: #00ff00; text-decoration-color: #00ff00; font-weight: bold\">20:06:39</span>: <span style=\"color: #00ff00; text-decoration-color: #00ff00; font-weight: bold\">169.254.178.2</span> - - <span style=\"font-weight: bold\">[</span><span style=\"color: #008080; text-decoration-color: #008080; font-weight: bold\">26</span>/Mar/<span style=\"color: #00ff00; text-decoration-color: #00ff00; font-weight: bold\">2023:20:06:35</span> +<span style=\"color: #008080; text-decoration-color: #008080; font-weight: bold\">0000</span><span style=\"font-weight: bold\">]</span> <span style=\"color: #008000; text-decoration-color: #008000\">\"GET /ping HTTP/1.1\"</span> <span style=\"color: #008080; text-decoration-color: #008080; font-weight: bold\">200</span> <span style=\"color: #008080; text-decoration-color: #008080; font-weight: bold\">1</span> <span style=\"color: #008000; text-decoration-color: #008000\">\"-\"</span> <span style=\"color: #008000; text-decoration-color: #008000\">\"AHC/2.0\"</span>\n",
       "</pre>\n"
      ],
      "text/plain": [
       "\u001b[1;36m2023\u001b[0m-\u001b[1;36m03\u001b[0m-\u001b[1;36m26\u001b[0m \u001b[1;92m20:06:39\u001b[0m: \u001b[1;92m169.254.178.2\u001b[0m - - \u001b[1m[\u001b[0m\u001b[1;36m26\u001b[0m/Mar/\u001b[1;92m2023:20:06:35\u001b[0m +\u001b[1;36m0000\u001b[0m\u001b[1m]\u001b[0m \u001b[32m\"GET /ping HTTP/1.1\"\u001b[0m \u001b[1;36m200\u001b[0m \u001b[1;36m1\u001b[0m \u001b[32m\"-\"\u001b[0m \u001b[32m\"AHC/2.0\"\u001b[0m\n"
      ]
     },
     "metadata": {},
     "output_type": "display_data"
    },
    {
     "data": {
      "text/html": [
       "<pre style=\"white-space:pre;overflow-x:auto;line-height:normal;font-family:Menlo,'DejaVu Sans Mono',consolas,'Courier New',monospace\"><span style=\"color: #008080; text-decoration-color: #008080; font-weight: bold\">2023</span>-<span style=\"color: #008080; text-decoration-color: #008080; font-weight: bold\">03</span>-<span style=\"color: #008080; text-decoration-color: #008080; font-weight: bold\">26</span> <span style=\"color: #00ff00; text-decoration-color: #00ff00; font-weight: bold\">20:06:40</span>: Transformed data: <span style=\"font-weight: bold\">&lt;</span><span style=\"color: #ff00ff; text-decoration-color: #ff00ff; font-weight: bold\">xgboost.core.DMatrix</span><span style=\"color: #000000; text-decoration-color: #000000\"> object at </span><span style=\"color: #008080; text-decoration-color: #008080; font-weight: bold\">0x7f662be930a0</span><span style=\"font-weight: bold\">&gt;</span>\n",
       "</pre>\n"
      ],
      "text/plain": [
       "\u001b[1;36m2023\u001b[0m-\u001b[1;36m03\u001b[0m-\u001b[1;36m26\u001b[0m \u001b[1;92m20:06:40\u001b[0m: Transformed data: \u001b[1m<\u001b[0m\u001b[1;95mxgboost.core.DMatrix\u001b[0m\u001b[39m object at \u001b[0m\u001b[1;36m0x7f662be930a0\u001b[0m\u001b[1m>\u001b[0m\n"
      ]
     },
     "metadata": {},
     "output_type": "display_data"
    },
    {
     "data": {
      "text/html": [
       "<pre style=\"white-space:pre;overflow-x:auto;line-height:normal;font-family:Menlo,'DejaVu Sans Mono',consolas,'Courier New',monospace\"><span style=\"color: #008080; text-decoration-color: #008080; font-weight: bold\">2023</span>-<span style=\"color: #008080; text-decoration-color: #008080; font-weight: bold\">03</span>-<span style=\"color: #008080; text-decoration-color: #008080; font-weight: bold\">26</span> <span style=\"color: #00ff00; text-decoration-color: #00ff00; font-weight: bold\">20:06:40</span>: xgboost model loaded\n",
       "</pre>\n"
      ],
      "text/plain": [
       "\u001b[1;36m2023\u001b[0m-\u001b[1;36m03\u001b[0m-\u001b[1;36m26\u001b[0m \u001b[1;92m20:06:40\u001b[0m: xgboost model loaded\n"
      ]
     },
     "metadata": {},
     "output_type": "display_data"
    },
    {
     "data": {
      "text/html": [
       "<pre style=\"white-space:pre;overflow-x:auto;line-height:normal;font-family:Menlo,'DejaVu Sans Mono',consolas,'Courier New',monospace\"><span style=\"color: #008080; text-decoration-color: #008080; font-weight: bold\">2023</span>-<span style=\"color: #008080; text-decoration-color: #008080; font-weight: bold\">03</span>-<span style=\"color: #008080; text-decoration-color: #008080; font-weight: bold\">26</span> <span style=\"color: #00ff00; text-decoration-color: #00ff00; font-weight: bold\">20:06:44</span>: <span style=\"color: #00ff00; text-decoration-color: #00ff00; font-weight: bold\">169.254.178.2</span> - - <span style=\"font-weight: bold\">[</span><span style=\"color: #008080; text-decoration-color: #008080; font-weight: bold\">26</span>/Mar/<span style=\"color: #00ff00; text-decoration-color: #00ff00; font-weight: bold\">2023:20:06:40</span> +<span style=\"color: #008080; text-decoration-color: #008080; font-weight: bold\">0000</span><span style=\"font-weight: bold\">]</span> <span style=\"color: #008000; text-decoration-color: #008000\">\"GET /ping HTTP/1.1\"</span> <span style=\"color: #008080; text-decoration-color: #008080; font-weight: bold\">200</span> <span style=\"color: #008080; text-decoration-color: #008080; font-weight: bold\">1</span> <span style=\"color: #008000; text-decoration-color: #008000\">\"-\"</span> <span style=\"color: #008000; text-decoration-color: #008000\">\"AHC/2.0\"</span>\n",
       "</pre>\n"
      ],
      "text/plain": [
       "\u001b[1;36m2023\u001b[0m-\u001b[1;36m03\u001b[0m-\u001b[1;36m26\u001b[0m \u001b[1;92m20:06:44\u001b[0m: \u001b[1;92m169.254.178.2\u001b[0m - - \u001b[1m[\u001b[0m\u001b[1;36m26\u001b[0m/Mar/\u001b[1;92m2023:20:06:40\u001b[0m +\u001b[1;36m0000\u001b[0m\u001b[1m]\u001b[0m \u001b[32m\"GET /ping HTTP/1.1\"\u001b[0m \u001b[1;36m200\u001b[0m \u001b[1;36m1\u001b[0m \u001b[32m\"-\"\u001b[0m \u001b[32m\"AHC/2.0\"\u001b[0m\n"
      ]
     },
     "metadata": {},
     "output_type": "display_data"
    },
    {
     "data": {
      "text/html": [
       "<pre style=\"white-space:pre;overflow-x:auto;line-height:normal;font-family:Menlo,'DejaVu Sans Mono',consolas,'Courier New',monospace\"><span style=\"color: #008080; text-decoration-color: #008080; font-weight: bold\">2023</span>-<span style=\"color: #008080; text-decoration-color: #008080; font-weight: bold\">03</span>-<span style=\"color: #008080; text-decoration-color: #008080; font-weight: bold\">26</span> <span style=\"color: #00ff00; text-decoration-color: #00ff00; font-weight: bold\">20:06:45</span>: xgboost model loaded\n",
       "</pre>\n"
      ],
      "text/plain": [
       "\u001b[1;36m2023\u001b[0m-\u001b[1;36m03\u001b[0m-\u001b[1;36m26\u001b[0m \u001b[1;92m20:06:45\u001b[0m: xgboost model loaded\n"
      ]
     },
     "metadata": {},
     "output_type": "display_data"
    },
    {
     "data": {
      "text/html": [
       "<pre style=\"white-space:pre;overflow-x:auto;line-height:normal;font-family:Menlo,'DejaVu Sans Mono',consolas,'Courier New',monospace\"><span style=\"color: #008080; text-decoration-color: #008080; font-weight: bold\">2023</span>-<span style=\"color: #008080; text-decoration-color: #008080; font-weight: bold\">03</span>-<span style=\"color: #008080; text-decoration-color: #008080; font-weight: bold\">26</span> <span style=\"color: #00ff00; text-decoration-color: #00ff00; font-weight: bold\">20:06:49</span>: <span style=\"color: #00ff00; text-decoration-color: #00ff00; font-weight: bold\">169.254.178.2</span> - - <span style=\"font-weight: bold\">[</span><span style=\"color: #008080; text-decoration-color: #008080; font-weight: bold\">26</span>/Mar/<span style=\"color: #00ff00; text-decoration-color: #00ff00; font-weight: bold\">2023:20:06:45</span> +<span style=\"color: #008080; text-decoration-color: #008080; font-weight: bold\">0000</span><span style=\"font-weight: bold\">]</span> <span style=\"color: #008000; text-decoration-color: #008000\">\"GET /ping HTTP/1.1\"</span> <span style=\"color: #008080; text-decoration-color: #008080; font-weight: bold\">200</span> <span style=\"color: #008080; text-decoration-color: #008080; font-weight: bold\">1</span> <span style=\"color: #008000; text-decoration-color: #008000\">\"-\"</span> <span style=\"color: #008000; text-decoration-color: #008000\">\"AHC/2.0\"</span>\n",
       "</pre>\n"
      ],
      "text/plain": [
       "\u001b[1;36m2023\u001b[0m-\u001b[1;36m03\u001b[0m-\u001b[1;36m26\u001b[0m \u001b[1;92m20:06:49\u001b[0m: \u001b[1;92m169.254.178.2\u001b[0m - - \u001b[1m[\u001b[0m\u001b[1;36m26\u001b[0m/Mar/\u001b[1;92m2023:20:06:45\u001b[0m +\u001b[1;36m0000\u001b[0m\u001b[1m]\u001b[0m \u001b[32m\"GET /ping HTTP/1.1\"\u001b[0m \u001b[1;36m200\u001b[0m \u001b[1;36m1\u001b[0m \u001b[32m\"-\"\u001b[0m \u001b[32m\"AHC/2.0\"\u001b[0m\n"
      ]
     },
     "metadata": {},
     "output_type": "display_data"
    },
    {
     "data": {
      "text/html": [
       "<pre style=\"white-space:pre;overflow-x:auto;line-height:normal;font-family:Menlo,'DejaVu Sans Mono',consolas,'Courier New',monospace\"><span style=\"color: #008080; text-decoration-color: #008080; font-weight: bold\">2023</span>-<span style=\"color: #008080; text-decoration-color: #008080; font-weight: bold\">03</span>-<span style=\"color: #008080; text-decoration-color: #008080; font-weight: bold\">26</span> <span style=\"color: #00ff00; text-decoration-color: #00ff00; font-weight: bold\">20:06:50</span>: xgboost model loaded\n",
       "</pre>\n"
      ],
      "text/plain": [
       "\u001b[1;36m2023\u001b[0m-\u001b[1;36m03\u001b[0m-\u001b[1;36m26\u001b[0m \u001b[1;92m20:06:50\u001b[0m: xgboost model loaded\n"
      ]
     },
     "metadata": {},
     "output_type": "display_data"
    },
    {
     "data": {
      "text/html": [
       "<pre style=\"white-space:pre;overflow-x:auto;line-height:normal;font-family:Menlo,'DejaVu Sans Mono',consolas,'Courier New',monospace\"><span style=\"color: #008080; text-decoration-color: #008080; font-weight: bold\">2023</span>-<span style=\"color: #008080; text-decoration-color: #008080; font-weight: bold\">03</span>-<span style=\"color: #008080; text-decoration-color: #008080; font-weight: bold\">26</span> <span style=\"color: #00ff00; text-decoration-color: #00ff00; font-weight: bold\">20:06:54</span>: <span style=\"color: #00ff00; text-decoration-color: #00ff00; font-weight: bold\">169.254.178.2</span> - - <span style=\"font-weight: bold\">[</span><span style=\"color: #008080; text-decoration-color: #008080; font-weight: bold\">26</span>/Mar/<span style=\"color: #00ff00; text-decoration-color: #00ff00; font-weight: bold\">2023:20:06:50</span> +<span style=\"color: #008080; text-decoration-color: #008080; font-weight: bold\">0000</span><span style=\"font-weight: bold\">]</span> <span style=\"color: #008000; text-decoration-color: #008000\">\"GET /ping HTTP/1.1\"</span> <span style=\"color: #008080; text-decoration-color: #008080; font-weight: bold\">200</span> <span style=\"color: #008080; text-decoration-color: #008080; font-weight: bold\">1</span> <span style=\"color: #008000; text-decoration-color: #008000\">\"-\"</span> <span style=\"color: #008000; text-decoration-color: #008000\">\"AHC/2.0\"</span>\n",
       "</pre>\n"
      ],
      "text/plain": [
       "\u001b[1;36m2023\u001b[0m-\u001b[1;36m03\u001b[0m-\u001b[1;36m26\u001b[0m \u001b[1;92m20:06:54\u001b[0m: \u001b[1;92m169.254.178.2\u001b[0m - - \u001b[1m[\u001b[0m\u001b[1;36m26\u001b[0m/Mar/\u001b[1;92m2023:20:06:50\u001b[0m +\u001b[1;36m0000\u001b[0m\u001b[1m]\u001b[0m \u001b[32m\"GET /ping HTTP/1.1\"\u001b[0m \u001b[1;36m200\u001b[0m \u001b[1;36m1\u001b[0m \u001b[32m\"-\"\u001b[0m \u001b[32m\"AHC/2.0\"\u001b[0m\n"
      ]
     },
     "metadata": {},
     "output_type": "display_data"
    },
    {
     "data": {
      "text/html": [
       "<pre style=\"white-space:pre;overflow-x:auto;line-height:normal;font-family:Menlo,'DejaVu Sans Mono',consolas,'Courier New',monospace\"><span style=\"color: #008080; text-decoration-color: #008080; font-weight: bold\">2023</span>-<span style=\"color: #008080; text-decoration-color: #008080; font-weight: bold\">03</span>-<span style=\"color: #008080; text-decoration-color: #008080; font-weight: bold\">26</span> <span style=\"color: #00ff00; text-decoration-color: #00ff00; font-weight: bold\">20:06:55</span>: xgboost model loaded\n",
       "</pre>\n"
      ],
      "text/plain": [
       "\u001b[1;36m2023\u001b[0m-\u001b[1;36m03\u001b[0m-\u001b[1;36m26\u001b[0m \u001b[1;92m20:06:55\u001b[0m: xgboost model loaded\n"
      ]
     },
     "metadata": {},
     "output_type": "display_data"
    },
    {
     "data": {
      "text/html": [
       "<pre style=\"white-space:pre;overflow-x:auto;line-height:normal;font-family:Menlo,'DejaVu Sans Mono',consolas,'Courier New',monospace\"><span style=\"color: #008080; text-decoration-color: #008080; font-weight: bold\">2023</span>-<span style=\"color: #008080; text-decoration-color: #008080; font-weight: bold\">03</span>-<span style=\"color: #008080; text-decoration-color: #008080; font-weight: bold\">26</span> <span style=\"color: #00ff00; text-decoration-color: #00ff00; font-weight: bold\">20:06:59</span>: <span style=\"color: #00ff00; text-decoration-color: #00ff00; font-weight: bold\">169.254.178.2</span> - - <span style=\"font-weight: bold\">[</span><span style=\"color: #008080; text-decoration-color: #008080; font-weight: bold\">26</span>/Mar/<span style=\"color: #00ff00; text-decoration-color: #00ff00; font-weight: bold\">2023:20:06:55</span> +<span style=\"color: #008080; text-decoration-color: #008080; font-weight: bold\">0000</span><span style=\"font-weight: bold\">]</span> <span style=\"color: #008000; text-decoration-color: #008000\">\"GET /ping HTTP/1.1\"</span> <span style=\"color: #008080; text-decoration-color: #008080; font-weight: bold\">200</span> <span style=\"color: #008080; text-decoration-color: #008080; font-weight: bold\">1</span> <span style=\"color: #008000; text-decoration-color: #008000\">\"-\"</span> <span style=\"color: #008000; text-decoration-color: #008000\">\"AHC/2.0\"</span>\n",
       "</pre>\n"
      ],
      "text/plain": [
       "\u001b[1;36m2023\u001b[0m-\u001b[1;36m03\u001b[0m-\u001b[1;36m26\u001b[0m \u001b[1;92m20:06:59\u001b[0m: \u001b[1;92m169.254.178.2\u001b[0m - - \u001b[1m[\u001b[0m\u001b[1;36m26\u001b[0m/Mar/\u001b[1;92m2023:20:06:55\u001b[0m +\u001b[1;36m0000\u001b[0m\u001b[1m]\u001b[0m \u001b[32m\"GET /ping HTTP/1.1\"\u001b[0m \u001b[1;36m200\u001b[0m \u001b[1;36m1\u001b[0m \u001b[32m\"-\"\u001b[0m \u001b[32m\"AHC/2.0\"\u001b[0m\n"
      ]
     },
     "metadata": {},
     "output_type": "display_data"
    },
    {
     "data": {
      "text/html": [
       "<pre style=\"white-space:pre;overflow-x:auto;line-height:normal;font-family:Menlo,'DejaVu Sans Mono',consolas,'Courier New',monospace\"><span style=\"color: #008080; text-decoration-color: #008080; font-weight: bold\">2023</span>-<span style=\"color: #008080; text-decoration-color: #008080; font-weight: bold\">03</span>-<span style=\"color: #008080; text-decoration-color: #008080; font-weight: bold\">26</span> <span style=\"color: #00ff00; text-decoration-color: #00ff00; font-weight: bold\">20:07:00</span>: xgboost model loaded\n",
       "</pre>\n"
      ],
      "text/plain": [
       "\u001b[1;36m2023\u001b[0m-\u001b[1;36m03\u001b[0m-\u001b[1;36m26\u001b[0m \u001b[1;92m20:07:00\u001b[0m: xgboost model loaded\n"
      ]
     },
     "metadata": {},
     "output_type": "display_data"
    },
    {
     "data": {
      "text/html": [
       "<pre style=\"white-space:pre;overflow-x:auto;line-height:normal;font-family:Menlo,'DejaVu Sans Mono',consolas,'Courier New',monospace\"><span style=\"color: #008080; text-decoration-color: #008080; font-weight: bold\">2023</span>-<span style=\"color: #008080; text-decoration-color: #008080; font-weight: bold\">03</span>-<span style=\"color: #008080; text-decoration-color: #008080; font-weight: bold\">26</span> <span style=\"color: #00ff00; text-decoration-color: #00ff00; font-weight: bold\">20:07:04</span>: <span style=\"color: #00ff00; text-decoration-color: #00ff00; font-weight: bold\">169.254.178.2</span> - - <span style=\"font-weight: bold\">[</span><span style=\"color: #008080; text-decoration-color: #008080; font-weight: bold\">26</span>/Mar/<span style=\"color: #00ff00; text-decoration-color: #00ff00; font-weight: bold\">2023:20:07:00</span> +<span style=\"color: #008080; text-decoration-color: #008080; font-weight: bold\">0000</span><span style=\"font-weight: bold\">]</span> <span style=\"color: #008000; text-decoration-color: #008000\">\"GET /ping HTTP/1.1\"</span> <span style=\"color: #008080; text-decoration-color: #008080; font-weight: bold\">200</span> <span style=\"color: #008080; text-decoration-color: #008080; font-weight: bold\">1</span> <span style=\"color: #008000; text-decoration-color: #008000\">\"-\"</span> <span style=\"color: #008000; text-decoration-color: #008000\">\"AHC/2.0\"</span>\n",
       "</pre>\n"
      ],
      "text/plain": [
       "\u001b[1;36m2023\u001b[0m-\u001b[1;36m03\u001b[0m-\u001b[1;36m26\u001b[0m \u001b[1;92m20:07:04\u001b[0m: \u001b[1;92m169.254.178.2\u001b[0m - - \u001b[1m[\u001b[0m\u001b[1;36m26\u001b[0m/Mar/\u001b[1;92m2023:20:07:00\u001b[0m +\u001b[1;36m0000\u001b[0m\u001b[1m]\u001b[0m \u001b[32m\"GET /ping HTTP/1.1\"\u001b[0m \u001b[1;36m200\u001b[0m \u001b[1;36m1\u001b[0m \u001b[32m\"-\"\u001b[0m \u001b[32m\"AHC/2.0\"\u001b[0m\n"
      ]
     },
     "metadata": {},
     "output_type": "display_data"
    },
    {
     "data": {
      "text/html": [
       "<pre style=\"white-space:pre;overflow-x:auto;line-height:normal;font-family:Menlo,'DejaVu Sans Mono',consolas,'Courier New',monospace\"><span style=\"color: #008080; text-decoration-color: #008080; font-weight: bold\">2023</span>-<span style=\"color: #008080; text-decoration-color: #008080; font-weight: bold\">03</span>-<span style=\"color: #008080; text-decoration-color: #008080; font-weight: bold\">26</span> <span style=\"color: #00ff00; text-decoration-color: #00ff00; font-weight: bold\">20:07:05</span>: xgboost model loaded\n",
       "</pre>\n"
      ],
      "text/plain": [
       "\u001b[1;36m2023\u001b[0m-\u001b[1;36m03\u001b[0m-\u001b[1;36m26\u001b[0m \u001b[1;92m20:07:05\u001b[0m: xgboost model loaded\n"
      ]
     },
     "metadata": {},
     "output_type": "display_data"
    },
    {
     "data": {
      "text/html": [
       "<pre style=\"white-space:pre;overflow-x:auto;line-height:normal;font-family:Menlo,'DejaVu Sans Mono',consolas,'Courier New',monospace\"><span style=\"color: #008080; text-decoration-color: #008080; font-weight: bold\">2023</span>-<span style=\"color: #008080; text-decoration-color: #008080; font-weight: bold\">03</span>-<span style=\"color: #008080; text-decoration-color: #008080; font-weight: bold\">26</span> <span style=\"color: #00ff00; text-decoration-color: #00ff00; font-weight: bold\">20:07:09</span>: <span style=\"color: #00ff00; text-decoration-color: #00ff00; font-weight: bold\">169.254.178.2</span> - - <span style=\"font-weight: bold\">[</span><span style=\"color: #008080; text-decoration-color: #008080; font-weight: bold\">26</span>/Mar/<span style=\"color: #00ff00; text-decoration-color: #00ff00; font-weight: bold\">2023:20:07:05</span> +<span style=\"color: #008080; text-decoration-color: #008080; font-weight: bold\">0000</span><span style=\"font-weight: bold\">]</span> <span style=\"color: #008000; text-decoration-color: #008000\">\"GET /ping HTTP/1.1\"</span> <span style=\"color: #008080; text-decoration-color: #008080; font-weight: bold\">200</span> <span style=\"color: #008080; text-decoration-color: #008080; font-weight: bold\">1</span> <span style=\"color: #008000; text-decoration-color: #008000\">\"-\"</span> <span style=\"color: #008000; text-decoration-color: #008000\">\"AHC/2.0\"</span>\n",
       "</pre>\n"
      ],
      "text/plain": [
       "\u001b[1;36m2023\u001b[0m-\u001b[1;36m03\u001b[0m-\u001b[1;36m26\u001b[0m \u001b[1;92m20:07:09\u001b[0m: \u001b[1;92m169.254.178.2\u001b[0m - - \u001b[1m[\u001b[0m\u001b[1;36m26\u001b[0m/Mar/\u001b[1;92m2023:20:07:05\u001b[0m +\u001b[1;36m0000\u001b[0m\u001b[1m]\u001b[0m \u001b[32m\"GET /ping HTTP/1.1\"\u001b[0m \u001b[1;36m200\u001b[0m \u001b[1;36m1\u001b[0m \u001b[32m\"-\"\u001b[0m \u001b[32m\"AHC/2.0\"\u001b[0m\n"
      ]
     },
     "metadata": {},
     "output_type": "display_data"
    },
    {
     "data": {
      "text/html": [
       "<pre style=\"white-space:pre;overflow-x:auto;line-height:normal;font-family:Menlo,'DejaVu Sans Mono',consolas,'Courier New',monospace\"><span style=\"color: #008080; text-decoration-color: #008080; font-weight: bold\">2023</span>-<span style=\"color: #008080; text-decoration-color: #008080; font-weight: bold\">03</span>-<span style=\"color: #008080; text-decoration-color: #008080; font-weight: bold\">26</span> <span style=\"color: #00ff00; text-decoration-color: #00ff00; font-weight: bold\">20:07:10</span>: xgboost model loaded\n",
       "</pre>\n"
      ],
      "text/plain": [
       "\u001b[1;36m2023\u001b[0m-\u001b[1;36m03\u001b[0m-\u001b[1;36m26\u001b[0m \u001b[1;92m20:07:10\u001b[0m: xgboost model loaded\n"
      ]
     },
     "metadata": {},
     "output_type": "display_data"
    },
    {
     "data": {
      "text/html": [
       "<pre style=\"white-space:pre;overflow-x:auto;line-height:normal;font-family:Menlo,'DejaVu Sans Mono',consolas,'Courier New',monospace\"><span style=\"color: #008080; text-decoration-color: #008080; font-weight: bold\">2023</span>-<span style=\"color: #008080; text-decoration-color: #008080; font-weight: bold\">03</span>-<span style=\"color: #008080; text-decoration-color: #008080; font-weight: bold\">26</span> <span style=\"color: #00ff00; text-decoration-color: #00ff00; font-weight: bold\">20:07:14</span>: <span style=\"color: #00ff00; text-decoration-color: #00ff00; font-weight: bold\">169.254.178.2</span> - - <span style=\"font-weight: bold\">[</span><span style=\"color: #008080; text-decoration-color: #008080; font-weight: bold\">26</span>/Mar/<span style=\"color: #00ff00; text-decoration-color: #00ff00; font-weight: bold\">2023:20:07:10</span> +<span style=\"color: #008080; text-decoration-color: #008080; font-weight: bold\">0000</span><span style=\"font-weight: bold\">]</span> <span style=\"color: #008000; text-decoration-color: #008000\">\"GET /ping HTTP/1.1\"</span> <span style=\"color: #008080; text-decoration-color: #008080; font-weight: bold\">200</span> <span style=\"color: #008080; text-decoration-color: #008080; font-weight: bold\">1</span> <span style=\"color: #008000; text-decoration-color: #008000\">\"-\"</span> <span style=\"color: #008000; text-decoration-color: #008000\">\"AHC/2.0\"</span>\n",
       "</pre>\n"
      ],
      "text/plain": [
       "\u001b[1;36m2023\u001b[0m-\u001b[1;36m03\u001b[0m-\u001b[1;36m26\u001b[0m \u001b[1;92m20:07:14\u001b[0m: \u001b[1;92m169.254.178.2\u001b[0m - - \u001b[1m[\u001b[0m\u001b[1;36m26\u001b[0m/Mar/\u001b[1;92m2023:20:07:10\u001b[0m +\u001b[1;36m0000\u001b[0m\u001b[1m]\u001b[0m \u001b[32m\"GET /ping HTTP/1.1\"\u001b[0m \u001b[1;36m200\u001b[0m \u001b[1;36m1\u001b[0m \u001b[32m\"-\"\u001b[0m \u001b[32m\"AHC/2.0\"\u001b[0m\n"
      ]
     },
     "metadata": {},
     "output_type": "display_data"
    },
    {
     "data": {
      "text/html": [
       "<pre style=\"white-space:pre;overflow-x:auto;line-height:normal;font-family:Menlo,'DejaVu Sans Mono',consolas,'Courier New',monospace\"><span style=\"color: #008080; text-decoration-color: #008080; font-weight: bold\">2023</span>-<span style=\"color: #008080; text-decoration-color: #008080; font-weight: bold\">03</span>-<span style=\"color: #008080; text-decoration-color: #008080; font-weight: bold\">26</span> <span style=\"color: #00ff00; text-decoration-color: #00ff00; font-weight: bold\">20:07:15</span>: xgboost model loaded\n",
       "</pre>\n"
      ],
      "text/plain": [
       "\u001b[1;36m2023\u001b[0m-\u001b[1;36m03\u001b[0m-\u001b[1;36m26\u001b[0m \u001b[1;92m20:07:15\u001b[0m: xgboost model loaded\n"
      ]
     },
     "metadata": {},
     "output_type": "display_data"
    },
    {
     "data": {
      "text/html": [
       "<pre style=\"white-space:pre;overflow-x:auto;line-height:normal;font-family:Menlo,'DejaVu Sans Mono',consolas,'Courier New',monospace\"><span style=\"color: #008080; text-decoration-color: #008080; font-weight: bold\">2023</span>-<span style=\"color: #008080; text-decoration-color: #008080; font-weight: bold\">03</span>-<span style=\"color: #008080; text-decoration-color: #008080; font-weight: bold\">26</span> <span style=\"color: #00ff00; text-decoration-color: #00ff00; font-weight: bold\">20:07:19</span>: <span style=\"color: #00ff00; text-decoration-color: #00ff00; font-weight: bold\">169.254.178.2</span> - - <span style=\"font-weight: bold\">[</span><span style=\"color: #008080; text-decoration-color: #008080; font-weight: bold\">26</span>/Mar/<span style=\"color: #00ff00; text-decoration-color: #00ff00; font-weight: bold\">2023:20:07:15</span> +<span style=\"color: #008080; text-decoration-color: #008080; font-weight: bold\">0000</span><span style=\"font-weight: bold\">]</span> <span style=\"color: #008000; text-decoration-color: #008000\">\"GET /ping HTTP/1.1\"</span> <span style=\"color: #008080; text-decoration-color: #008080; font-weight: bold\">200</span> <span style=\"color: #008080; text-decoration-color: #008080; font-weight: bold\">1</span> <span style=\"color: #008000; text-decoration-color: #008000\">\"-\"</span> <span style=\"color: #008000; text-decoration-color: #008000\">\"AHC/2.0\"</span>\n",
       "</pre>\n"
      ],
      "text/plain": [
       "\u001b[1;36m2023\u001b[0m-\u001b[1;36m03\u001b[0m-\u001b[1;36m26\u001b[0m \u001b[1;92m20:07:19\u001b[0m: \u001b[1;92m169.254.178.2\u001b[0m - - \u001b[1m[\u001b[0m\u001b[1;36m26\u001b[0m/Mar/\u001b[1;92m2023:20:07:15\u001b[0m +\u001b[1;36m0000\u001b[0m\u001b[1m]\u001b[0m \u001b[32m\"GET /ping HTTP/1.1\"\u001b[0m \u001b[1;36m200\u001b[0m \u001b[1;36m1\u001b[0m \u001b[32m\"-\"\u001b[0m \u001b[32m\"AHC/2.0\"\u001b[0m\n"
      ]
     },
     "metadata": {},
     "output_type": "display_data"
    },
    {
     "data": {
      "text/html": [
       "<pre style=\"white-space:pre;overflow-x:auto;line-height:normal;font-family:Menlo,'DejaVu Sans Mono',consolas,'Courier New',monospace\"><span style=\"color: #008080; text-decoration-color: #008080; font-weight: bold\">2023</span>-<span style=\"color: #008080; text-decoration-color: #008080; font-weight: bold\">03</span>-<span style=\"color: #008080; text-decoration-color: #008080; font-weight: bold\">26</span> <span style=\"color: #00ff00; text-decoration-color: #00ff00; font-weight: bold\">20:07:20</span>: xgboost model loaded\n",
       "</pre>\n"
      ],
      "text/plain": [
       "\u001b[1;36m2023\u001b[0m-\u001b[1;36m03\u001b[0m-\u001b[1;36m26\u001b[0m \u001b[1;92m20:07:20\u001b[0m: xgboost model loaded\n"
      ]
     },
     "metadata": {},
     "output_type": "display_data"
    },
    {
     "data": {
      "text/html": [
       "<pre style=\"white-space:pre;overflow-x:auto;line-height:normal;font-family:Menlo,'DejaVu Sans Mono',consolas,'Courier New',monospace\"><span style=\"color: #008080; text-decoration-color: #008080; font-weight: bold\">2023</span>-<span style=\"color: #008080; text-decoration-color: #008080; font-weight: bold\">03</span>-<span style=\"color: #008080; text-decoration-color: #008080; font-weight: bold\">26</span> <span style=\"color: #00ff00; text-decoration-color: #00ff00; font-weight: bold\">20:07:24</span>: <span style=\"color: #00ff00; text-decoration-color: #00ff00; font-weight: bold\">169.254.178.2</span> - - <span style=\"font-weight: bold\">[</span><span style=\"color: #008080; text-decoration-color: #008080; font-weight: bold\">26</span>/Mar/<span style=\"color: #00ff00; text-decoration-color: #00ff00; font-weight: bold\">2023:20:07:20</span> +<span style=\"color: #008080; text-decoration-color: #008080; font-weight: bold\">0000</span><span style=\"font-weight: bold\">]</span> <span style=\"color: #008000; text-decoration-color: #008000\">\"GET /ping HTTP/1.1\"</span> <span style=\"color: #008080; text-decoration-color: #008080; font-weight: bold\">200</span> <span style=\"color: #008080; text-decoration-color: #008080; font-weight: bold\">1</span> <span style=\"color: #008000; text-decoration-color: #008000\">\"-\"</span> <span style=\"color: #008000; text-decoration-color: #008000\">\"AHC/2.0\"</span>\n",
       "</pre>\n"
      ],
      "text/plain": [
       "\u001b[1;36m2023\u001b[0m-\u001b[1;36m03\u001b[0m-\u001b[1;36m26\u001b[0m \u001b[1;92m20:07:24\u001b[0m: \u001b[1;92m169.254.178.2\u001b[0m - - \u001b[1m[\u001b[0m\u001b[1;36m26\u001b[0m/Mar/\u001b[1;92m2023:20:07:20\u001b[0m +\u001b[1;36m0000\u001b[0m\u001b[1m]\u001b[0m \u001b[32m\"GET /ping HTTP/1.1\"\u001b[0m \u001b[1;36m200\u001b[0m \u001b[1;36m1\u001b[0m \u001b[32m\"-\"\u001b[0m \u001b[32m\"AHC/2.0\"\u001b[0m\n"
      ]
     },
     "metadata": {},
     "output_type": "display_data"
    },
    {
     "data": {
      "text/html": [
       "<pre style=\"white-space:pre;overflow-x:auto;line-height:normal;font-family:Menlo,'DejaVu Sans Mono',consolas,'Courier New',monospace\"><span style=\"color: #008080; text-decoration-color: #008080; font-weight: bold\">2023</span>-<span style=\"color: #008080; text-decoration-color: #008080; font-weight: bold\">03</span>-<span style=\"color: #008080; text-decoration-color: #008080; font-weight: bold\">26</span> <span style=\"color: #00ff00; text-decoration-color: #00ff00; font-weight: bold\">20:07:25</span>: xgboost model loaded\n",
       "</pre>\n"
      ],
      "text/plain": [
       "\u001b[1;36m2023\u001b[0m-\u001b[1;36m03\u001b[0m-\u001b[1;36m26\u001b[0m \u001b[1;92m20:07:25\u001b[0m: xgboost model loaded\n"
      ]
     },
     "metadata": {},
     "output_type": "display_data"
    },
    {
     "data": {
      "text/html": [
       "<pre style=\"white-space:pre;overflow-x:auto;line-height:normal;font-family:Menlo,'DejaVu Sans Mono',consolas,'Courier New',monospace\"><span style=\"color: #008080; text-decoration-color: #008080; font-weight: bold\">2023</span>-<span style=\"color: #008080; text-decoration-color: #008080; font-weight: bold\">03</span>-<span style=\"color: #008080; text-decoration-color: #008080; font-weight: bold\">26</span> <span style=\"color: #00ff00; text-decoration-color: #00ff00; font-weight: bold\">20:07:29</span>: <span style=\"color: #00ff00; text-decoration-color: #00ff00; font-weight: bold\">169.254.178.2</span> - - <span style=\"font-weight: bold\">[</span><span style=\"color: #008080; text-decoration-color: #008080; font-weight: bold\">26</span>/Mar/<span style=\"color: #00ff00; text-decoration-color: #00ff00; font-weight: bold\">2023:20:07:25</span> +<span style=\"color: #008080; text-decoration-color: #008080; font-weight: bold\">0000</span><span style=\"font-weight: bold\">]</span> <span style=\"color: #008000; text-decoration-color: #008000\">\"GET /ping HTTP/1.1\"</span> <span style=\"color: #008080; text-decoration-color: #008080; font-weight: bold\">200</span> <span style=\"color: #008080; text-decoration-color: #008080; font-weight: bold\">1</span> <span style=\"color: #008000; text-decoration-color: #008000\">\"-\"</span> <span style=\"color: #008000; text-decoration-color: #008000\">\"AHC/2.0\"</span>\n",
       "</pre>\n"
      ],
      "text/plain": [
       "\u001b[1;36m2023\u001b[0m-\u001b[1;36m03\u001b[0m-\u001b[1;36m26\u001b[0m \u001b[1;92m20:07:29\u001b[0m: \u001b[1;92m169.254.178.2\u001b[0m - - \u001b[1m[\u001b[0m\u001b[1;36m26\u001b[0m/Mar/\u001b[1;92m2023:20:07:25\u001b[0m +\u001b[1;36m0000\u001b[0m\u001b[1m]\u001b[0m \u001b[32m\"GET /ping HTTP/1.1\"\u001b[0m \u001b[1;36m200\u001b[0m \u001b[1;36m1\u001b[0m \u001b[32m\"-\"\u001b[0m \u001b[32m\"AHC/2.0\"\u001b[0m\n"
      ]
     },
     "metadata": {},
     "output_type": "display_data"
    },
    {
     "data": {
      "text/html": [
       "<pre style=\"white-space:pre;overflow-x:auto;line-height:normal;font-family:Menlo,'DejaVu Sans Mono',consolas,'Courier New',monospace\"><span style=\"color: #008080; text-decoration-color: #008080; font-weight: bold\">2023</span>-<span style=\"color: #008080; text-decoration-color: #008080; font-weight: bold\">03</span>-<span style=\"color: #008080; text-decoration-color: #008080; font-weight: bold\">26</span> <span style=\"color: #00ff00; text-decoration-color: #00ff00; font-weight: bold\">20:07:30</span>: xgboost model loaded\n",
       "</pre>\n"
      ],
      "text/plain": [
       "\u001b[1;36m2023\u001b[0m-\u001b[1;36m03\u001b[0m-\u001b[1;36m26\u001b[0m \u001b[1;92m20:07:30\u001b[0m: xgboost model loaded\n"
      ]
     },
     "metadata": {},
     "output_type": "display_data"
    },
    {
     "data": {
      "text/html": [
       "<pre style=\"white-space:pre;overflow-x:auto;line-height:normal;font-family:Menlo,'DejaVu Sans Mono',consolas,'Courier New',monospace\"><span style=\"color: #008080; text-decoration-color: #008080; font-weight: bold\">2023</span>-<span style=\"color: #008080; text-decoration-color: #008080; font-weight: bold\">03</span>-<span style=\"color: #008080; text-decoration-color: #008080; font-weight: bold\">26</span> <span style=\"color: #00ff00; text-decoration-color: #00ff00; font-weight: bold\">20:07:34</span>: <span style=\"color: #00ff00; text-decoration-color: #00ff00; font-weight: bold\">169.254.178.2</span> - - <span style=\"font-weight: bold\">[</span><span style=\"color: #008080; text-decoration-color: #008080; font-weight: bold\">26</span>/Mar/<span style=\"color: #00ff00; text-decoration-color: #00ff00; font-weight: bold\">2023:20:07:30</span> +<span style=\"color: #008080; text-decoration-color: #008080; font-weight: bold\">0000</span><span style=\"font-weight: bold\">]</span> <span style=\"color: #008000; text-decoration-color: #008000\">\"GET /ping HTTP/1.1\"</span> <span style=\"color: #008080; text-decoration-color: #008080; font-weight: bold\">200</span> <span style=\"color: #008080; text-decoration-color: #008080; font-weight: bold\">1</span> <span style=\"color: #008000; text-decoration-color: #008000\">\"-\"</span> <span style=\"color: #008000; text-decoration-color: #008000\">\"AHC/2.0\"</span>\n",
       "</pre>\n"
      ],
      "text/plain": [
       "\u001b[1;36m2023\u001b[0m-\u001b[1;36m03\u001b[0m-\u001b[1;36m26\u001b[0m \u001b[1;92m20:07:34\u001b[0m: \u001b[1;92m169.254.178.2\u001b[0m - - \u001b[1m[\u001b[0m\u001b[1;36m26\u001b[0m/Mar/\u001b[1;92m2023:20:07:30\u001b[0m +\u001b[1;36m0000\u001b[0m\u001b[1m]\u001b[0m \u001b[32m\"GET /ping HTTP/1.1\"\u001b[0m \u001b[1;36m200\u001b[0m \u001b[1;36m1\u001b[0m \u001b[32m\"-\"\u001b[0m \u001b[32m\"AHC/2.0\"\u001b[0m\n"
      ]
     },
     "metadata": {},
     "output_type": "display_data"
    },
    {
     "data": {
      "text/html": [
       "<pre style=\"white-space:pre;overflow-x:auto;line-height:normal;font-family:Menlo,'DejaVu Sans Mono',consolas,'Courier New',monospace\"><span style=\"color: #008080; text-decoration-color: #008080; font-weight: bold\">2023</span>-<span style=\"color: #008080; text-decoration-color: #008080; font-weight: bold\">03</span>-<span style=\"color: #008080; text-decoration-color: #008080; font-weight: bold\">26</span> <span style=\"color: #00ff00; text-decoration-color: #00ff00; font-weight: bold\">20:07:35</span>: xgboost model loaded\n",
       "</pre>\n"
      ],
      "text/plain": [
       "\u001b[1;36m2023\u001b[0m-\u001b[1;36m03\u001b[0m-\u001b[1;36m26\u001b[0m \u001b[1;92m20:07:35\u001b[0m: xgboost model loaded\n"
      ]
     },
     "metadata": {},
     "output_type": "display_data"
    },
    {
     "data": {
      "text/html": [
       "<pre style=\"white-space:pre;overflow-x:auto;line-height:normal;font-family:Menlo,'DejaVu Sans Mono',consolas,'Courier New',monospace\"><span style=\"color: #008080; text-decoration-color: #008080; font-weight: bold\">2023</span>-<span style=\"color: #008080; text-decoration-color: #008080; font-weight: bold\">03</span>-<span style=\"color: #008080; text-decoration-color: #008080; font-weight: bold\">26</span> <span style=\"color: #00ff00; text-decoration-color: #00ff00; font-weight: bold\">20:07:39</span>: <span style=\"color: #00ff00; text-decoration-color: #00ff00; font-weight: bold\">169.254.178.2</span> - - <span style=\"font-weight: bold\">[</span><span style=\"color: #008080; text-decoration-color: #008080; font-weight: bold\">26</span>/Mar/<span style=\"color: #00ff00; text-decoration-color: #00ff00; font-weight: bold\">2023:20:07:35</span> +<span style=\"color: #008080; text-decoration-color: #008080; font-weight: bold\">0000</span><span style=\"font-weight: bold\">]</span> <span style=\"color: #008000; text-decoration-color: #008000\">\"GET /ping HTTP/1.1\"</span> <span style=\"color: #008080; text-decoration-color: #008080; font-weight: bold\">200</span> <span style=\"color: #008080; text-decoration-color: #008080; font-weight: bold\">1</span> <span style=\"color: #008000; text-decoration-color: #008000\">\"-\"</span> <span style=\"color: #008000; text-decoration-color: #008000\">\"AHC/2.0\"</span>\n",
       "</pre>\n"
      ],
      "text/plain": [
       "\u001b[1;36m2023\u001b[0m-\u001b[1;36m03\u001b[0m-\u001b[1;36m26\u001b[0m \u001b[1;92m20:07:39\u001b[0m: \u001b[1;92m169.254.178.2\u001b[0m - - \u001b[1m[\u001b[0m\u001b[1;36m26\u001b[0m/Mar/\u001b[1;92m2023:20:07:35\u001b[0m +\u001b[1;36m0000\u001b[0m\u001b[1m]\u001b[0m \u001b[32m\"GET /ping HTTP/1.1\"\u001b[0m \u001b[1;36m200\u001b[0m \u001b[1;36m1\u001b[0m \u001b[32m\"-\"\u001b[0m \u001b[32m\"AHC/2.0\"\u001b[0m\n"
      ]
     },
     "metadata": {},
     "output_type": "display_data"
    },
    {
     "data": {
      "text/html": [
       "<pre style=\"white-space:pre;overflow-x:auto;line-height:normal;font-family:Menlo,'DejaVu Sans Mono',consolas,'Courier New',monospace\"><span style=\"color: #008080; text-decoration-color: #008080; font-weight: bold\">2023</span>-<span style=\"color: #008080; text-decoration-color: #008080; font-weight: bold\">03</span>-<span style=\"color: #008080; text-decoration-color: #008080; font-weight: bold\">26</span> <span style=\"color: #00ff00; text-decoration-color: #00ff00; font-weight: bold\">20:07:40</span>: xgboost model loaded\n",
       "</pre>\n"
      ],
      "text/plain": [
       "\u001b[1;36m2023\u001b[0m-\u001b[1;36m03\u001b[0m-\u001b[1;36m26\u001b[0m \u001b[1;92m20:07:40\u001b[0m: xgboost model loaded\n"
      ]
     },
     "metadata": {},
     "output_type": "display_data"
    },
    {
     "data": {
      "text/html": [
       "<pre style=\"white-space:pre;overflow-x:auto;line-height:normal;font-family:Menlo,'DejaVu Sans Mono',consolas,'Courier New',monospace\"><span style=\"color: #008080; text-decoration-color: #008080; font-weight: bold\">2023</span>-<span style=\"color: #008080; text-decoration-color: #008080; font-weight: bold\">03</span>-<span style=\"color: #008080; text-decoration-color: #008080; font-weight: bold\">26</span> <span style=\"color: #00ff00; text-decoration-color: #00ff00; font-weight: bold\">20:07:44</span>: <span style=\"color: #00ff00; text-decoration-color: #00ff00; font-weight: bold\">169.254.178.2</span> - - <span style=\"font-weight: bold\">[</span><span style=\"color: #008080; text-decoration-color: #008080; font-weight: bold\">26</span>/Mar/<span style=\"color: #00ff00; text-decoration-color: #00ff00; font-weight: bold\">2023:20:07:40</span> +<span style=\"color: #008080; text-decoration-color: #008080; font-weight: bold\">0000</span><span style=\"font-weight: bold\">]</span> <span style=\"color: #008000; text-decoration-color: #008000\">\"GET /ping HTTP/1.1\"</span> <span style=\"color: #008080; text-decoration-color: #008080; font-weight: bold\">200</span> <span style=\"color: #008080; text-decoration-color: #008080; font-weight: bold\">1</span> <span style=\"color: #008000; text-decoration-color: #008000\">\"-\"</span> <span style=\"color: #008000; text-decoration-color: #008000\">\"AHC/2.0\"</span>\n",
       "</pre>\n"
      ],
      "text/plain": [
       "\u001b[1;36m2023\u001b[0m-\u001b[1;36m03\u001b[0m-\u001b[1;36m26\u001b[0m \u001b[1;92m20:07:44\u001b[0m: \u001b[1;92m169.254.178.2\u001b[0m - - \u001b[1m[\u001b[0m\u001b[1;36m26\u001b[0m/Mar/\u001b[1;92m2023:20:07:40\u001b[0m +\u001b[1;36m0000\u001b[0m\u001b[1m]\u001b[0m \u001b[32m\"GET /ping HTTP/1.1\"\u001b[0m \u001b[1;36m200\u001b[0m \u001b[1;36m1\u001b[0m \u001b[32m\"-\"\u001b[0m \u001b[32m\"AHC/2.0\"\u001b[0m\n"
      ]
     },
     "metadata": {},
     "output_type": "display_data"
    },
    {
     "data": {
      "text/html": [
       "<pre style=\"white-space:pre;overflow-x:auto;line-height:normal;font-family:Menlo,'DejaVu Sans Mono',consolas,'Courier New',monospace\"><span style=\"color: #008080; text-decoration-color: #008080; font-weight: bold\">2023</span>-<span style=\"color: #008080; text-decoration-color: #008080; font-weight: bold\">03</span>-<span style=\"color: #008080; text-decoration-color: #008080; font-weight: bold\">26</span> <span style=\"color: #00ff00; text-decoration-color: #00ff00; font-weight: bold\">20:07:45</span>: xgboost model loaded\n",
       "</pre>\n"
      ],
      "text/plain": [
       "\u001b[1;36m2023\u001b[0m-\u001b[1;36m03\u001b[0m-\u001b[1;36m26\u001b[0m \u001b[1;92m20:07:45\u001b[0m: xgboost model loaded\n"
      ]
     },
     "metadata": {},
     "output_type": "display_data"
    },
    {
     "data": {
      "text/html": [
       "<pre style=\"white-space:pre;overflow-x:auto;line-height:normal;font-family:Menlo,'DejaVu Sans Mono',consolas,'Courier New',monospace\"><span style=\"color: #008080; text-decoration-color: #008080; font-weight: bold\">2023</span>-<span style=\"color: #008080; text-decoration-color: #008080; font-weight: bold\">03</span>-<span style=\"color: #008080; text-decoration-color: #008080; font-weight: bold\">26</span> <span style=\"color: #00ff00; text-decoration-color: #00ff00; font-weight: bold\">20:07:49</span>: <span style=\"color: #00ff00; text-decoration-color: #00ff00; font-weight: bold\">169.254.178.2</span> - - <span style=\"font-weight: bold\">[</span><span style=\"color: #008080; text-decoration-color: #008080; font-weight: bold\">26</span>/Mar/<span style=\"color: #00ff00; text-decoration-color: #00ff00; font-weight: bold\">2023:20:07:45</span> +<span style=\"color: #008080; text-decoration-color: #008080; font-weight: bold\">0000</span><span style=\"font-weight: bold\">]</span> <span style=\"color: #008000; text-decoration-color: #008000\">\"GET /ping HTTP/1.1\"</span> <span style=\"color: #008080; text-decoration-color: #008080; font-weight: bold\">200</span> <span style=\"color: #008080; text-decoration-color: #008080; font-weight: bold\">1</span> <span style=\"color: #008000; text-decoration-color: #008000\">\"-\"</span> <span style=\"color: #008000; text-decoration-color: #008000\">\"AHC/2.0\"</span>\n",
       "</pre>\n"
      ],
      "text/plain": [
       "\u001b[1;36m2023\u001b[0m-\u001b[1;36m03\u001b[0m-\u001b[1;36m26\u001b[0m \u001b[1;92m20:07:49\u001b[0m: \u001b[1;92m169.254.178.2\u001b[0m - - \u001b[1m[\u001b[0m\u001b[1;36m26\u001b[0m/Mar/\u001b[1;92m2023:20:07:45\u001b[0m +\u001b[1;36m0000\u001b[0m\u001b[1m]\u001b[0m \u001b[32m\"GET /ping HTTP/1.1\"\u001b[0m \u001b[1;36m200\u001b[0m \u001b[1;36m1\u001b[0m \u001b[32m\"-\"\u001b[0m \u001b[32m\"AHC/2.0\"\u001b[0m\n"
      ]
     },
     "metadata": {},
     "output_type": "display_data"
    },
    {
     "data": {
      "text/html": [
       "<pre style=\"white-space:pre;overflow-x:auto;line-height:normal;font-family:Menlo,'DejaVu Sans Mono',consolas,'Courier New',monospace\"><span style=\"color: #008080; text-decoration-color: #008080; font-weight: bold\">2023</span>-<span style=\"color: #008080; text-decoration-color: #008080; font-weight: bold\">03</span>-<span style=\"color: #008080; text-decoration-color: #008080; font-weight: bold\">26</span> <span style=\"color: #00ff00; text-decoration-color: #00ff00; font-weight: bold\">20:07:50</span>: xgboost model loaded\n",
       "</pre>\n"
      ],
      "text/plain": [
       "\u001b[1;36m2023\u001b[0m-\u001b[1;36m03\u001b[0m-\u001b[1;36m26\u001b[0m \u001b[1;92m20:07:50\u001b[0m: xgboost model loaded\n"
      ]
     },
     "metadata": {},
     "output_type": "display_data"
    },
    {
     "data": {
      "text/html": [
       "<pre style=\"white-space:pre;overflow-x:auto;line-height:normal;font-family:Menlo,'DejaVu Sans Mono',consolas,'Courier New',monospace\"><span style=\"color: #008080; text-decoration-color: #008080; font-weight: bold\">2023</span>-<span style=\"color: #008080; text-decoration-color: #008080; font-weight: bold\">03</span>-<span style=\"color: #008080; text-decoration-color: #008080; font-weight: bold\">26</span> <span style=\"color: #00ff00; text-decoration-color: #00ff00; font-weight: bold\">20:07:54</span>: <span style=\"color: #00ff00; text-decoration-color: #00ff00; font-weight: bold\">169.254.178.2</span> - - <span style=\"font-weight: bold\">[</span><span style=\"color: #008080; text-decoration-color: #008080; font-weight: bold\">26</span>/Mar/<span style=\"color: #00ff00; text-decoration-color: #00ff00; font-weight: bold\">2023:20:07:50</span> +<span style=\"color: #008080; text-decoration-color: #008080; font-weight: bold\">0000</span><span style=\"font-weight: bold\">]</span> <span style=\"color: #008000; text-decoration-color: #008000\">\"GET /ping HTTP/1.1\"</span> <span style=\"color: #008080; text-decoration-color: #008080; font-weight: bold\">200</span> <span style=\"color: #008080; text-decoration-color: #008080; font-weight: bold\">1</span> <span style=\"color: #008000; text-decoration-color: #008000\">\"-\"</span> <span style=\"color: #008000; text-decoration-color: #008000\">\"AHC/2.0\"</span>\n",
       "</pre>\n"
      ],
      "text/plain": [
       "\u001b[1;36m2023\u001b[0m-\u001b[1;36m03\u001b[0m-\u001b[1;36m26\u001b[0m \u001b[1;92m20:07:54\u001b[0m: \u001b[1;92m169.254.178.2\u001b[0m - - \u001b[1m[\u001b[0m\u001b[1;36m26\u001b[0m/Mar/\u001b[1;92m2023:20:07:50\u001b[0m +\u001b[1;36m0000\u001b[0m\u001b[1m]\u001b[0m \u001b[32m\"GET /ping HTTP/1.1\"\u001b[0m \u001b[1;36m200\u001b[0m \u001b[1;36m1\u001b[0m \u001b[32m\"-\"\u001b[0m \u001b[32m\"AHC/2.0\"\u001b[0m\n"
      ]
     },
     "metadata": {},
     "output_type": "display_data"
    },
    {
     "data": {
      "text/html": [
       "<pre style=\"white-space:pre;overflow-x:auto;line-height:normal;font-family:Menlo,'DejaVu Sans Mono',consolas,'Courier New',monospace\"><span style=\"color: #008080; text-decoration-color: #008080; font-weight: bold\">2023</span>-<span style=\"color: #008080; text-decoration-color: #008080; font-weight: bold\">03</span>-<span style=\"color: #008080; text-decoration-color: #008080; font-weight: bold\">26</span> <span style=\"color: #00ff00; text-decoration-color: #00ff00; font-weight: bold\">20:07:55</span>: xgboost model loaded\n",
       "</pre>\n"
      ],
      "text/plain": [
       "\u001b[1;36m2023\u001b[0m-\u001b[1;36m03\u001b[0m-\u001b[1;36m26\u001b[0m \u001b[1;92m20:07:55\u001b[0m: xgboost model loaded\n"
      ]
     },
     "metadata": {},
     "output_type": "display_data"
    },
    {
     "data": {
      "text/html": [
       "<pre style=\"white-space:pre;overflow-x:auto;line-height:normal;font-family:Menlo,'DejaVu Sans Mono',consolas,'Courier New',monospace\"><span style=\"color: #008080; text-decoration-color: #008080; font-weight: bold\">2023</span>-<span style=\"color: #008080; text-decoration-color: #008080; font-weight: bold\">03</span>-<span style=\"color: #008080; text-decoration-color: #008080; font-weight: bold\">26</span> <span style=\"color: #00ff00; text-decoration-color: #00ff00; font-weight: bold\">20:07:59</span>: <span style=\"color: #00ff00; text-decoration-color: #00ff00; font-weight: bold\">169.254.178.2</span> - - <span style=\"font-weight: bold\">[</span><span style=\"color: #008080; text-decoration-color: #008080; font-weight: bold\">26</span>/Mar/<span style=\"color: #00ff00; text-decoration-color: #00ff00; font-weight: bold\">2023:20:07:55</span> +<span style=\"color: #008080; text-decoration-color: #008080; font-weight: bold\">0000</span><span style=\"font-weight: bold\">]</span> <span style=\"color: #008000; text-decoration-color: #008000\">\"GET /ping HTTP/1.1\"</span> <span style=\"color: #008080; text-decoration-color: #008080; font-weight: bold\">200</span> <span style=\"color: #008080; text-decoration-color: #008080; font-weight: bold\">1</span> <span style=\"color: #008000; text-decoration-color: #008000\">\"-\"</span> <span style=\"color: #008000; text-decoration-color: #008000\">\"AHC/2.0\"</span>\n",
       "</pre>\n"
      ],
      "text/plain": [
       "\u001b[1;36m2023\u001b[0m-\u001b[1;36m03\u001b[0m-\u001b[1;36m26\u001b[0m \u001b[1;92m20:07:59\u001b[0m: \u001b[1;92m169.254.178.2\u001b[0m - - \u001b[1m[\u001b[0m\u001b[1;36m26\u001b[0m/Mar/\u001b[1;92m2023:20:07:55\u001b[0m +\u001b[1;36m0000\u001b[0m\u001b[1m]\u001b[0m \u001b[32m\"GET /ping HTTP/1.1\"\u001b[0m \u001b[1;36m200\u001b[0m \u001b[1;36m1\u001b[0m \u001b[32m\"-\"\u001b[0m \u001b[32m\"AHC/2.0\"\u001b[0m\n"
      ]
     },
     "metadata": {},
     "output_type": "display_data"
    },
    {
     "data": {
      "text/html": [
       "<pre style=\"white-space:pre;overflow-x:auto;line-height:normal;font-family:Menlo,'DejaVu Sans Mono',consolas,'Courier New',monospace\"><span style=\"color: #008080; text-decoration-color: #008080; font-weight: bold\">2023</span>-<span style=\"color: #008080; text-decoration-color: #008080; font-weight: bold\">03</span>-<span style=\"color: #008080; text-decoration-color: #008080; font-weight: bold\">26</span> <span style=\"color: #00ff00; text-decoration-color: #00ff00; font-weight: bold\">20:08:00</span>: xgboost model loaded\n",
       "</pre>\n"
      ],
      "text/plain": [
       "\u001b[1;36m2023\u001b[0m-\u001b[1;36m03\u001b[0m-\u001b[1;36m26\u001b[0m \u001b[1;92m20:08:00\u001b[0m: xgboost model loaded\n"
      ]
     },
     "metadata": {},
     "output_type": "display_data"
    },
    {
     "data": {
      "text/html": [
       "<pre style=\"white-space:pre;overflow-x:auto;line-height:normal;font-family:Menlo,'DejaVu Sans Mono',consolas,'Courier New',monospace\"><span style=\"color: #008080; text-decoration-color: #008080; font-weight: bold\">2023</span>-<span style=\"color: #008080; text-decoration-color: #008080; font-weight: bold\">03</span>-<span style=\"color: #008080; text-decoration-color: #008080; font-weight: bold\">26</span> <span style=\"color: #00ff00; text-decoration-color: #00ff00; font-weight: bold\">20:08:01</span>: <span style=\"color: #00ff00; text-decoration-color: #00ff00; font-weight: bold\">169.254.178.2</span> - - <span style=\"font-weight: bold\">[</span><span style=\"color: #008080; text-decoration-color: #008080; font-weight: bold\">26</span>/Mar/<span style=\"color: #00ff00; text-decoration-color: #00ff00; font-weight: bold\">2023:20:08:00</span> +<span style=\"color: #008080; text-decoration-color: #008080; font-weight: bold\">0000</span><span style=\"font-weight: bold\">]</span> <span style=\"color: #008000; text-decoration-color: #008000\">\"GET /ping HTTP/1.1\"</span> <span style=\"color: #008080; text-decoration-color: #008080; font-weight: bold\">200</span> <span style=\"color: #008080; text-decoration-color: #008080; font-weight: bold\">1</span> <span style=\"color: #008000; text-decoration-color: #008000\">\"-\"</span> <span style=\"color: #008000; text-decoration-color: #008000\">\"AHC/2.0\"</span>\n",
       "</pre>\n"
      ],
      "text/plain": [
       "\u001b[1;36m2023\u001b[0m-\u001b[1;36m03\u001b[0m-\u001b[1;36m26\u001b[0m \u001b[1;92m20:08:01\u001b[0m: \u001b[1;92m169.254.178.2\u001b[0m - - \u001b[1m[\u001b[0m\u001b[1;36m26\u001b[0m/Mar/\u001b[1;92m2023:20:08:00\u001b[0m +\u001b[1;36m0000\u001b[0m\u001b[1m]\u001b[0m \u001b[32m\"GET /ping HTTP/1.1\"\u001b[0m \u001b[1;36m200\u001b[0m \u001b[1;36m1\u001b[0m \u001b[32m\"-\"\u001b[0m \u001b[32m\"AHC/2.0\"\u001b[0m\n"
      ]
     },
     "metadata": {},
     "output_type": "display_data"
    },
    {
     "data": {
      "text/html": [
       "<pre style=\"white-space:pre;overflow-x:auto;line-height:normal;font-family:Menlo,'DejaVu Sans Mono',consolas,'Courier New',monospace\"><span style=\"color: #008080; text-decoration-color: #008080; font-weight: bold\">2023</span>-<span style=\"color: #008080; text-decoration-color: #008080; font-weight: bold\">03</span>-<span style=\"color: #008080; text-decoration-color: #008080; font-weight: bold\">26</span> <span style=\"color: #00ff00; text-decoration-color: #00ff00; font-weight: bold\">20:08:01</span>: Input: \n",
       "<span style=\"color: #008080; text-decoration-color: #008080; font-weight: bold\">8.0</span>,<span style=\"color: #008080; text-decoration-color: #008080; font-weight: bold\">0.3831484115366887</span>,<span style=\"color: #008080; text-decoration-color: #008080; font-weight: bold\">0.4748533892842405</span>,<span style=\"color: #008080; text-decoration-color: #008080; font-weight: bold\">0.2506716146449868</span>,<span style=\"color: #008080; text-decoration-color: #008080; font-weight: bold\">0.5674905932383428</span>,<span style=\"color: #008080; text-decoration-color: #008080; font-weight: bold\">0.8138932119974298</span>,<span style=\"color: #008080; text-decoration-color: #008080; font-weight: bold\">0.67888345036552</span>\n",
       "<span style=\"color: #008080; text-decoration-color: #008080; font-weight: bold\">24</span>,<span style=\"color: #008080; text-decoration-color: #008080; font-weight: bold\">0.22393875313148354</span>,<span style=\"color: #008080; text-decoration-color: #008080; font-weight: bold\">1.0</span>,<span style=\"color: #008080; text-decoration-color: #008080; font-weight: bold\">0.0</span>\n",
       "</pre>\n"
      ],
      "text/plain": [
       "\u001b[1;36m2023\u001b[0m-\u001b[1;36m03\u001b[0m-\u001b[1;36m26\u001b[0m \u001b[1;92m20:08:01\u001b[0m: Input: \n",
       "\u001b[1;36m8.0\u001b[0m,\u001b[1;36m0.3831484115366887\u001b[0m,\u001b[1;36m0.4748533892842405\u001b[0m,\u001b[1;36m0.2506716146449868\u001b[0m,\u001b[1;36m0.5674905932383428\u001b[0m,\u001b[1;36m0.8138932119974298\u001b[0m,\u001b[1;36m0.67888345036552\u001b[0m\n",
       "\u001b[1;36m24\u001b[0m,\u001b[1;36m0.22393875313148354\u001b[0m,\u001b[1;36m1.0\u001b[0m,\u001b[1;36m0.0\u001b[0m\n"
      ]
     },
     "metadata": {},
     "output_type": "display_data"
    },
    {
     "data": {
      "text/html": [
       "<pre style=\"white-space:pre;overflow-x:auto;line-height:normal;font-family:Menlo,'DejaVu Sans Mono',consolas,'Courier New',monospace\"><span style=\"color: #008080; text-decoration-color: #008080; font-weight: bold\">2023</span>-<span style=\"color: #008080; text-decoration-color: #008080; font-weight: bold\">03</span>-<span style=\"color: #008080; text-decoration-color: #008080; font-weight: bold\">26</span> <span style=\"color: #00ff00; text-decoration-color: #00ff00; font-weight: bold\">20:08:01</span>: <span style=\"font-weight: bold\">&lt;</span><span style=\"color: #ff00ff; text-decoration-color: #ff00ff; font-weight: bold\">class</span><span style=\"color: #000000; text-decoration-color: #000000\"> </span><span style=\"color: #008000; text-decoration-color: #008000\">'numpy.ndarray'</span><span style=\"font-weight: bold\">&gt;</span>\n",
       "</pre>\n"
      ],
      "text/plain": [
       "\u001b[1;36m2023\u001b[0m-\u001b[1;36m03\u001b[0m-\u001b[1;36m26\u001b[0m \u001b[1;92m20:08:01\u001b[0m: \u001b[1m<\u001b[0m\u001b[1;95mclass\u001b[0m\u001b[39m \u001b[0m\u001b[32m'numpy.ndarray'\u001b[0m\u001b[1m>\u001b[0m\n"
      ]
     },
     "metadata": {},
     "output_type": "display_data"
    },
    {
     "data": {
      "text/html": [
       "<pre style=\"white-space:pre;overflow-x:auto;line-height:normal;font-family:Menlo,'DejaVu Sans Mono',consolas,'Courier New',monospace\"><span style=\"color: #008080; text-decoration-color: #008080; font-weight: bold\">2023</span>-<span style=\"color: #008080; text-decoration-color: #008080; font-weight: bold\">03</span>-<span style=\"color: #008080; text-decoration-color: #008080; font-weight: bold\">26</span> <span style=\"color: #00ff00; text-decoration-color: #00ff00; font-weight: bold\">20:08:01</span>: <span style=\"font-weight: bold\">&lt;</span><span style=\"color: #ff00ff; text-decoration-color: #ff00ff; font-weight: bold\">class</span><span style=\"color: #000000; text-decoration-color: #000000\"> </span><span style=\"color: #008000; text-decoration-color: #008000\">'xgboost.core.DMatrix'</span><span style=\"font-weight: bold\">&gt;</span>\n",
       "</pre>\n"
      ],
      "text/plain": [
       "\u001b[1;36m2023\u001b[0m-\u001b[1;36m03\u001b[0m-\u001b[1;36m26\u001b[0m \u001b[1;92m20:08:01\u001b[0m: \u001b[1m<\u001b[0m\u001b[1;95mclass\u001b[0m\u001b[39m \u001b[0m\u001b[32m'xgboost.core.DMatrix'\u001b[0m\u001b[1m>\u001b[0m\n"
      ]
     },
     "metadata": {},
     "output_type": "display_data"
    },
    {
     "data": {
      "text/html": [
       "<pre style=\"white-space:pre;overflow-x:auto;line-height:normal;font-family:Menlo,'DejaVu Sans Mono',consolas,'Courier New',monospace\"><span style=\"color: #008080; text-decoration-color: #008080; font-weight: bold\">2023</span>-<span style=\"color: #008080; text-decoration-color: #008080; font-weight: bold\">03</span>-<span style=\"color: #008080; text-decoration-color: #008080; font-weight: bold\">26</span> <span style=\"color: #00ff00; text-decoration-color: #00ff00; font-weight: bold\">20:08:02</span>: <span style=\"color: #00ff00; text-decoration-color: #00ff00; font-weight: bold\">169.254.178.2</span> - - <span style=\"font-weight: bold\">[</span><span style=\"color: #008080; text-decoration-color: #008080; font-weight: bold\">26</span>/Mar/<span style=\"color: #00ff00; text-decoration-color: #00ff00; font-weight: bold\">2023:20:08:01</span> +<span style=\"color: #008080; text-decoration-color: #008080; font-weight: bold\">0000</span><span style=\"font-weight: bold\">]</span> <span style=\"color: #008000; text-decoration-color: #008000\">\"POST /invocations HTTP/1.1\"</span> <span style=\"color: #008080; text-decoration-color: #008080; font-weight: bold\">200</span> <span style=\"color: #008080; text-decoration-color: #008080; font-weight: bold\">28</span> <span style=\"color: #008000; text-decoration-color: #008000\">\"-\"</span> \n",
       "<span style=\"color: #008000; text-decoration-color: #008000\">\"AHC/2.0\"</span>\n",
       "</pre>\n"
      ],
      "text/plain": [
       "\u001b[1;36m2023\u001b[0m-\u001b[1;36m03\u001b[0m-\u001b[1;36m26\u001b[0m \u001b[1;92m20:08:02\u001b[0m: \u001b[1;92m169.254.178.2\u001b[0m - - \u001b[1m[\u001b[0m\u001b[1;36m26\u001b[0m/Mar/\u001b[1;92m2023:20:08:01\u001b[0m +\u001b[1;36m0000\u001b[0m\u001b[1m]\u001b[0m \u001b[32m\"POST /invocations HTTP/1.1\"\u001b[0m \u001b[1;36m200\u001b[0m \u001b[1;36m28\u001b[0m \u001b[32m\"-\"\u001b[0m \n",
       "\u001b[32m\"AHC/2.0\"\u001b[0m\n"
      ]
     },
     "metadata": {},
     "output_type": "display_data"
    },
    {
     "data": {
      "text/html": [
       "<pre style=\"white-space:pre;overflow-x:auto;line-height:normal;font-family:Menlo,'DejaVu Sans Mono',consolas,'Courier New',monospace\"><span style=\"color: #008080; text-decoration-color: #008080; font-weight: bold\">2023</span>-<span style=\"color: #008080; text-decoration-color: #008080; font-weight: bold\">03</span>-<span style=\"color: #008080; text-decoration-color: #008080; font-weight: bold\">26</span> <span style=\"color: #00ff00; text-decoration-color: #00ff00; font-weight: bold\">20:08:02</span>: Input: \n",
       "<span style=\"color: #008080; text-decoration-color: #008080; font-weight: bold\">20.0</span>,<span style=\"color: #008080; text-decoration-color: #008080; font-weight: bold\">0.9244608063553126</span>,<span style=\"color: #008080; text-decoration-color: #008080; font-weight: bold\">1.1802995315641436</span>,<span style=\"color: #008080; text-decoration-color: #008080; font-weight: bold\">1.5657673760166693</span>,<span style=\"color: #008080; text-decoration-color: #008080; font-weight: bold\">1.336360046202571</span>,<span style=\"color: #008080; text-decoration-color: #008080; font-weight: bold\">0.8589511700480813</span>,<span style=\"color: #008080; text-decoration-color: #008080; font-weight: bold\">1.19438909226827</span>\n",
       "<span style=\"color: #008080; text-decoration-color: #008080; font-weight: bold\">98</span>,<span style=\"color: #008080; text-decoration-color: #008080; font-weight: bold\">1.3734796095708048</span>,<span style=\"color: #008080; text-decoration-color: #008080; font-weight: bold\">0.0</span>,<span style=\"color: #008080; text-decoration-color: #008080; font-weight: bold\">0.0</span>\n",
       "</pre>\n"
      ],
      "text/plain": [
       "\u001b[1;36m2023\u001b[0m-\u001b[1;36m03\u001b[0m-\u001b[1;36m26\u001b[0m \u001b[1;92m20:08:02\u001b[0m: Input: \n",
       "\u001b[1;36m20.0\u001b[0m,\u001b[1;36m0.9244608063553126\u001b[0m,\u001b[1;36m1.1802995315641436\u001b[0m,\u001b[1;36m1.5657673760166693\u001b[0m,\u001b[1;36m1.336360046202571\u001b[0m,\u001b[1;36m0.8589511700480813\u001b[0m,\u001b[1;36m1.19438909226827\u001b[0m\n",
       "\u001b[1;36m98\u001b[0m,\u001b[1;36m1.3734796095708048\u001b[0m,\u001b[1;36m0.0\u001b[0m,\u001b[1;36m0.0\u001b[0m\n"
      ]
     },
     "metadata": {},
     "output_type": "display_data"
    },
    {
     "data": {
      "text/html": [
       "<pre style=\"white-space:pre;overflow-x:auto;line-height:normal;font-family:Menlo,'DejaVu Sans Mono',consolas,'Courier New',monospace\"><span style=\"color: #008080; text-decoration-color: #008080; font-weight: bold\">2023</span>-<span style=\"color: #008080; text-decoration-color: #008080; font-weight: bold\">03</span>-<span style=\"color: #008080; text-decoration-color: #008080; font-weight: bold\">26</span> <span style=\"color: #00ff00; text-decoration-color: #00ff00; font-weight: bold\">20:08:02</span>: <span style=\"font-weight: bold\">&lt;</span><span style=\"color: #ff00ff; text-decoration-color: #ff00ff; font-weight: bold\">class</span><span style=\"color: #000000; text-decoration-color: #000000\"> </span><span style=\"color: #008000; text-decoration-color: #008000\">'numpy.ndarray'</span><span style=\"font-weight: bold\">&gt;</span>\n",
       "</pre>\n"
      ],
      "text/plain": [
       "\u001b[1;36m2023\u001b[0m-\u001b[1;36m03\u001b[0m-\u001b[1;36m26\u001b[0m \u001b[1;92m20:08:02\u001b[0m: \u001b[1m<\u001b[0m\u001b[1;95mclass\u001b[0m\u001b[39m \u001b[0m\u001b[32m'numpy.ndarray'\u001b[0m\u001b[1m>\u001b[0m\n"
      ]
     },
     "metadata": {},
     "output_type": "display_data"
    },
    {
     "data": {
      "text/html": [
       "<pre style=\"white-space:pre;overflow-x:auto;line-height:normal;font-family:Menlo,'DejaVu Sans Mono',consolas,'Courier New',monospace\"><span style=\"color: #008080; text-decoration-color: #008080; font-weight: bold\">2023</span>-<span style=\"color: #008080; text-decoration-color: #008080; font-weight: bold\">03</span>-<span style=\"color: #008080; text-decoration-color: #008080; font-weight: bold\">26</span> <span style=\"color: #00ff00; text-decoration-color: #00ff00; font-weight: bold\">20:08:02</span>: <span style=\"font-weight: bold\">&lt;</span><span style=\"color: #ff00ff; text-decoration-color: #ff00ff; font-weight: bold\">class</span><span style=\"color: #000000; text-decoration-color: #000000\"> </span><span style=\"color: #008000; text-decoration-color: #008000\">'xgboost.core.DMatrix'</span><span style=\"font-weight: bold\">&gt;</span>\n",
       "</pre>\n"
      ],
      "text/plain": [
       "\u001b[1;36m2023\u001b[0m-\u001b[1;36m03\u001b[0m-\u001b[1;36m26\u001b[0m \u001b[1;92m20:08:02\u001b[0m: \u001b[1m<\u001b[0m\u001b[1;95mclass\u001b[0m\u001b[39m \u001b[0m\u001b[32m'xgboost.core.DMatrix'\u001b[0m\u001b[1m>\u001b[0m\n"
      ]
     },
     "metadata": {},
     "output_type": "display_data"
    },
    {
     "data": {
      "text/html": [
       "<pre style=\"white-space:pre;overflow-x:auto;line-height:normal;font-family:Menlo,'DejaVu Sans Mono',consolas,'Courier New',monospace\"><span style=\"color: #008080; text-decoration-color: #008080; font-weight: bold\">2023</span>-<span style=\"color: #008080; text-decoration-color: #008080; font-weight: bold\">03</span>-<span style=\"color: #008080; text-decoration-color: #008080; font-weight: bold\">26</span> <span style=\"color: #00ff00; text-decoration-color: #00ff00; font-weight: bold\">20:08:05</span>: <span style=\"color: #00ff00; text-decoration-color: #00ff00; font-weight: bold\">169.254.178.2</span> - - <span style=\"font-weight: bold\">[</span><span style=\"color: #008080; text-decoration-color: #008080; font-weight: bold\">26</span>/Mar/<span style=\"color: #00ff00; text-decoration-color: #00ff00; font-weight: bold\">2023:20:08:02</span> +<span style=\"color: #008080; text-decoration-color: #008080; font-weight: bold\">0000</span><span style=\"font-weight: bold\">]</span> <span style=\"color: #008000; text-decoration-color: #008000\">\"POST /invocations HTTP/1.1\"</span> <span style=\"color: #008080; text-decoration-color: #008080; font-weight: bold\">200</span> <span style=\"color: #008080; text-decoration-color: #008080; font-weight: bold\">31</span> <span style=\"color: #008000; text-decoration-color: #008000\">\"-\"</span> \n",
       "<span style=\"color: #008000; text-decoration-color: #008000\">\"AHC/2.0\"</span>\n",
       "</pre>\n"
      ],
      "text/plain": [
       "\u001b[1;36m2023\u001b[0m-\u001b[1;36m03\u001b[0m-\u001b[1;36m26\u001b[0m \u001b[1;92m20:08:05\u001b[0m: \u001b[1;92m169.254.178.2\u001b[0m - - \u001b[1m[\u001b[0m\u001b[1;36m26\u001b[0m/Mar/\u001b[1;92m2023:20:08:02\u001b[0m +\u001b[1;36m0000\u001b[0m\u001b[1m]\u001b[0m \u001b[32m\"POST /invocations HTTP/1.1\"\u001b[0m \u001b[1;36m200\u001b[0m \u001b[1;36m31\u001b[0m \u001b[32m\"-\"\u001b[0m \n",
       "\u001b[32m\"AHC/2.0\"\u001b[0m\n"
      ]
     },
     "metadata": {},
     "output_type": "display_data"
    },
    {
     "data": {
      "text/html": [
       "<pre style=\"white-space:pre;overflow-x:auto;line-height:normal;font-family:Menlo,'DejaVu Sans Mono',consolas,'Courier New',monospace\"><span style=\"color: #008080; text-decoration-color: #008080; font-weight: bold\">2023</span>-<span style=\"color: #008080; text-decoration-color: #008080; font-weight: bold\">03</span>-<span style=\"color: #008080; text-decoration-color: #008080; font-weight: bold\">26</span> <span style=\"color: #00ff00; text-decoration-color: #00ff00; font-weight: bold\">20:08:05</span>: xgboost model loaded\n",
       "</pre>\n"
      ],
      "text/plain": [
       "\u001b[1;36m2023\u001b[0m-\u001b[1;36m03\u001b[0m-\u001b[1;36m26\u001b[0m \u001b[1;92m20:08:05\u001b[0m: xgboost model loaded\n"
      ]
     },
     "metadata": {},
     "output_type": "display_data"
    },
    {
     "data": {
      "text/html": [
       "<pre style=\"white-space:pre;overflow-x:auto;line-height:normal;font-family:Menlo,'DejaVu Sans Mono',consolas,'Courier New',monospace\"><span style=\"color: #008080; text-decoration-color: #008080; font-weight: bold\">2023</span>-<span style=\"color: #008080; text-decoration-color: #008080; font-weight: bold\">03</span>-<span style=\"color: #008080; text-decoration-color: #008080; font-weight: bold\">26</span> <span style=\"color: #00ff00; text-decoration-color: #00ff00; font-weight: bold\">20:08:09</span>: <span style=\"color: #00ff00; text-decoration-color: #00ff00; font-weight: bold\">169.254.178.2</span> - - <span style=\"font-weight: bold\">[</span><span style=\"color: #008080; text-decoration-color: #008080; font-weight: bold\">26</span>/Mar/<span style=\"color: #00ff00; text-decoration-color: #00ff00; font-weight: bold\">2023:20:08:05</span> +<span style=\"color: #008080; text-decoration-color: #008080; font-weight: bold\">0000</span><span style=\"font-weight: bold\">]</span> <span style=\"color: #008000; text-decoration-color: #008000\">\"GET /ping HTTP/1.1\"</span> <span style=\"color: #008080; text-decoration-color: #008080; font-weight: bold\">200</span> <span style=\"color: #008080; text-decoration-color: #008080; font-weight: bold\">1</span> <span style=\"color: #008000; text-decoration-color: #008000\">\"-\"</span> <span style=\"color: #008000; text-decoration-color: #008000\">\"AHC/2.0\"</span>\n",
       "</pre>\n"
      ],
      "text/plain": [
       "\u001b[1;36m2023\u001b[0m-\u001b[1;36m03\u001b[0m-\u001b[1;36m26\u001b[0m \u001b[1;92m20:08:09\u001b[0m: \u001b[1;92m169.254.178.2\u001b[0m - - \u001b[1m[\u001b[0m\u001b[1;36m26\u001b[0m/Mar/\u001b[1;92m2023:20:08:05\u001b[0m +\u001b[1;36m0000\u001b[0m\u001b[1m]\u001b[0m \u001b[32m\"GET /ping HTTP/1.1\"\u001b[0m \u001b[1;36m200\u001b[0m \u001b[1;36m1\u001b[0m \u001b[32m\"-\"\u001b[0m \u001b[32m\"AHC/2.0\"\u001b[0m\n"
      ]
     },
     "metadata": {},
     "output_type": "display_data"
    },
    {
     "data": {
      "text/html": [
       "<pre style=\"white-space:pre;overflow-x:auto;line-height:normal;font-family:Menlo,'DejaVu Sans Mono',consolas,'Courier New',monospace\"><span style=\"color: #008080; text-decoration-color: #008080; font-weight: bold\">2023</span>-<span style=\"color: #008080; text-decoration-color: #008080; font-weight: bold\">03</span>-<span style=\"color: #008080; text-decoration-color: #008080; font-weight: bold\">26</span> <span style=\"color: #00ff00; text-decoration-color: #00ff00; font-weight: bold\">20:08:10</span>: xgboost model loaded\n",
       "</pre>\n"
      ],
      "text/plain": [
       "\u001b[1;36m2023\u001b[0m-\u001b[1;36m03\u001b[0m-\u001b[1;36m26\u001b[0m \u001b[1;92m20:08:10\u001b[0m: xgboost model loaded\n"
      ]
     },
     "metadata": {},
     "output_type": "display_data"
    },
    {
     "data": {
      "text/html": [
       "<pre style=\"white-space:pre;overflow-x:auto;line-height:normal;font-family:Menlo,'DejaVu Sans Mono',consolas,'Courier New',monospace\"><span style=\"color: #008080; text-decoration-color: #008080; font-weight: bold\">2023</span>-<span style=\"color: #008080; text-decoration-color: #008080; font-weight: bold\">03</span>-<span style=\"color: #008080; text-decoration-color: #008080; font-weight: bold\">26</span> <span style=\"color: #00ff00; text-decoration-color: #00ff00; font-weight: bold\">20:08:14</span>: <span style=\"color: #00ff00; text-decoration-color: #00ff00; font-weight: bold\">169.254.178.2</span> - - <span style=\"font-weight: bold\">[</span><span style=\"color: #008080; text-decoration-color: #008080; font-weight: bold\">26</span>/Mar/<span style=\"color: #00ff00; text-decoration-color: #00ff00; font-weight: bold\">2023:20:08:10</span> +<span style=\"color: #008080; text-decoration-color: #008080; font-weight: bold\">0000</span><span style=\"font-weight: bold\">]</span> <span style=\"color: #008000; text-decoration-color: #008000\">\"GET /ping HTTP/1.1\"</span> <span style=\"color: #008080; text-decoration-color: #008080; font-weight: bold\">200</span> <span style=\"color: #008080; text-decoration-color: #008080; font-weight: bold\">1</span> <span style=\"color: #008000; text-decoration-color: #008000\">\"-\"</span> <span style=\"color: #008000; text-decoration-color: #008000\">\"AHC/2.0\"</span>\n",
       "</pre>\n"
      ],
      "text/plain": [
       "\u001b[1;36m2023\u001b[0m-\u001b[1;36m03\u001b[0m-\u001b[1;36m26\u001b[0m \u001b[1;92m20:08:14\u001b[0m: \u001b[1;92m169.254.178.2\u001b[0m - - \u001b[1m[\u001b[0m\u001b[1;36m26\u001b[0m/Mar/\u001b[1;92m2023:20:08:10\u001b[0m +\u001b[1;36m0000\u001b[0m\u001b[1m]\u001b[0m \u001b[32m\"GET /ping HTTP/1.1\"\u001b[0m \u001b[1;36m200\u001b[0m \u001b[1;36m1\u001b[0m \u001b[32m\"-\"\u001b[0m \u001b[32m\"AHC/2.0\"\u001b[0m\n"
      ]
     },
     "metadata": {},
     "output_type": "display_data"
    },
    {
     "data": {
      "text/html": [
       "<pre style=\"white-space:pre;overflow-x:auto;line-height:normal;font-family:Menlo,'DejaVu Sans Mono',consolas,'Courier New',monospace\"><span style=\"color: #008080; text-decoration-color: #008080; font-weight: bold\">2023</span>-<span style=\"color: #008080; text-decoration-color: #008080; font-weight: bold\">03</span>-<span style=\"color: #008080; text-decoration-color: #008080; font-weight: bold\">26</span> <span style=\"color: #00ff00; text-decoration-color: #00ff00; font-weight: bold\">20:08:15</span>: xgboost model loaded\n",
       "</pre>\n"
      ],
      "text/plain": [
       "\u001b[1;36m2023\u001b[0m-\u001b[1;36m03\u001b[0m-\u001b[1;36m26\u001b[0m \u001b[1;92m20:08:15\u001b[0m: xgboost model loaded\n"
      ]
     },
     "metadata": {},
     "output_type": "display_data"
    },
    {
     "data": {
      "text/html": [
       "<pre style=\"white-space:pre;overflow-x:auto;line-height:normal;font-family:Menlo,'DejaVu Sans Mono',consolas,'Courier New',monospace\"><span style=\"color: #008080; text-decoration-color: #008080; font-weight: bold\">2023</span>-<span style=\"color: #008080; text-decoration-color: #008080; font-weight: bold\">03</span>-<span style=\"color: #008080; text-decoration-color: #008080; font-weight: bold\">26</span> <span style=\"color: #00ff00; text-decoration-color: #00ff00; font-weight: bold\">20:08:16</span>: <span style=\"color: #00ff00; text-decoration-color: #00ff00; font-weight: bold\">169.254.178.2</span> - - <span style=\"font-weight: bold\">[</span><span style=\"color: #008080; text-decoration-color: #008080; font-weight: bold\">26</span>/Mar/<span style=\"color: #00ff00; text-decoration-color: #00ff00; font-weight: bold\">2023:20:08:15</span> +<span style=\"color: #008080; text-decoration-color: #008080; font-weight: bold\">0000</span><span style=\"font-weight: bold\">]</span> <span style=\"color: #008000; text-decoration-color: #008000\">\"GET /ping HTTP/1.1\"</span> <span style=\"color: #008080; text-decoration-color: #008080; font-weight: bold\">200</span> <span style=\"color: #008080; text-decoration-color: #008080; font-weight: bold\">1</span> <span style=\"color: #008000; text-decoration-color: #008000\">\"-\"</span> <span style=\"color: #008000; text-decoration-color: #008000\">\"AHC/2.0\"</span>\n",
       "</pre>\n"
      ],
      "text/plain": [
       "\u001b[1;36m2023\u001b[0m-\u001b[1;36m03\u001b[0m-\u001b[1;36m26\u001b[0m \u001b[1;92m20:08:16\u001b[0m: \u001b[1;92m169.254.178.2\u001b[0m - - \u001b[1m[\u001b[0m\u001b[1;36m26\u001b[0m/Mar/\u001b[1;92m2023:20:08:15\u001b[0m +\u001b[1;36m0000\u001b[0m\u001b[1m]\u001b[0m \u001b[32m\"GET /ping HTTP/1.1\"\u001b[0m \u001b[1;36m200\u001b[0m \u001b[1;36m1\u001b[0m \u001b[32m\"-\"\u001b[0m \u001b[32m\"AHC/2.0\"\u001b[0m\n"
      ]
     },
     "metadata": {},
     "output_type": "display_data"
    },
    {
     "data": {
      "text/html": [
       "<pre style=\"white-space:pre;overflow-x:auto;line-height:normal;font-family:Menlo,'DejaVu Sans Mono',consolas,'Courier New',monospace\"><span style=\"color: #008080; text-decoration-color: #008080; font-weight: bold\">2023</span>-<span style=\"color: #008080; text-decoration-color: #008080; font-weight: bold\">03</span>-<span style=\"color: #008080; text-decoration-color: #008080; font-weight: bold\">26</span> <span style=\"color: #00ff00; text-decoration-color: #00ff00; font-weight: bold\">20:08:16</span>: Input: \n",
       "<span style=\"color: #008080; text-decoration-color: #008080; font-weight: bold\">0.3831484115366887</span>,<span style=\"color: #008080; text-decoration-color: #008080; font-weight: bold\">0.4748533892842405</span>,<span style=\"color: #008080; text-decoration-color: #008080; font-weight: bold\">0.2506716146449868</span>,<span style=\"color: #008080; text-decoration-color: #008080; font-weight: bold\">0.5674905932383428</span>,<span style=\"color: #008080; text-decoration-color: #008080; font-weight: bold\">0.8138932119974298</span>,<span style=\"color: #008080; text-decoration-color: #008080; font-weight: bold\">0.6788834503655224</span>,<span style=\"color: #008080; text-decoration-color: #008080; font-weight: bold\">0</span>\n",
       "<span style=\"color: #008080; text-decoration-color: #008080; font-weight: bold\">.22393875313148354</span>,<span style=\"color: #008080; text-decoration-color: #008080; font-weight: bold\">1.0</span>,<span style=\"color: #008080; text-decoration-color: #008080; font-weight: bold\">0.0</span>,<span style=\"color: #008080; text-decoration-color: #008080; font-weight: bold\">0.0</span>\n",
       "</pre>\n"
      ],
      "text/plain": [
       "\u001b[1;36m2023\u001b[0m-\u001b[1;36m03\u001b[0m-\u001b[1;36m26\u001b[0m \u001b[1;92m20:08:16\u001b[0m: Input: \n",
       "\u001b[1;36m0.3831484115366887\u001b[0m,\u001b[1;36m0.4748533892842405\u001b[0m,\u001b[1;36m0.2506716146449868\u001b[0m,\u001b[1;36m0.5674905932383428\u001b[0m,\u001b[1;36m0.8138932119974298\u001b[0m,\u001b[1;36m0.6788834503655224\u001b[0m,\u001b[1;36m0\u001b[0m\n",
       "\u001b[1;36m.22393875313148354\u001b[0m,\u001b[1;36m1.0\u001b[0m,\u001b[1;36m0.0\u001b[0m,\u001b[1;36m0.0\u001b[0m\n"
      ]
     },
     "metadata": {},
     "output_type": "display_data"
    },
    {
     "data": {
      "text/html": [
       "<pre style=\"white-space:pre;overflow-x:auto;line-height:normal;font-family:Menlo,'DejaVu Sans Mono',consolas,'Courier New',monospace\"><span style=\"color: #008080; text-decoration-color: #008080; font-weight: bold\">2023</span>-<span style=\"color: #008080; text-decoration-color: #008080; font-weight: bold\">03</span>-<span style=\"color: #008080; text-decoration-color: #008080; font-weight: bold\">26</span> <span style=\"color: #00ff00; text-decoration-color: #00ff00; font-weight: bold\">20:08:16</span>: <span style=\"font-weight: bold\">&lt;</span><span style=\"color: #ff00ff; text-decoration-color: #ff00ff; font-weight: bold\">class</span><span style=\"color: #000000; text-decoration-color: #000000\"> </span><span style=\"color: #008000; text-decoration-color: #008000\">'numpy.ndarray'</span><span style=\"font-weight: bold\">&gt;</span>\n",
       "</pre>\n"
      ],
      "text/plain": [
       "\u001b[1;36m2023\u001b[0m-\u001b[1;36m03\u001b[0m-\u001b[1;36m26\u001b[0m \u001b[1;92m20:08:16\u001b[0m: \u001b[1m<\u001b[0m\u001b[1;95mclass\u001b[0m\u001b[39m \u001b[0m\u001b[32m'numpy.ndarray'\u001b[0m\u001b[1m>\u001b[0m\n"
      ]
     },
     "metadata": {},
     "output_type": "display_data"
    },
    {
     "data": {
      "text/html": [
       "<pre style=\"white-space:pre;overflow-x:auto;line-height:normal;font-family:Menlo,'DejaVu Sans Mono',consolas,'Courier New',monospace\"><span style=\"color: #008080; text-decoration-color: #008080; font-weight: bold\">2023</span>-<span style=\"color: #008080; text-decoration-color: #008080; font-weight: bold\">03</span>-<span style=\"color: #008080; text-decoration-color: #008080; font-weight: bold\">26</span> <span style=\"color: #00ff00; text-decoration-color: #00ff00; font-weight: bold\">20:08:16</span>: <span style=\"font-weight: bold\">&lt;</span><span style=\"color: #ff00ff; text-decoration-color: #ff00ff; font-weight: bold\">class</span><span style=\"color: #000000; text-decoration-color: #000000\"> </span><span style=\"color: #008000; text-decoration-color: #008000\">'xgboost.core.DMatrix'</span><span style=\"font-weight: bold\">&gt;</span>\n",
       "</pre>\n"
      ],
      "text/plain": [
       "\u001b[1;36m2023\u001b[0m-\u001b[1;36m03\u001b[0m-\u001b[1;36m26\u001b[0m \u001b[1;92m20:08:16\u001b[0m: \u001b[1m<\u001b[0m\u001b[1;95mclass\u001b[0m\u001b[39m \u001b[0m\u001b[32m'xgboost.core.DMatrix'\u001b[0m\u001b[1m>\u001b[0m\n"
      ]
     },
     "metadata": {},
     "output_type": "display_data"
    },
    {
     "data": {
      "text/html": [
       "<pre style=\"white-space:pre;overflow-x:auto;line-height:normal;font-family:Menlo,'DejaVu Sans Mono',consolas,'Courier New',monospace\"><span style=\"color: #008080; text-decoration-color: #008080; font-weight: bold\">2023</span>-<span style=\"color: #008080; text-decoration-color: #008080; font-weight: bold\">03</span>-<span style=\"color: #008080; text-decoration-color: #008080; font-weight: bold\">26</span> <span style=\"color: #00ff00; text-decoration-color: #00ff00; font-weight: bold\">20:08:16</span>: <span style=\"color: #00ff00; text-decoration-color: #00ff00; font-weight: bold\">169.254.178.2</span> - - <span style=\"font-weight: bold\">[</span><span style=\"color: #008080; text-decoration-color: #008080; font-weight: bold\">26</span>/Mar/<span style=\"color: #00ff00; text-decoration-color: #00ff00; font-weight: bold\">2023:20:08:16</span> +<span style=\"color: #008080; text-decoration-color: #008080; font-weight: bold\">0000</span><span style=\"font-weight: bold\">]</span> <span style=\"color: #008000; text-decoration-color: #008000\">\"POST /invocations HTTP/1.1\"</span> <span style=\"color: #008080; text-decoration-color: #008080; font-weight: bold\">200</span> <span style=\"color: #008080; text-decoration-color: #008080; font-weight: bold\">31</span> <span style=\"color: #008000; text-decoration-color: #008000\">\"-\"</span> \n",
       "<span style=\"color: #008000; text-decoration-color: #008000\">\"AHC/2.0\"</span>\n",
       "</pre>\n"
      ],
      "text/plain": [
       "\u001b[1;36m2023\u001b[0m-\u001b[1;36m03\u001b[0m-\u001b[1;36m26\u001b[0m \u001b[1;92m20:08:16\u001b[0m: \u001b[1;92m169.254.178.2\u001b[0m - - \u001b[1m[\u001b[0m\u001b[1;36m26\u001b[0m/Mar/\u001b[1;92m2023:20:08:16\u001b[0m +\u001b[1;36m0000\u001b[0m\u001b[1m]\u001b[0m \u001b[32m\"POST /invocations HTTP/1.1\"\u001b[0m \u001b[1;36m200\u001b[0m \u001b[1;36m31\u001b[0m \u001b[32m\"-\"\u001b[0m \n",
       "\u001b[32m\"AHC/2.0\"\u001b[0m\n"
      ]
     },
     "metadata": {},
     "output_type": "display_data"
    },
    {
     "data": {
      "text/html": [
       "<pre style=\"white-space:pre;overflow-x:auto;line-height:normal;font-family:Menlo,'DejaVu Sans Mono',consolas,'Courier New',monospace\"><span style=\"color: #008080; text-decoration-color: #008080; font-weight: bold\">2023</span>-<span style=\"color: #008080; text-decoration-color: #008080; font-weight: bold\">03</span>-<span style=\"color: #008080; text-decoration-color: #008080; font-weight: bold\">26</span> <span style=\"color: #00ff00; text-decoration-color: #00ff00; font-weight: bold\">20:08:16</span>: Transformed data: <span style=\"font-weight: bold\">&lt;</span><span style=\"color: #ff00ff; text-decoration-color: #ff00ff; font-weight: bold\">xgboost.core.DMatrix</span><span style=\"color: #000000; text-decoration-color: #000000\"> object at </span><span style=\"color: #008080; text-decoration-color: #008080; font-weight: bold\">0x7f662be93e50</span><span style=\"font-weight: bold\">&gt;</span>\n",
       "</pre>\n"
      ],
      "text/plain": [
       "\u001b[1;36m2023\u001b[0m-\u001b[1;36m03\u001b[0m-\u001b[1;36m26\u001b[0m \u001b[1;92m20:08:16\u001b[0m: Transformed data: \u001b[1m<\u001b[0m\u001b[1;95mxgboost.core.DMatrix\u001b[0m\u001b[39m object at \u001b[0m\u001b[1;36m0x7f662be93e50\u001b[0m\u001b[1m>\u001b[0m\n"
      ]
     },
     "metadata": {},
     "output_type": "display_data"
    },
    {
     "data": {
      "text/html": [
       "<pre style=\"white-space:pre;overflow-x:auto;line-height:normal;font-family:Menlo,'DejaVu Sans Mono',consolas,'Courier New',monospace\"><span style=\"color: #008080; text-decoration-color: #008080; font-weight: bold\">2023</span>-<span style=\"color: #008080; text-decoration-color: #008080; font-weight: bold\">03</span>-<span style=\"color: #008080; text-decoration-color: #008080; font-weight: bold\">26</span> <span style=\"color: #00ff00; text-decoration-color: #00ff00; font-weight: bold\">20:08:16</span>: Input: \n",
       "<span style=\"color: #008080; text-decoration-color: #008080; font-weight: bold\">0.9244608063553126</span>,<span style=\"color: #008080; text-decoration-color: #008080; font-weight: bold\">1.1802995315641436</span>,<span style=\"color: #008080; text-decoration-color: #008080; font-weight: bold\">1.5657673760166693</span>,<span style=\"color: #008080; text-decoration-color: #008080; font-weight: bold\">1.336360046202571</span>,<span style=\"color: #008080; text-decoration-color: #008080; font-weight: bold\">0.8589511700480813</span>,<span style=\"color: #008080; text-decoration-color: #008080; font-weight: bold\">1.1943890922682798</span>,<span style=\"color: #008080; text-decoration-color: #008080; font-weight: bold\">1.</span>\n",
       "<span style=\"color: #008080; text-decoration-color: #008080; font-weight: bold\">3734796095708048</span>,<span style=\"color: #008080; text-decoration-color: #008080; font-weight: bold\">0.0</span>,<span style=\"color: #008080; text-decoration-color: #008080; font-weight: bold\">0.0</span>,<span style=\"color: #008080; text-decoration-color: #008080; font-weight: bold\">1.0</span>\n",
       "</pre>\n"
      ],
      "text/plain": [
       "\u001b[1;36m2023\u001b[0m-\u001b[1;36m03\u001b[0m-\u001b[1;36m26\u001b[0m \u001b[1;92m20:08:16\u001b[0m: Input: \n",
       "\u001b[1;36m0.9244608063553126\u001b[0m,\u001b[1;36m1.1802995315641436\u001b[0m,\u001b[1;36m1.5657673760166693\u001b[0m,\u001b[1;36m1.336360046202571\u001b[0m,\u001b[1;36m0.8589511700480813\u001b[0m,\u001b[1;36m1.1943890922682798\u001b[0m,\u001b[1;36m1.\u001b[0m\n",
       "\u001b[1;36m3734796095708048\u001b[0m,\u001b[1;36m0.0\u001b[0m,\u001b[1;36m0.0\u001b[0m,\u001b[1;36m1.0\u001b[0m\n"
      ]
     },
     "metadata": {},
     "output_type": "display_data"
    },
    {
     "data": {
      "text/html": [
       "<pre style=\"white-space:pre;overflow-x:auto;line-height:normal;font-family:Menlo,'DejaVu Sans Mono',consolas,'Courier New',monospace\"><span style=\"color: #008080; text-decoration-color: #008080; font-weight: bold\">2023</span>-<span style=\"color: #008080; text-decoration-color: #008080; font-weight: bold\">03</span>-<span style=\"color: #008080; text-decoration-color: #008080; font-weight: bold\">26</span> <span style=\"color: #00ff00; text-decoration-color: #00ff00; font-weight: bold\">20:08:16</span>: <span style=\"font-weight: bold\">&lt;</span><span style=\"color: #ff00ff; text-decoration-color: #ff00ff; font-weight: bold\">class</span><span style=\"color: #000000; text-decoration-color: #000000\"> </span><span style=\"color: #008000; text-decoration-color: #008000\">'numpy.ndarray'</span><span style=\"font-weight: bold\">&gt;</span>\n",
       "</pre>\n"
      ],
      "text/plain": [
       "\u001b[1;36m2023\u001b[0m-\u001b[1;36m03\u001b[0m-\u001b[1;36m26\u001b[0m \u001b[1;92m20:08:16\u001b[0m: \u001b[1m<\u001b[0m\u001b[1;95mclass\u001b[0m\u001b[39m \u001b[0m\u001b[32m'numpy.ndarray'\u001b[0m\u001b[1m>\u001b[0m\n"
      ]
     },
     "metadata": {},
     "output_type": "display_data"
    },
    {
     "data": {
      "text/html": [
       "<pre style=\"white-space:pre;overflow-x:auto;line-height:normal;font-family:Menlo,'DejaVu Sans Mono',consolas,'Courier New',monospace\"><span style=\"color: #008080; text-decoration-color: #008080; font-weight: bold\">2023</span>-<span style=\"color: #008080; text-decoration-color: #008080; font-weight: bold\">03</span>-<span style=\"color: #008080; text-decoration-color: #008080; font-weight: bold\">26</span> <span style=\"color: #00ff00; text-decoration-color: #00ff00; font-weight: bold\">20:08:16</span>: <span style=\"font-weight: bold\">&lt;</span><span style=\"color: #ff00ff; text-decoration-color: #ff00ff; font-weight: bold\">class</span><span style=\"color: #000000; text-decoration-color: #000000\"> </span><span style=\"color: #008000; text-decoration-color: #008000\">'xgboost.core.DMatrix'</span><span style=\"font-weight: bold\">&gt;</span>\n",
       "</pre>\n"
      ],
      "text/plain": [
       "\u001b[1;36m2023\u001b[0m-\u001b[1;36m03\u001b[0m-\u001b[1;36m26\u001b[0m \u001b[1;92m20:08:16\u001b[0m: \u001b[1m<\u001b[0m\u001b[1;95mclass\u001b[0m\u001b[39m \u001b[0m\u001b[32m'xgboost.core.DMatrix'\u001b[0m\u001b[1m>\u001b[0m\n"
      ]
     },
     "metadata": {},
     "output_type": "display_data"
    },
    {
     "data": {
      "text/html": [
       "<pre style=\"white-space:pre;overflow-x:auto;line-height:normal;font-family:Menlo,'DejaVu Sans Mono',consolas,'Courier New',monospace\"><span style=\"color: #008080; text-decoration-color: #008080; font-weight: bold\">2023</span>-<span style=\"color: #008080; text-decoration-color: #008080; font-weight: bold\">03</span>-<span style=\"color: #008080; text-decoration-color: #008080; font-weight: bold\">26</span> <span style=\"color: #00ff00; text-decoration-color: #00ff00; font-weight: bold\">20:08:20</span>: <span style=\"color: #00ff00; text-decoration-color: #00ff00; font-weight: bold\">169.254.178.2</span> - - <span style=\"font-weight: bold\">[</span><span style=\"color: #008080; text-decoration-color: #008080; font-weight: bold\">26</span>/Mar/<span style=\"color: #00ff00; text-decoration-color: #00ff00; font-weight: bold\">2023:20:08:16</span> +<span style=\"color: #008080; text-decoration-color: #008080; font-weight: bold\">0000</span><span style=\"font-weight: bold\">]</span> <span style=\"color: #008000; text-decoration-color: #008000\">\"POST /invocations HTTP/1.1\"</span> <span style=\"color: #008080; text-decoration-color: #008080; font-weight: bold\">200</span> <span style=\"color: #008080; text-decoration-color: #008080; font-weight: bold\">32</span> <span style=\"color: #008000; text-decoration-color: #008000\">\"-\"</span> \n",
       "<span style=\"color: #008000; text-decoration-color: #008000\">\"AHC/2.0\"</span>\n",
       "</pre>\n"
      ],
      "text/plain": [
       "\u001b[1;36m2023\u001b[0m-\u001b[1;36m03\u001b[0m-\u001b[1;36m26\u001b[0m \u001b[1;92m20:08:20\u001b[0m: \u001b[1;92m169.254.178.2\u001b[0m - - \u001b[1m[\u001b[0m\u001b[1;36m26\u001b[0m/Mar/\u001b[1;92m2023:20:08:16\u001b[0m +\u001b[1;36m0000\u001b[0m\u001b[1m]\u001b[0m \u001b[32m\"POST /invocations HTTP/1.1\"\u001b[0m \u001b[1;36m200\u001b[0m \u001b[1;36m32\u001b[0m \u001b[32m\"-\"\u001b[0m \n",
       "\u001b[32m\"AHC/2.0\"\u001b[0m\n"
      ]
     },
     "metadata": {},
     "output_type": "display_data"
    },
    {
     "data": {
      "text/html": [
       "<pre style=\"white-space:pre;overflow-x:auto;line-height:normal;font-family:Menlo,'DejaVu Sans Mono',consolas,'Courier New',monospace\"><span style=\"color: #008080; text-decoration-color: #008080; font-weight: bold\">2023</span>-<span style=\"color: #008080; text-decoration-color: #008080; font-weight: bold\">03</span>-<span style=\"color: #008080; text-decoration-color: #008080; font-weight: bold\">26</span> <span style=\"color: #00ff00; text-decoration-color: #00ff00; font-weight: bold\">20:08:20</span>: xgboost model loaded\n",
       "</pre>\n"
      ],
      "text/plain": [
       "\u001b[1;36m2023\u001b[0m-\u001b[1;36m03\u001b[0m-\u001b[1;36m26\u001b[0m \u001b[1;92m20:08:20\u001b[0m: xgboost model loaded\n"
      ]
     },
     "metadata": {},
     "output_type": "display_data"
    },
    {
     "data": {
      "text/html": [
       "<pre style=\"white-space:pre;overflow-x:auto;line-height:normal;font-family:Menlo,'DejaVu Sans Mono',consolas,'Courier New',monospace\"><span style=\"color: #008080; text-decoration-color: #008080; font-weight: bold\">2023</span>-<span style=\"color: #008080; text-decoration-color: #008080; font-weight: bold\">03</span>-<span style=\"color: #008080; text-decoration-color: #008080; font-weight: bold\">26</span> <span style=\"color: #00ff00; text-decoration-color: #00ff00; font-weight: bold\">20:08:24</span>: <span style=\"color: #00ff00; text-decoration-color: #00ff00; font-weight: bold\">169.254.178.2</span> - - <span style=\"font-weight: bold\">[</span><span style=\"color: #008080; text-decoration-color: #008080; font-weight: bold\">26</span>/Mar/<span style=\"color: #00ff00; text-decoration-color: #00ff00; font-weight: bold\">2023:20:08:20</span> +<span style=\"color: #008080; text-decoration-color: #008080; font-weight: bold\">0000</span><span style=\"font-weight: bold\">]</span> <span style=\"color: #008000; text-decoration-color: #008000\">\"GET /ping HTTP/1.1\"</span> <span style=\"color: #008080; text-decoration-color: #008080; font-weight: bold\">200</span> <span style=\"color: #008080; text-decoration-color: #008080; font-weight: bold\">1</span> <span style=\"color: #008000; text-decoration-color: #008000\">\"-\"</span> <span style=\"color: #008000; text-decoration-color: #008000\">\"AHC/2.0\"</span>\n",
       "</pre>\n"
      ],
      "text/plain": [
       "\u001b[1;36m2023\u001b[0m-\u001b[1;36m03\u001b[0m-\u001b[1;36m26\u001b[0m \u001b[1;92m20:08:24\u001b[0m: \u001b[1;92m169.254.178.2\u001b[0m - - \u001b[1m[\u001b[0m\u001b[1;36m26\u001b[0m/Mar/\u001b[1;92m2023:20:08:20\u001b[0m +\u001b[1;36m0000\u001b[0m\u001b[1m]\u001b[0m \u001b[32m\"GET /ping HTTP/1.1\"\u001b[0m \u001b[1;36m200\u001b[0m \u001b[1;36m1\u001b[0m \u001b[32m\"-\"\u001b[0m \u001b[32m\"AHC/2.0\"\u001b[0m\n"
      ]
     },
     "metadata": {},
     "output_type": "display_data"
    },
    {
     "data": {
      "text/html": [
       "<pre style=\"white-space:pre;overflow-x:auto;line-height:normal;font-family:Menlo,'DejaVu Sans Mono',consolas,'Courier New',monospace\"><span style=\"color: #008080; text-decoration-color: #008080; font-weight: bold\">2023</span>-<span style=\"color: #008080; text-decoration-color: #008080; font-weight: bold\">03</span>-<span style=\"color: #008080; text-decoration-color: #008080; font-weight: bold\">26</span> <span style=\"color: #00ff00; text-decoration-color: #00ff00; font-weight: bold\">20:08:25</span>: Transformed data: <span style=\"font-weight: bold\">&lt;</span><span style=\"color: #ff00ff; text-decoration-color: #ff00ff; font-weight: bold\">xgboost.core.DMatrix</span><span style=\"color: #000000; text-decoration-color: #000000\"> object at </span><span style=\"color: #008080; text-decoration-color: #008080; font-weight: bold\">0x7f662be93d60</span><span style=\"font-weight: bold\">&gt;</span>\n",
       "</pre>\n"
      ],
      "text/plain": [
       "\u001b[1;36m2023\u001b[0m-\u001b[1;36m03\u001b[0m-\u001b[1;36m26\u001b[0m \u001b[1;92m20:08:25\u001b[0m: Transformed data: \u001b[1m<\u001b[0m\u001b[1;95mxgboost.core.DMatrix\u001b[0m\u001b[39m object at \u001b[0m\u001b[1;36m0x7f662be93d60\u001b[0m\u001b[1m>\u001b[0m\n"
      ]
     },
     "metadata": {},
     "output_type": "display_data"
    },
    {
     "data": {
      "text/html": [
       "<pre style=\"white-space:pre;overflow-x:auto;line-height:normal;font-family:Menlo,'DejaVu Sans Mono',consolas,'Courier New',monospace\"><span style=\"color: #008080; text-decoration-color: #008080; font-weight: bold\">2023</span>-<span style=\"color: #008080; text-decoration-color: #008080; font-weight: bold\">03</span>-<span style=\"color: #008080; text-decoration-color: #008080; font-weight: bold\">26</span> <span style=\"color: #00ff00; text-decoration-color: #00ff00; font-weight: bold\">20:08:25</span>: xgboost model loaded\n",
       "</pre>\n"
      ],
      "text/plain": [
       "\u001b[1;36m2023\u001b[0m-\u001b[1;36m03\u001b[0m-\u001b[1;36m26\u001b[0m \u001b[1;92m20:08:25\u001b[0m: xgboost model loaded\n"
      ]
     },
     "metadata": {},
     "output_type": "display_data"
    },
    {
     "data": {
      "text/html": [
       "<pre style=\"white-space:pre;overflow-x:auto;line-height:normal;font-family:Menlo,'DejaVu Sans Mono',consolas,'Courier New',monospace\"><span style=\"color: #008080; text-decoration-color: #008080; font-weight: bold\">2023</span>-<span style=\"color: #008080; text-decoration-color: #008080; font-weight: bold\">03</span>-<span style=\"color: #008080; text-decoration-color: #008080; font-weight: bold\">26</span> <span style=\"color: #00ff00; text-decoration-color: #00ff00; font-weight: bold\">20:08:29</span>: <span style=\"color: #00ff00; text-decoration-color: #00ff00; font-weight: bold\">169.254.178.2</span> - - <span style=\"font-weight: bold\">[</span><span style=\"color: #008080; text-decoration-color: #008080; font-weight: bold\">26</span>/Mar/<span style=\"color: #00ff00; text-decoration-color: #00ff00; font-weight: bold\">2023:20:08:25</span> +<span style=\"color: #008080; text-decoration-color: #008080; font-weight: bold\">0000</span><span style=\"font-weight: bold\">]</span> <span style=\"color: #008000; text-decoration-color: #008000\">\"GET /ping HTTP/1.1\"</span> <span style=\"color: #008080; text-decoration-color: #008080; font-weight: bold\">200</span> <span style=\"color: #008080; text-decoration-color: #008080; font-weight: bold\">1</span> <span style=\"color: #008000; text-decoration-color: #008000\">\"-\"</span> <span style=\"color: #008000; text-decoration-color: #008000\">\"AHC/2.0\"</span>\n",
       "</pre>\n"
      ],
      "text/plain": [
       "\u001b[1;36m2023\u001b[0m-\u001b[1;36m03\u001b[0m-\u001b[1;36m26\u001b[0m \u001b[1;92m20:08:29\u001b[0m: \u001b[1;92m169.254.178.2\u001b[0m - - \u001b[1m[\u001b[0m\u001b[1;36m26\u001b[0m/Mar/\u001b[1;92m2023:20:08:25\u001b[0m +\u001b[1;36m0000\u001b[0m\u001b[1m]\u001b[0m \u001b[32m\"GET /ping HTTP/1.1\"\u001b[0m \u001b[1;36m200\u001b[0m \u001b[1;36m1\u001b[0m \u001b[32m\"-\"\u001b[0m \u001b[32m\"AHC/2.0\"\u001b[0m\n"
      ]
     },
     "metadata": {},
     "output_type": "display_data"
    },
    {
     "data": {
      "text/html": [
       "<pre style=\"white-space:pre;overflow-x:auto;line-height:normal;font-family:Menlo,'DejaVu Sans Mono',consolas,'Courier New',monospace\"><span style=\"color: #008080; text-decoration-color: #008080; font-weight: bold\">2023</span>-<span style=\"color: #008080; text-decoration-color: #008080; font-weight: bold\">03</span>-<span style=\"color: #008080; text-decoration-color: #008080; font-weight: bold\">26</span> <span style=\"color: #00ff00; text-decoration-color: #00ff00; font-weight: bold\">20:08:30</span>: xgboost model loaded\n",
       "</pre>\n"
      ],
      "text/plain": [
       "\u001b[1;36m2023\u001b[0m-\u001b[1;36m03\u001b[0m-\u001b[1;36m26\u001b[0m \u001b[1;92m20:08:30\u001b[0m: xgboost model loaded\n"
      ]
     },
     "metadata": {},
     "output_type": "display_data"
    },
    {
     "data": {
      "text/html": [
       "<pre style=\"white-space:pre;overflow-x:auto;line-height:normal;font-family:Menlo,'DejaVu Sans Mono',consolas,'Courier New',monospace\"><span style=\"color: #008080; text-decoration-color: #008080; font-weight: bold\">2023</span>-<span style=\"color: #008080; text-decoration-color: #008080; font-weight: bold\">03</span>-<span style=\"color: #008080; text-decoration-color: #008080; font-weight: bold\">26</span> <span style=\"color: #00ff00; text-decoration-color: #00ff00; font-weight: bold\">20:08:31</span>: <span style=\"color: #00ff00; text-decoration-color: #00ff00; font-weight: bold\">169.254.178.2</span> - - <span style=\"font-weight: bold\">[</span><span style=\"color: #008080; text-decoration-color: #008080; font-weight: bold\">26</span>/Mar/<span style=\"color: #00ff00; text-decoration-color: #00ff00; font-weight: bold\">2023:20:08:30</span> +<span style=\"color: #008080; text-decoration-color: #008080; font-weight: bold\">0000</span><span style=\"font-weight: bold\">]</span> <span style=\"color: #008000; text-decoration-color: #008000\">\"GET /ping HTTP/1.1\"</span> <span style=\"color: #008080; text-decoration-color: #008080; font-weight: bold\">200</span> <span style=\"color: #008080; text-decoration-color: #008080; font-weight: bold\">1</span> <span style=\"color: #008000; text-decoration-color: #008000\">\"-\"</span> <span style=\"color: #008000; text-decoration-color: #008000\">\"AHC/2.0\"</span>\n",
       "</pre>\n"
      ],
      "text/plain": [
       "\u001b[1;36m2023\u001b[0m-\u001b[1;36m03\u001b[0m-\u001b[1;36m26\u001b[0m \u001b[1;92m20:08:31\u001b[0m: \u001b[1;92m169.254.178.2\u001b[0m - - \u001b[1m[\u001b[0m\u001b[1;36m26\u001b[0m/Mar/\u001b[1;92m2023:20:08:30\u001b[0m +\u001b[1;36m0000\u001b[0m\u001b[1m]\u001b[0m \u001b[32m\"GET /ping HTTP/1.1\"\u001b[0m \u001b[1;36m200\u001b[0m \u001b[1;36m1\u001b[0m \u001b[32m\"-\"\u001b[0m \u001b[32m\"AHC/2.0\"\u001b[0m\n"
      ]
     },
     "metadata": {},
     "output_type": "display_data"
    },
    {
     "data": {
      "text/html": [
       "<pre style=\"white-space:pre;overflow-x:auto;line-height:normal;font-family:Menlo,'DejaVu Sans Mono',consolas,'Courier New',monospace\"><span style=\"color: #008080; text-decoration-color: #008080; font-weight: bold\">2023</span>-<span style=\"color: #008080; text-decoration-color: #008080; font-weight: bold\">03</span>-<span style=\"color: #008080; text-decoration-color: #008080; font-weight: bold\">26</span> <span style=\"color: #00ff00; text-decoration-color: #00ff00; font-weight: bold\">20:08:31</span>: Input: \n",
       "<span style=\"color: #008080; text-decoration-color: #008080; font-weight: bold\">0.3831484115366887</span>,<span style=\"color: #008080; text-decoration-color: #008080; font-weight: bold\">0.4748533892842405</span>,<span style=\"color: #008080; text-decoration-color: #008080; font-weight: bold\">0.2506716146449868</span>,<span style=\"color: #008080; text-decoration-color: #008080; font-weight: bold\">0.5674905932383428</span>,<span style=\"color: #008080; text-decoration-color: #008080; font-weight: bold\">0.8138932119974298</span>,<span style=\"color: #008080; text-decoration-color: #008080; font-weight: bold\">0.6788834503655224</span>,<span style=\"color: #008080; text-decoration-color: #008080; font-weight: bold\">0</span>\n",
       "<span style=\"color: #008080; text-decoration-color: #008080; font-weight: bold\">.22393875313148354</span>,<span style=\"color: #008080; text-decoration-color: #008080; font-weight: bold\">1.0</span>,<span style=\"color: #008080; text-decoration-color: #008080; font-weight: bold\">0.0</span>,<span style=\"color: #008080; text-decoration-color: #008080; font-weight: bold\">0.0</span>\n",
       "</pre>\n"
      ],
      "text/plain": [
       "\u001b[1;36m2023\u001b[0m-\u001b[1;36m03\u001b[0m-\u001b[1;36m26\u001b[0m \u001b[1;92m20:08:31\u001b[0m: Input: \n",
       "\u001b[1;36m0.3831484115366887\u001b[0m,\u001b[1;36m0.4748533892842405\u001b[0m,\u001b[1;36m0.2506716146449868\u001b[0m,\u001b[1;36m0.5674905932383428\u001b[0m,\u001b[1;36m0.8138932119974298\u001b[0m,\u001b[1;36m0.6788834503655224\u001b[0m,\u001b[1;36m0\u001b[0m\n",
       "\u001b[1;36m.22393875313148354\u001b[0m,\u001b[1;36m1.0\u001b[0m,\u001b[1;36m0.0\u001b[0m,\u001b[1;36m0.0\u001b[0m\n"
      ]
     },
     "metadata": {},
     "output_type": "display_data"
    },
    {
     "data": {
      "text/html": [
       "<pre style=\"white-space:pre;overflow-x:auto;line-height:normal;font-family:Menlo,'DejaVu Sans Mono',consolas,'Courier New',monospace\"><span style=\"color: #008080; text-decoration-color: #008080; font-weight: bold\">2023</span>-<span style=\"color: #008080; text-decoration-color: #008080; font-weight: bold\">03</span>-<span style=\"color: #008080; text-decoration-color: #008080; font-weight: bold\">26</span> <span style=\"color: #00ff00; text-decoration-color: #00ff00; font-weight: bold\">20:08:31</span>: <span style=\"font-weight: bold\">&lt;</span><span style=\"color: #ff00ff; text-decoration-color: #ff00ff; font-weight: bold\">class</span><span style=\"color: #000000; text-decoration-color: #000000\"> </span><span style=\"color: #008000; text-decoration-color: #008000\">'numpy.ndarray'</span><span style=\"font-weight: bold\">&gt;</span>\n",
       "</pre>\n"
      ],
      "text/plain": [
       "\u001b[1;36m2023\u001b[0m-\u001b[1;36m03\u001b[0m-\u001b[1;36m26\u001b[0m \u001b[1;92m20:08:31\u001b[0m: \u001b[1m<\u001b[0m\u001b[1;95mclass\u001b[0m\u001b[39m \u001b[0m\u001b[32m'numpy.ndarray'\u001b[0m\u001b[1m>\u001b[0m\n"
      ]
     },
     "metadata": {},
     "output_type": "display_data"
    },
    {
     "data": {
      "text/html": [
       "<pre style=\"white-space:pre;overflow-x:auto;line-height:normal;font-family:Menlo,'DejaVu Sans Mono',consolas,'Courier New',monospace\"><span style=\"color: #008080; text-decoration-color: #008080; font-weight: bold\">2023</span>-<span style=\"color: #008080; text-decoration-color: #008080; font-weight: bold\">03</span>-<span style=\"color: #008080; text-decoration-color: #008080; font-weight: bold\">26</span> <span style=\"color: #00ff00; text-decoration-color: #00ff00; font-weight: bold\">20:08:31</span>: <span style=\"font-weight: bold\">&lt;</span><span style=\"color: #ff00ff; text-decoration-color: #ff00ff; font-weight: bold\">class</span><span style=\"color: #000000; text-decoration-color: #000000\"> </span><span style=\"color: #008000; text-decoration-color: #008000\">'xgboost.core.DMatrix'</span><span style=\"font-weight: bold\">&gt;</span>\n",
       "</pre>\n"
      ],
      "text/plain": [
       "\u001b[1;36m2023\u001b[0m-\u001b[1;36m03\u001b[0m-\u001b[1;36m26\u001b[0m \u001b[1;92m20:08:31\u001b[0m: \u001b[1m<\u001b[0m\u001b[1;95mclass\u001b[0m\u001b[39m \u001b[0m\u001b[32m'xgboost.core.DMatrix'\u001b[0m\u001b[1m>\u001b[0m\n"
      ]
     },
     "metadata": {},
     "output_type": "display_data"
    },
    {
     "data": {
      "text/html": [
       "<pre style=\"white-space:pre;overflow-x:auto;line-height:normal;font-family:Menlo,'DejaVu Sans Mono',consolas,'Courier New',monospace\"><span style=\"color: #008080; text-decoration-color: #008080; font-weight: bold\">2023</span>-<span style=\"color: #008080; text-decoration-color: #008080; font-weight: bold\">03</span>-<span style=\"color: #008080; text-decoration-color: #008080; font-weight: bold\">26</span> <span style=\"color: #00ff00; text-decoration-color: #00ff00; font-weight: bold\">20:08:31</span>: <span style=\"color: #00ff00; text-decoration-color: #00ff00; font-weight: bold\">169.254.178.2</span> - - <span style=\"font-weight: bold\">[</span><span style=\"color: #008080; text-decoration-color: #008080; font-weight: bold\">26</span>/Mar/<span style=\"color: #00ff00; text-decoration-color: #00ff00; font-weight: bold\">2023:20:08:31</span> +<span style=\"color: #008080; text-decoration-color: #008080; font-weight: bold\">0000</span><span style=\"font-weight: bold\">]</span> <span style=\"color: #008000; text-decoration-color: #008000\">\"POST /invocations HTTP/1.1\"</span> <span style=\"color: #008080; text-decoration-color: #008080; font-weight: bold\">200</span> <span style=\"color: #008080; text-decoration-color: #008080; font-weight: bold\">31</span> <span style=\"color: #008000; text-decoration-color: #008000\">\"-\"</span> \n",
       "<span style=\"color: #008000; text-decoration-color: #008000\">\"AHC/2.0\"</span>\n",
       "</pre>\n"
      ],
      "text/plain": [
       "\u001b[1;36m2023\u001b[0m-\u001b[1;36m03\u001b[0m-\u001b[1;36m26\u001b[0m \u001b[1;92m20:08:31\u001b[0m: \u001b[1;92m169.254.178.2\u001b[0m - - \u001b[1m[\u001b[0m\u001b[1;36m26\u001b[0m/Mar/\u001b[1;92m2023:20:08:31\u001b[0m +\u001b[1;36m0000\u001b[0m\u001b[1m]\u001b[0m \u001b[32m\"POST /invocations HTTP/1.1\"\u001b[0m \u001b[1;36m200\u001b[0m \u001b[1;36m31\u001b[0m \u001b[32m\"-\"\u001b[0m \n",
       "\u001b[32m\"AHC/2.0\"\u001b[0m\n"
      ]
     },
     "metadata": {},
     "output_type": "display_data"
    },
    {
     "data": {
      "text/html": [
       "<pre style=\"white-space:pre;overflow-x:auto;line-height:normal;font-family:Menlo,'DejaVu Sans Mono',consolas,'Courier New',monospace\"><span style=\"color: #008080; text-decoration-color: #008080; font-weight: bold\">2023</span>-<span style=\"color: #008080; text-decoration-color: #008080; font-weight: bold\">03</span>-<span style=\"color: #008080; text-decoration-color: #008080; font-weight: bold\">26</span> <span style=\"color: #00ff00; text-decoration-color: #00ff00; font-weight: bold\">20:08:31</span>: Input: \n",
       "<span style=\"color: #008080; text-decoration-color: #008080; font-weight: bold\">0.9244608063553126</span>,<span style=\"color: #008080; text-decoration-color: #008080; font-weight: bold\">1.1802995315641436</span>,<span style=\"color: #008080; text-decoration-color: #008080; font-weight: bold\">1.5657673760166693</span>,<span style=\"color: #008080; text-decoration-color: #008080; font-weight: bold\">1.336360046202571</span>,<span style=\"color: #008080; text-decoration-color: #008080; font-weight: bold\">0.8589511700480813</span>,<span style=\"color: #008080; text-decoration-color: #008080; font-weight: bold\">1.1943890922682798</span>,<span style=\"color: #008080; text-decoration-color: #008080; font-weight: bold\">1.</span>\n",
       "<span style=\"color: #008080; text-decoration-color: #008080; font-weight: bold\">3734796095708048</span>,<span style=\"color: #008080; text-decoration-color: #008080; font-weight: bold\">0.0</span>,<span style=\"color: #008080; text-decoration-color: #008080; font-weight: bold\">0.0</span>,<span style=\"color: #008080; text-decoration-color: #008080; font-weight: bold\">1.0</span>\n",
       "</pre>\n"
      ],
      "text/plain": [
       "\u001b[1;36m2023\u001b[0m-\u001b[1;36m03\u001b[0m-\u001b[1;36m26\u001b[0m \u001b[1;92m20:08:31\u001b[0m: Input: \n",
       "\u001b[1;36m0.9244608063553126\u001b[0m,\u001b[1;36m1.1802995315641436\u001b[0m,\u001b[1;36m1.5657673760166693\u001b[0m,\u001b[1;36m1.336360046202571\u001b[0m,\u001b[1;36m0.8589511700480813\u001b[0m,\u001b[1;36m1.1943890922682798\u001b[0m,\u001b[1;36m1.\u001b[0m\n",
       "\u001b[1;36m3734796095708048\u001b[0m,\u001b[1;36m0.0\u001b[0m,\u001b[1;36m0.0\u001b[0m,\u001b[1;36m1.0\u001b[0m\n"
      ]
     },
     "metadata": {},
     "output_type": "display_data"
    },
    {
     "data": {
      "text/html": [
       "<pre style=\"white-space:pre;overflow-x:auto;line-height:normal;font-family:Menlo,'DejaVu Sans Mono',consolas,'Courier New',monospace\"><span style=\"color: #008080; text-decoration-color: #008080; font-weight: bold\">2023</span>-<span style=\"color: #008080; text-decoration-color: #008080; font-weight: bold\">03</span>-<span style=\"color: #008080; text-decoration-color: #008080; font-weight: bold\">26</span> <span style=\"color: #00ff00; text-decoration-color: #00ff00; font-weight: bold\">20:08:31</span>: <span style=\"font-weight: bold\">&lt;</span><span style=\"color: #ff00ff; text-decoration-color: #ff00ff; font-weight: bold\">class</span><span style=\"color: #000000; text-decoration-color: #000000\"> </span><span style=\"color: #008000; text-decoration-color: #008000\">'numpy.ndarray'</span><span style=\"font-weight: bold\">&gt;</span>\n",
       "</pre>\n"
      ],
      "text/plain": [
       "\u001b[1;36m2023\u001b[0m-\u001b[1;36m03\u001b[0m-\u001b[1;36m26\u001b[0m \u001b[1;92m20:08:31\u001b[0m: \u001b[1m<\u001b[0m\u001b[1;95mclass\u001b[0m\u001b[39m \u001b[0m\u001b[32m'numpy.ndarray'\u001b[0m\u001b[1m>\u001b[0m\n"
      ]
     },
     "metadata": {},
     "output_type": "display_data"
    },
    {
     "data": {
      "text/html": [
       "<pre style=\"white-space:pre;overflow-x:auto;line-height:normal;font-family:Menlo,'DejaVu Sans Mono',consolas,'Courier New',monospace\"><span style=\"color: #008080; text-decoration-color: #008080; font-weight: bold\">2023</span>-<span style=\"color: #008080; text-decoration-color: #008080; font-weight: bold\">03</span>-<span style=\"color: #008080; text-decoration-color: #008080; font-weight: bold\">26</span> <span style=\"color: #00ff00; text-decoration-color: #00ff00; font-weight: bold\">20:08:31</span>: <span style=\"font-weight: bold\">&lt;</span><span style=\"color: #ff00ff; text-decoration-color: #ff00ff; font-weight: bold\">class</span><span style=\"color: #000000; text-decoration-color: #000000\"> </span><span style=\"color: #008000; text-decoration-color: #008000\">'xgboost.core.DMatrix'</span><span style=\"font-weight: bold\">&gt;</span>\n",
       "</pre>\n"
      ],
      "text/plain": [
       "\u001b[1;36m2023\u001b[0m-\u001b[1;36m03\u001b[0m-\u001b[1;36m26\u001b[0m \u001b[1;92m20:08:31\u001b[0m: \u001b[1m<\u001b[0m\u001b[1;95mclass\u001b[0m\u001b[39m \u001b[0m\u001b[32m'xgboost.core.DMatrix'\u001b[0m\u001b[1m>\u001b[0m\n"
      ]
     },
     "metadata": {},
     "output_type": "display_data"
    },
    {
     "data": {
      "text/html": [
       "<pre style=\"white-space:pre;overflow-x:auto;line-height:normal;font-family:Menlo,'DejaVu Sans Mono',consolas,'Courier New',monospace\"><span style=\"color: #008080; text-decoration-color: #008080; font-weight: bold\">2023</span>-<span style=\"color: #008080; text-decoration-color: #008080; font-weight: bold\">03</span>-<span style=\"color: #008080; text-decoration-color: #008080; font-weight: bold\">26</span> <span style=\"color: #00ff00; text-decoration-color: #00ff00; font-weight: bold\">20:08:32</span>: <span style=\"color: #00ff00; text-decoration-color: #00ff00; font-weight: bold\">169.254.178.2</span> - - <span style=\"font-weight: bold\">[</span><span style=\"color: #008080; text-decoration-color: #008080; font-weight: bold\">26</span>/Mar/<span style=\"color: #00ff00; text-decoration-color: #00ff00; font-weight: bold\">2023:20:08:31</span> +<span style=\"color: #008080; text-decoration-color: #008080; font-weight: bold\">0000</span><span style=\"font-weight: bold\">]</span> <span style=\"color: #008000; text-decoration-color: #008000\">\"POST /invocations HTTP/1.1\"</span> <span style=\"color: #008080; text-decoration-color: #008080; font-weight: bold\">200</span> <span style=\"color: #008080; text-decoration-color: #008080; font-weight: bold\">32</span> <span style=\"color: #008000; text-decoration-color: #008000\">\"-\"</span> \n",
       "<span style=\"color: #008000; text-decoration-color: #008000\">\"AHC/2.0\"</span>\n",
       "</pre>\n"
      ],
      "text/plain": [
       "\u001b[1;36m2023\u001b[0m-\u001b[1;36m03\u001b[0m-\u001b[1;36m26\u001b[0m \u001b[1;92m20:08:32\u001b[0m: \u001b[1;92m169.254.178.2\u001b[0m - - \u001b[1m[\u001b[0m\u001b[1;36m26\u001b[0m/Mar/\u001b[1;92m2023:20:08:31\u001b[0m +\u001b[1;36m0000\u001b[0m\u001b[1m]\u001b[0m \u001b[32m\"POST /invocations HTTP/1.1\"\u001b[0m \u001b[1;36m200\u001b[0m \u001b[1;36m32\u001b[0m \u001b[32m\"-\"\u001b[0m \n",
       "\u001b[32m\"AHC/2.0\"\u001b[0m\n"
      ]
     },
     "metadata": {},
     "output_type": "display_data"
    },
    {
     "data": {
      "text/html": [
       "<pre style=\"white-space:pre;overflow-x:auto;line-height:normal;font-family:Menlo,'DejaVu Sans Mono',consolas,'Courier New',monospace\"><span style=\"color: #008080; text-decoration-color: #008080; font-weight: bold\">2023</span>-<span style=\"color: #008080; text-decoration-color: #008080; font-weight: bold\">03</span>-<span style=\"color: #008080; text-decoration-color: #008080; font-weight: bold\">26</span> <span style=\"color: #00ff00; text-decoration-color: #00ff00; font-weight: bold\">20:08:32</span>: Input: \n",
       "<span style=\"color: #008080; text-decoration-color: #008080; font-weight: bold\">-0.9909522830028931</span>,<span style=\"color: #008080; text-decoration-color: #008080; font-weight: bold\">-0.9864279054384161</span>,<span style=\"color: #008080; text-decoration-color: #008080; font-weight: bold\">-0.9448699866019973</span>,<span style=\"color: #008080; text-decoration-color: #008080; font-weight: bold\">-0.9049861840565454</span>,<span style=\"color: #008080; text-decoration-color: #008080; font-weight: bold\">-0.8397338484614792</span>,<span style=\"color: #008080; text-decoration-color: #008080; font-weight: bold\">-0.812889513370</span>\n",
       "<span style=\"color: #008080; text-decoration-color: #008080; font-weight: bold\">7758</span>,<span style=\"color: #008080; text-decoration-color: #008080; font-weight: bold\">-0.925602103307838</span>,<span style=\"color: #008080; text-decoration-color: #008080; font-weight: bold\">0.0</span>,<span style=\"color: #008080; text-decoration-color: #008080; font-weight: bold\">0.0</span>,<span style=\"color: #008080; text-decoration-color: #008080; font-weight: bold\">1.0</span>\n",
       "</pre>\n"
      ],
      "text/plain": [
       "\u001b[1;36m2023\u001b[0m-\u001b[1;36m03\u001b[0m-\u001b[1;36m26\u001b[0m \u001b[1;92m20:08:32\u001b[0m: Input: \n",
       "\u001b[1;36m-0.9909522830028931\u001b[0m,\u001b[1;36m-0.9864279054384161\u001b[0m,\u001b[1;36m-0.9448699866019973\u001b[0m,\u001b[1;36m-0.9049861840565454\u001b[0m,\u001b[1;36m-0.8397338484614792\u001b[0m,\u001b[1;36m-0.812889513370\u001b[0m\n",
       "\u001b[1;36m7758\u001b[0m,\u001b[1;36m-0.925602103307838\u001b[0m,\u001b[1;36m0.0\u001b[0m,\u001b[1;36m0.0\u001b[0m,\u001b[1;36m1.0\u001b[0m\n"
      ]
     },
     "metadata": {},
     "output_type": "display_data"
    },
    {
     "data": {
      "text/html": [
       "<pre style=\"white-space:pre;overflow-x:auto;line-height:normal;font-family:Menlo,'DejaVu Sans Mono',consolas,'Courier New',monospace\"><span style=\"color: #008080; text-decoration-color: #008080; font-weight: bold\">2023</span>-<span style=\"color: #008080; text-decoration-color: #008080; font-weight: bold\">03</span>-<span style=\"color: #008080; text-decoration-color: #008080; font-weight: bold\">26</span> <span style=\"color: #00ff00; text-decoration-color: #00ff00; font-weight: bold\">20:08:32</span>: <span style=\"font-weight: bold\">&lt;</span><span style=\"color: #ff00ff; text-decoration-color: #ff00ff; font-weight: bold\">class</span><span style=\"color: #000000; text-decoration-color: #000000\"> </span><span style=\"color: #008000; text-decoration-color: #008000\">'numpy.ndarray'</span><span style=\"font-weight: bold\">&gt;</span>\n",
       "</pre>\n"
      ],
      "text/plain": [
       "\u001b[1;36m2023\u001b[0m-\u001b[1;36m03\u001b[0m-\u001b[1;36m26\u001b[0m \u001b[1;92m20:08:32\u001b[0m: \u001b[1m<\u001b[0m\u001b[1;95mclass\u001b[0m\u001b[39m \u001b[0m\u001b[32m'numpy.ndarray'\u001b[0m\u001b[1m>\u001b[0m\n"
      ]
     },
     "metadata": {},
     "output_type": "display_data"
    },
    {
     "data": {
      "text/html": [
       "<pre style=\"white-space:pre;overflow-x:auto;line-height:normal;font-family:Menlo,'DejaVu Sans Mono',consolas,'Courier New',monospace\"><span style=\"color: #008080; text-decoration-color: #008080; font-weight: bold\">2023</span>-<span style=\"color: #008080; text-decoration-color: #008080; font-weight: bold\">03</span>-<span style=\"color: #008080; text-decoration-color: #008080; font-weight: bold\">26</span> <span style=\"color: #00ff00; text-decoration-color: #00ff00; font-weight: bold\">20:08:32</span>: <span style=\"font-weight: bold\">&lt;</span><span style=\"color: #ff00ff; text-decoration-color: #ff00ff; font-weight: bold\">class</span><span style=\"color: #000000; text-decoration-color: #000000\"> </span><span style=\"color: #008000; text-decoration-color: #008000\">'xgboost.core.DMatrix'</span><span style=\"font-weight: bold\">&gt;</span>\n",
       "</pre>\n"
      ],
      "text/plain": [
       "\u001b[1;36m2023\u001b[0m-\u001b[1;36m03\u001b[0m-\u001b[1;36m26\u001b[0m \u001b[1;92m20:08:32\u001b[0m: \u001b[1m<\u001b[0m\u001b[1;95mclass\u001b[0m\u001b[39m \u001b[0m\u001b[32m'xgboost.core.DMatrix'\u001b[0m\u001b[1m>\u001b[0m\n"
      ]
     },
     "metadata": {},
     "output_type": "display_data"
    },
    {
     "data": {
      "text/html": [
       "<pre style=\"white-space:pre;overflow-x:auto;line-height:normal;font-family:Menlo,'DejaVu Sans Mono',consolas,'Courier New',monospace\"><span style=\"color: #008080; text-decoration-color: #008080; font-weight: bold\">2023</span>-<span style=\"color: #008080; text-decoration-color: #008080; font-weight: bold\">03</span>-<span style=\"color: #008080; text-decoration-color: #008080; font-weight: bold\">26</span> <span style=\"color: #00ff00; text-decoration-color: #00ff00; font-weight: bold\">20:08:32</span>: <span style=\"color: #00ff00; text-decoration-color: #00ff00; font-weight: bold\">169.254.178.2</span> - - <span style=\"font-weight: bold\">[</span><span style=\"color: #008080; text-decoration-color: #008080; font-weight: bold\">26</span>/Mar/<span style=\"color: #00ff00; text-decoration-color: #00ff00; font-weight: bold\">2023:20:08:32</span> +<span style=\"color: #008080; text-decoration-color: #008080; font-weight: bold\">0000</span><span style=\"font-weight: bold\">]</span> <span style=\"color: #008000; text-decoration-color: #008000\">\"POST /invocations HTTP/1.1\"</span> <span style=\"color: #008080; text-decoration-color: #008080; font-weight: bold\">200</span> <span style=\"color: #008080; text-decoration-color: #008080; font-weight: bold\">31</span> <span style=\"color: #008000; text-decoration-color: #008000\">\"-\"</span> \n",
       "<span style=\"color: #008000; text-decoration-color: #008000\">\"AHC/2.0\"</span>\n",
       "</pre>\n"
      ],
      "text/plain": [
       "\u001b[1;36m2023\u001b[0m-\u001b[1;36m03\u001b[0m-\u001b[1;36m26\u001b[0m \u001b[1;92m20:08:32\u001b[0m: \u001b[1;92m169.254.178.2\u001b[0m - - \u001b[1m[\u001b[0m\u001b[1;36m26\u001b[0m/Mar/\u001b[1;92m2023:20:08:32\u001b[0m +\u001b[1;36m0000\u001b[0m\u001b[1m]\u001b[0m \u001b[32m\"POST /invocations HTTP/1.1\"\u001b[0m \u001b[1;36m200\u001b[0m \u001b[1;36m31\u001b[0m \u001b[32m\"-\"\u001b[0m \n",
       "\u001b[32m\"AHC/2.0\"\u001b[0m\n"
      ]
     },
     "metadata": {},
     "output_type": "display_data"
    },
    {
     "data": {
      "text/html": [
       "<pre style=\"white-space:pre;overflow-x:auto;line-height:normal;font-family:Menlo,'DejaVu Sans Mono',consolas,'Courier New',monospace\"><span style=\"color: #008080; text-decoration-color: #008080; font-weight: bold\">2023</span>-<span style=\"color: #008080; text-decoration-color: #008080; font-weight: bold\">03</span>-<span style=\"color: #008080; text-decoration-color: #008080; font-weight: bold\">26</span> <span style=\"color: #00ff00; text-decoration-color: #00ff00; font-weight: bold\">20:08:32</span>: Transformed data: <span style=\"font-weight: bold\">&lt;</span><span style=\"color: #ff00ff; text-decoration-color: #ff00ff; font-weight: bold\">xgboost.core.DMatrix</span><span style=\"color: #000000; text-decoration-color: #000000\"> object at </span><span style=\"color: #008080; text-decoration-color: #008080; font-weight: bold\">0x7f662be93f40</span><span style=\"font-weight: bold\">&gt;</span>\n",
       "</pre>\n"
      ],
      "text/plain": [
       "\u001b[1;36m2023\u001b[0m-\u001b[1;36m03\u001b[0m-\u001b[1;36m26\u001b[0m \u001b[1;92m20:08:32\u001b[0m: Transformed data: \u001b[1m<\u001b[0m\u001b[1;95mxgboost.core.DMatrix\u001b[0m\u001b[39m object at \u001b[0m\u001b[1;36m0x7f662be93f40\u001b[0m\u001b[1m>\u001b[0m\n"
      ]
     },
     "metadata": {},
     "output_type": "display_data"
    },
    {
     "data": {
      "text/html": [
       "<pre style=\"white-space:pre;overflow-x:auto;line-height:normal;font-family:Menlo,'DejaVu Sans Mono',consolas,'Courier New',monospace\"><span style=\"color: #008080; text-decoration-color: #008080; font-weight: bold\">2023</span>-<span style=\"color: #008080; text-decoration-color: #008080; font-weight: bold\">03</span>-<span style=\"color: #008080; text-decoration-color: #008080; font-weight: bold\">26</span> <span style=\"color: #00ff00; text-decoration-color: #00ff00; font-weight: bold\">20:08:32</span>: Input: \n",
       "<span style=\"color: #008080; text-decoration-color: #008080; font-weight: bold\">0.05003309164830575</span>,<span style=\"color: #008080; text-decoration-color: #008080; font-weight: bold\">0.12213031814428864</span>,<span style=\"color: #008080; text-decoration-color: #008080; font-weight: bold\">-0.22754502585380668</span>,<span style=\"color: #008080; text-decoration-color: #008080; font-weight: bold\">-0.3482186491514147</span>,<span style=\"color: #008080; text-decoration-color: #008080; font-weight: bold\">-0.2855209644384661</span>,<span style=\"color: #008080; text-decoration-color: #008080; font-weight: bold\">-0.51179772252</span>\n",
       "<span style=\"color: #008080; text-decoration-color: #008080; font-weight: bold\">49174</span>,<span style=\"color: #008080; text-decoration-color: #008080; font-weight: bold\">-0.2933546322662112</span>,<span style=\"color: #008080; text-decoration-color: #008080; font-weight: bold\">0.0</span>,<span style=\"color: #008080; text-decoration-color: #008080; font-weight: bold\">1.0</span>,<span style=\"color: #008080; text-decoration-color: #008080; font-weight: bold\">0.0</span>\n",
       "</pre>\n"
      ],
      "text/plain": [
       "\u001b[1;36m2023\u001b[0m-\u001b[1;36m03\u001b[0m-\u001b[1;36m26\u001b[0m \u001b[1;92m20:08:32\u001b[0m: Input: \n",
       "\u001b[1;36m0.05003309164830575\u001b[0m,\u001b[1;36m0.12213031814428864\u001b[0m,\u001b[1;36m-0.22754502585380668\u001b[0m,\u001b[1;36m-0.3482186491514147\u001b[0m,\u001b[1;36m-0.2855209644384661\u001b[0m,\u001b[1;36m-0.51179772252\u001b[0m\n",
       "\u001b[1;36m49174\u001b[0m,\u001b[1;36m-0.2933546322662112\u001b[0m,\u001b[1;36m0.0\u001b[0m,\u001b[1;36m1.0\u001b[0m,\u001b[1;36m0.0\u001b[0m\n"
      ]
     },
     "metadata": {},
     "output_type": "display_data"
    },
    {
     "data": {
      "text/html": [
       "<pre style=\"white-space:pre;overflow-x:auto;line-height:normal;font-family:Menlo,'DejaVu Sans Mono',consolas,'Courier New',monospace\"><span style=\"color: #008080; text-decoration-color: #008080; font-weight: bold\">2023</span>-<span style=\"color: #008080; text-decoration-color: #008080; font-weight: bold\">03</span>-<span style=\"color: #008080; text-decoration-color: #008080; font-weight: bold\">26</span> <span style=\"color: #00ff00; text-decoration-color: #00ff00; font-weight: bold\">20:08:32</span>: <span style=\"font-weight: bold\">&lt;</span><span style=\"color: #ff00ff; text-decoration-color: #ff00ff; font-weight: bold\">class</span><span style=\"color: #000000; text-decoration-color: #000000\"> </span><span style=\"color: #008000; text-decoration-color: #008000\">'numpy.ndarray'</span><span style=\"font-weight: bold\">&gt;</span>\n",
       "</pre>\n"
      ],
      "text/plain": [
       "\u001b[1;36m2023\u001b[0m-\u001b[1;36m03\u001b[0m-\u001b[1;36m26\u001b[0m \u001b[1;92m20:08:32\u001b[0m: \u001b[1m<\u001b[0m\u001b[1;95mclass\u001b[0m\u001b[39m \u001b[0m\u001b[32m'numpy.ndarray'\u001b[0m\u001b[1m>\u001b[0m\n"
      ]
     },
     "metadata": {},
     "output_type": "display_data"
    },
    {
     "data": {
      "text/html": [
       "<pre style=\"white-space:pre;overflow-x:auto;line-height:normal;font-family:Menlo,'DejaVu Sans Mono',consolas,'Courier New',monospace\"><span style=\"color: #008080; text-decoration-color: #008080; font-weight: bold\">2023</span>-<span style=\"color: #008080; text-decoration-color: #008080; font-weight: bold\">03</span>-<span style=\"color: #008080; text-decoration-color: #008080; font-weight: bold\">26</span> <span style=\"color: #00ff00; text-decoration-color: #00ff00; font-weight: bold\">20:08:32</span>: <span style=\"font-weight: bold\">&lt;</span><span style=\"color: #ff00ff; text-decoration-color: #ff00ff; font-weight: bold\">class</span><span style=\"color: #000000; text-decoration-color: #000000\"> </span><span style=\"color: #008000; text-decoration-color: #008000\">'xgboost.core.DMatrix'</span><span style=\"font-weight: bold\">&gt;</span>\n",
       "</pre>\n"
      ],
      "text/plain": [
       "\u001b[1;36m2023\u001b[0m-\u001b[1;36m03\u001b[0m-\u001b[1;36m26\u001b[0m \u001b[1;92m20:08:32\u001b[0m: \u001b[1m<\u001b[0m\u001b[1;95mclass\u001b[0m\u001b[39m \u001b[0m\u001b[32m'xgboost.core.DMatrix'\u001b[0m\u001b[1m>\u001b[0m\n"
      ]
     },
     "metadata": {},
     "output_type": "display_data"
    },
    {
     "data": {
      "text/html": [
       "<pre style=\"white-space:pre;overflow-x:auto;line-height:normal;font-family:Menlo,'DejaVu Sans Mono',consolas,'Courier New',monospace\"><span style=\"color: #008080; text-decoration-color: #008080; font-weight: bold\">2023</span>-<span style=\"color: #008080; text-decoration-color: #008080; font-weight: bold\">03</span>-<span style=\"color: #008080; text-decoration-color: #008080; font-weight: bold\">26</span> <span style=\"color: #00ff00; text-decoration-color: #00ff00; font-weight: bold\">20:08:33</span>: <span style=\"color: #00ff00; text-decoration-color: #00ff00; font-weight: bold\">169.254.178.2</span> - - <span style=\"font-weight: bold\">[</span><span style=\"color: #008080; text-decoration-color: #008080; font-weight: bold\">26</span>/Mar/<span style=\"color: #00ff00; text-decoration-color: #00ff00; font-weight: bold\">2023:20:08:32</span> +<span style=\"color: #008080; text-decoration-color: #008080; font-weight: bold\">0000</span><span style=\"font-weight: bold\">]</span> <span style=\"color: #008000; text-decoration-color: #008000\">\"POST /invocations HTTP/1.1\"</span> <span style=\"color: #008080; text-decoration-color: #008080; font-weight: bold\">200</span> <span style=\"color: #008080; text-decoration-color: #008080; font-weight: bold\">31</span> <span style=\"color: #008000; text-decoration-color: #008000\">\"-\"</span> \n",
       "<span style=\"color: #008000; text-decoration-color: #008000\">\"AHC/2.0\"</span>\n",
       "</pre>\n"
      ],
      "text/plain": [
       "\u001b[1;36m2023\u001b[0m-\u001b[1;36m03\u001b[0m-\u001b[1;36m26\u001b[0m \u001b[1;92m20:08:33\u001b[0m: \u001b[1;92m169.254.178.2\u001b[0m - - \u001b[1m[\u001b[0m\u001b[1;36m26\u001b[0m/Mar/\u001b[1;92m2023:20:08:32\u001b[0m +\u001b[1;36m0000\u001b[0m\u001b[1m]\u001b[0m \u001b[32m\"POST /invocations HTTP/1.1\"\u001b[0m \u001b[1;36m200\u001b[0m \u001b[1;36m31\u001b[0m \u001b[32m\"-\"\u001b[0m \n",
       "\u001b[32m\"AHC/2.0\"\u001b[0m\n"
      ]
     },
     "metadata": {},
     "output_type": "display_data"
    },
    {
     "data": {
      "text/html": [
       "<pre style=\"white-space:pre;overflow-x:auto;line-height:normal;font-family:Menlo,'DejaVu Sans Mono',consolas,'Courier New',monospace\"><span style=\"color: #008080; text-decoration-color: #008080; font-weight: bold\">2023</span>-<span style=\"color: #008080; text-decoration-color: #008080; font-weight: bold\">03</span>-<span style=\"color: #008080; text-decoration-color: #008080; font-weight: bold\">26</span> <span style=\"color: #00ff00; text-decoration-color: #00ff00; font-weight: bold\">20:08:33</span>: Input: \n",
       "<span style=\"color: #008080; text-decoration-color: #008080; font-weight: bold\">-1.282428187905229</span>,<span style=\"color: #008080; text-decoration-color: #008080; font-weight: bold\">-1.3391509765783673</span>,<span style=\"color: #008080; text-decoration-color: #008080; font-weight: bold\">-0.9448699866019973</span>,<span style=\"color: #008080; text-decoration-color: #008080; font-weight: bold\">-1.1160683813557435</span>,<span style=\"color: #008080; text-decoration-color: #008080; font-weight: bold\">-0.9411142540754451</span>,<span style=\"color: #008080; text-decoration-color: #008080; font-weight: bold\">-1.1869732535125</span>\n",
       "<span style=\"color: #008080; text-decoration-color: #008080; font-weight: bold\">996</span>,<span style=\"color: #008080; text-decoration-color: #008080; font-weight: bold\">-1.22735657812316</span>,<span style=\"color: #008080; text-decoration-color: #008080; font-weight: bold\">0.0</span>,<span style=\"color: #008080; text-decoration-color: #008080; font-weight: bold\">1.0</span>,<span style=\"color: #008080; text-decoration-color: #008080; font-weight: bold\">0.0</span>\n",
       "</pre>\n"
      ],
      "text/plain": [
       "\u001b[1;36m2023\u001b[0m-\u001b[1;36m03\u001b[0m-\u001b[1;36m26\u001b[0m \u001b[1;92m20:08:33\u001b[0m: Input: \n",
       "\u001b[1;36m-1.282428187905229\u001b[0m,\u001b[1;36m-1.3391509765783673\u001b[0m,\u001b[1;36m-0.9448699866019973\u001b[0m,\u001b[1;36m-1.1160683813557435\u001b[0m,\u001b[1;36m-0.9411142540754451\u001b[0m,\u001b[1;36m-1.1869732535125\u001b[0m\n",
       "\u001b[1;36m996\u001b[0m,\u001b[1;36m-1.22735657812316\u001b[0m,\u001b[1;36m0.0\u001b[0m,\u001b[1;36m1.0\u001b[0m,\u001b[1;36m0.0\u001b[0m\n"
      ]
     },
     "metadata": {},
     "output_type": "display_data"
    },
    {
     "data": {
      "text/html": [
       "<pre style=\"white-space:pre;overflow-x:auto;line-height:normal;font-family:Menlo,'DejaVu Sans Mono',consolas,'Courier New',monospace\"><span style=\"color: #008080; text-decoration-color: #008080; font-weight: bold\">2023</span>-<span style=\"color: #008080; text-decoration-color: #008080; font-weight: bold\">03</span>-<span style=\"color: #008080; text-decoration-color: #008080; font-weight: bold\">26</span> <span style=\"color: #00ff00; text-decoration-color: #00ff00; font-weight: bold\">20:08:33</span>: <span style=\"font-weight: bold\">&lt;</span><span style=\"color: #ff00ff; text-decoration-color: #ff00ff; font-weight: bold\">class</span><span style=\"color: #000000; text-decoration-color: #000000\"> </span><span style=\"color: #008000; text-decoration-color: #008000\">'numpy.ndarray'</span><span style=\"font-weight: bold\">&gt;</span>\n",
       "</pre>\n"
      ],
      "text/plain": [
       "\u001b[1;36m2023\u001b[0m-\u001b[1;36m03\u001b[0m-\u001b[1;36m26\u001b[0m \u001b[1;92m20:08:33\u001b[0m: \u001b[1m<\u001b[0m\u001b[1;95mclass\u001b[0m\u001b[39m \u001b[0m\u001b[32m'numpy.ndarray'\u001b[0m\u001b[1m>\u001b[0m\n"
      ]
     },
     "metadata": {},
     "output_type": "display_data"
    },
    {
     "data": {
      "text/html": [
       "<pre style=\"white-space:pre;overflow-x:auto;line-height:normal;font-family:Menlo,'DejaVu Sans Mono',consolas,'Courier New',monospace\"><span style=\"color: #008080; text-decoration-color: #008080; font-weight: bold\">2023</span>-<span style=\"color: #008080; text-decoration-color: #008080; font-weight: bold\">03</span>-<span style=\"color: #008080; text-decoration-color: #008080; font-weight: bold\">26</span> <span style=\"color: #00ff00; text-decoration-color: #00ff00; font-weight: bold\">20:08:33</span>: <span style=\"font-weight: bold\">&lt;</span><span style=\"color: #ff00ff; text-decoration-color: #ff00ff; font-weight: bold\">class</span><span style=\"color: #000000; text-decoration-color: #000000\"> </span><span style=\"color: #008000; text-decoration-color: #008000\">'xgboost.core.DMatrix'</span><span style=\"font-weight: bold\">&gt;</span>\n",
       "</pre>\n"
      ],
      "text/plain": [
       "\u001b[1;36m2023\u001b[0m-\u001b[1;36m03\u001b[0m-\u001b[1;36m26\u001b[0m \u001b[1;92m20:08:33\u001b[0m: \u001b[1m<\u001b[0m\u001b[1;95mclass\u001b[0m\u001b[39m \u001b[0m\u001b[32m'xgboost.core.DMatrix'\u001b[0m\u001b[1m>\u001b[0m\n"
      ]
     },
     "metadata": {},
     "output_type": "display_data"
    },
    {
     "data": {
      "text/html": [
       "<pre style=\"white-space:pre;overflow-x:auto;line-height:normal;font-family:Menlo,'DejaVu Sans Mono',consolas,'Courier New',monospace\"><span style=\"color: #008080; text-decoration-color: #008080; font-weight: bold\">2023</span>-<span style=\"color: #008080; text-decoration-color: #008080; font-weight: bold\">03</span>-<span style=\"color: #008080; text-decoration-color: #008080; font-weight: bold\">26</span> <span style=\"color: #00ff00; text-decoration-color: #00ff00; font-weight: bold\">20:08:34</span>: <span style=\"color: #00ff00; text-decoration-color: #00ff00; font-weight: bold\">169.254.178.2</span> - - <span style=\"font-weight: bold\">[</span><span style=\"color: #008080; text-decoration-color: #008080; font-weight: bold\">26</span>/Mar/<span style=\"color: #00ff00; text-decoration-color: #00ff00; font-weight: bold\">2023:20:08:33</span> +<span style=\"color: #008080; text-decoration-color: #008080; font-weight: bold\">0000</span><span style=\"font-weight: bold\">]</span> <span style=\"color: #008000; text-decoration-color: #008000\">\"POST /invocations HTTP/1.1\"</span> <span style=\"color: #008080; text-decoration-color: #008080; font-weight: bold\">200</span> <span style=\"color: #008080; text-decoration-color: #008080; font-weight: bold\">31</span> <span style=\"color: #008000; text-decoration-color: #008000\">\"-\"</span> \n",
       "<span style=\"color: #008000; text-decoration-color: #008000\">\"AHC/2.0\"</span>\n",
       "</pre>\n"
      ],
      "text/plain": [
       "\u001b[1;36m2023\u001b[0m-\u001b[1;36m03\u001b[0m-\u001b[1;36m26\u001b[0m \u001b[1;92m20:08:34\u001b[0m: \u001b[1;92m169.254.178.2\u001b[0m - - \u001b[1m[\u001b[0m\u001b[1;36m26\u001b[0m/Mar/\u001b[1;92m2023:20:08:33\u001b[0m +\u001b[1;36m0000\u001b[0m\u001b[1m]\u001b[0m \u001b[32m\"POST /invocations HTTP/1.1\"\u001b[0m \u001b[1;36m200\u001b[0m \u001b[1;36m31\u001b[0m \u001b[32m\"-\"\u001b[0m \n",
       "\u001b[32m\"AHC/2.0\"\u001b[0m\n"
      ]
     },
     "metadata": {},
     "output_type": "display_data"
    },
    {
     "data": {
      "text/html": [
       "<pre style=\"white-space:pre;overflow-x:auto;line-height:normal;font-family:Menlo,'DejaVu Sans Mono',consolas,'Courier New',monospace\"><span style=\"color: #008080; text-decoration-color: #008080; font-weight: bold\">2023</span>-<span style=\"color: #008080; text-decoration-color: #008080; font-weight: bold\">03</span>-<span style=\"color: #008080; text-decoration-color: #008080; font-weight: bold\">26</span> <span style=\"color: #00ff00; text-decoration-color: #00ff00; font-weight: bold\">20:08:34</span>: Transformed data: <span style=\"font-weight: bold\">&lt;</span><span style=\"color: #ff00ff; text-decoration-color: #ff00ff; font-weight: bold\">xgboost.core.DMatrix</span><span style=\"color: #000000; text-decoration-color: #000000\"> object at </span><span style=\"color: #008080; text-decoration-color: #008080; font-weight: bold\">0x7f662be93f70</span><span style=\"font-weight: bold\">&gt;</span>\n",
       "</pre>\n"
      ],
      "text/plain": [
       "\u001b[1;36m2023\u001b[0m-\u001b[1;36m03\u001b[0m-\u001b[1;36m26\u001b[0m \u001b[1;92m20:08:34\u001b[0m: Transformed data: \u001b[1m<\u001b[0m\u001b[1;95mxgboost.core.DMatrix\u001b[0m\u001b[39m object at \u001b[0m\u001b[1;36m0x7f662be93f70\u001b[0m\u001b[1m>\u001b[0m\n"
      ]
     },
     "metadata": {},
     "output_type": "display_data"
    },
    {
     "data": {
      "text/html": [
       "<pre style=\"white-space:pre;overflow-x:auto;line-height:normal;font-family:Menlo,'DejaVu Sans Mono',consolas,'Courier New',monospace\"><span style=\"color: #008080; text-decoration-color: #008080; font-weight: bold\">2023</span>-<span style=\"color: #008080; text-decoration-color: #008080; font-weight: bold\">03</span>-<span style=\"color: #008080; text-decoration-color: #008080; font-weight: bold\">26</span> <span style=\"color: #00ff00; text-decoration-color: #00ff00; font-weight: bold\">20:08:34</span>: Input: \n",
       "<span style=\"color: #008080; text-decoration-color: #008080; font-weight: bold\">0.7995425613971686</span>,<span style=\"color: #008080; text-decoration-color: #008080; font-weight: bold\">0.877965470587042</span>,<span style=\"color: #008080; text-decoration-color: #008080; font-weight: bold\">1.326659055767273</span>,<span style=\"color: #008080; text-decoration-color: #008080; font-weight: bold\">1.398563012556441</span>,<span style=\"color: #008080; text-decoration-color: #008080; font-weight: bold\">0.9896192483949702</span>,<span style=\"color: #008080; text-decoration-color: #008080; font-weight: bold\">1.509166873607132</span>,<span style=\"color: #008080; text-decoration-color: #008080; font-weight: bold\">2.016</span>\n",
       "<span style=\"color: #008080; text-decoration-color: #008080; font-weight: bold\">50402614155</span>,<span style=\"color: #008080; text-decoration-color: #008080; font-weight: bold\">0.0</span>,<span style=\"color: #008080; text-decoration-color: #008080; font-weight: bold\">0.0</span>,<span style=\"color: #008080; text-decoration-color: #008080; font-weight: bold\">1.0</span>\n",
       "</pre>\n"
      ],
      "text/plain": [
       "\u001b[1;36m2023\u001b[0m-\u001b[1;36m03\u001b[0m-\u001b[1;36m26\u001b[0m \u001b[1;92m20:08:34\u001b[0m: Input: \n",
       "\u001b[1;36m0.7995425613971686\u001b[0m,\u001b[1;36m0.877965470587042\u001b[0m,\u001b[1;36m1.326659055767273\u001b[0m,\u001b[1;36m1.398563012556441\u001b[0m,\u001b[1;36m0.9896192483949702\u001b[0m,\u001b[1;36m1.509166873607132\u001b[0m,\u001b[1;36m2.016\u001b[0m\n",
       "\u001b[1;36m50402614155\u001b[0m,\u001b[1;36m0.0\u001b[0m,\u001b[1;36m0.0\u001b[0m,\u001b[1;36m1.0\u001b[0m\n"
      ]
     },
     "metadata": {},
     "output_type": "display_data"
    },
    {
     "data": {
      "text/html": [
       "<pre style=\"white-space:pre;overflow-x:auto;line-height:normal;font-family:Menlo,'DejaVu Sans Mono',consolas,'Courier New',monospace\"><span style=\"color: #008080; text-decoration-color: #008080; font-weight: bold\">2023</span>-<span style=\"color: #008080; text-decoration-color: #008080; font-weight: bold\">03</span>-<span style=\"color: #008080; text-decoration-color: #008080; font-weight: bold\">26</span> <span style=\"color: #00ff00; text-decoration-color: #00ff00; font-weight: bold\">20:08:34</span>: <span style=\"font-weight: bold\">&lt;</span><span style=\"color: #ff00ff; text-decoration-color: #ff00ff; font-weight: bold\">class</span><span style=\"color: #000000; text-decoration-color: #000000\"> </span><span style=\"color: #008000; text-decoration-color: #008000\">'numpy.ndarray'</span><span style=\"font-weight: bold\">&gt;</span>\n",
       "</pre>\n"
      ],
      "text/plain": [
       "\u001b[1;36m2023\u001b[0m-\u001b[1;36m03\u001b[0m-\u001b[1;36m26\u001b[0m \u001b[1;92m20:08:34\u001b[0m: \u001b[1m<\u001b[0m\u001b[1;95mclass\u001b[0m\u001b[39m \u001b[0m\u001b[32m'numpy.ndarray'\u001b[0m\u001b[1m>\u001b[0m\n"
      ]
     },
     "metadata": {},
     "output_type": "display_data"
    },
    {
     "data": {
      "text/html": [
       "<pre style=\"white-space:pre;overflow-x:auto;line-height:normal;font-family:Menlo,'DejaVu Sans Mono',consolas,'Courier New',monospace\"><span style=\"color: #008080; text-decoration-color: #008080; font-weight: bold\">2023</span>-<span style=\"color: #008080; text-decoration-color: #008080; font-weight: bold\">03</span>-<span style=\"color: #008080; text-decoration-color: #008080; font-weight: bold\">26</span> <span style=\"color: #00ff00; text-decoration-color: #00ff00; font-weight: bold\">20:08:34</span>: <span style=\"font-weight: bold\">&lt;</span><span style=\"color: #ff00ff; text-decoration-color: #ff00ff; font-weight: bold\">class</span><span style=\"color: #000000; text-decoration-color: #000000\"> </span><span style=\"color: #008000; text-decoration-color: #008000\">'xgboost.core.DMatrix'</span><span style=\"font-weight: bold\">&gt;</span>\n",
       "</pre>\n"
      ],
      "text/plain": [
       "\u001b[1;36m2023\u001b[0m-\u001b[1;36m03\u001b[0m-\u001b[1;36m26\u001b[0m \u001b[1;92m20:08:34\u001b[0m: \u001b[1m<\u001b[0m\u001b[1;95mclass\u001b[0m\u001b[39m \u001b[0m\u001b[32m'xgboost.core.DMatrix'\u001b[0m\u001b[1m>\u001b[0m\n"
      ]
     },
     "metadata": {},
     "output_type": "display_data"
    },
    {
     "data": {
      "text/html": [
       "<pre style=\"white-space:pre;overflow-x:auto;line-height:normal;font-family:Menlo,'DejaVu Sans Mono',consolas,'Courier New',monospace\"><span style=\"color: #008080; text-decoration-color: #008080; font-weight: bold\">2023</span>-<span style=\"color: #008080; text-decoration-color: #008080; font-weight: bold\">03</span>-<span style=\"color: #008080; text-decoration-color: #008080; font-weight: bold\">26</span> <span style=\"color: #00ff00; text-decoration-color: #00ff00; font-weight: bold\">20:08:34</span>: <span style=\"color: #00ff00; text-decoration-color: #00ff00; font-weight: bold\">169.254.178.2</span> - - <span style=\"font-weight: bold\">[</span><span style=\"color: #008080; text-decoration-color: #008080; font-weight: bold\">26</span>/Mar/<span style=\"color: #00ff00; text-decoration-color: #00ff00; font-weight: bold\">2023:20:08:33</span> +<span style=\"color: #008080; text-decoration-color: #008080; font-weight: bold\">0000</span><span style=\"font-weight: bold\">]</span> <span style=\"color: #008000; text-decoration-color: #008000\">\"POST /invocations HTTP/1.1\"</span> <span style=\"color: #008080; text-decoration-color: #008080; font-weight: bold\">200</span> <span style=\"color: #008080; text-decoration-color: #008080; font-weight: bold\">32</span> <span style=\"color: #008000; text-decoration-color: #008000\">\"-\"</span> \n",
       "<span style=\"color: #008000; text-decoration-color: #008000\">\"AHC/2.0\"</span>\n",
       "</pre>\n"
      ],
      "text/plain": [
       "\u001b[1;36m2023\u001b[0m-\u001b[1;36m03\u001b[0m-\u001b[1;36m26\u001b[0m \u001b[1;92m20:08:34\u001b[0m: \u001b[1;92m169.254.178.2\u001b[0m - - \u001b[1m[\u001b[0m\u001b[1;36m26\u001b[0m/Mar/\u001b[1;92m2023:20:08:33\u001b[0m +\u001b[1;36m0000\u001b[0m\u001b[1m]\u001b[0m \u001b[32m\"POST /invocations HTTP/1.1\"\u001b[0m \u001b[1;36m200\u001b[0m \u001b[1;36m32\u001b[0m \u001b[32m\"-\"\u001b[0m \n",
       "\u001b[32m\"AHC/2.0\"\u001b[0m\n"
      ]
     },
     "metadata": {},
     "output_type": "display_data"
    },
    {
     "data": {
      "text/html": [
       "<pre style=\"white-space:pre;overflow-x:auto;line-height:normal;font-family:Menlo,'DejaVu Sans Mono',consolas,'Courier New',monospace\"><span style=\"color: #008080; text-decoration-color: #008080; font-weight: bold\">2023</span>-<span style=\"color: #008080; text-decoration-color: #008080; font-weight: bold\">03</span>-<span style=\"color: #008080; text-decoration-color: #008080; font-weight: bold\">26</span> <span style=\"color: #00ff00; text-decoration-color: #00ff00; font-weight: bold\">20:08:34</span>: Transformed data: <span style=\"font-weight: bold\">&lt;</span><span style=\"color: #ff00ff; text-decoration-color: #ff00ff; font-weight: bold\">xgboost.core.DMatrix</span><span style=\"color: #000000; text-decoration-color: #000000\"> object at </span><span style=\"color: #008080; text-decoration-color: #008080; font-weight: bold\">0x7f662be94910</span><span style=\"font-weight: bold\">&gt;</span>\n",
       "</pre>\n"
      ],
      "text/plain": [
       "\u001b[1;36m2023\u001b[0m-\u001b[1;36m03\u001b[0m-\u001b[1;36m26\u001b[0m \u001b[1;92m20:08:34\u001b[0m: Transformed data: \u001b[1m<\u001b[0m\u001b[1;95mxgboost.core.DMatrix\u001b[0m\u001b[39m object at \u001b[0m\u001b[1;36m0x7f662be94910\u001b[0m\u001b[1m>\u001b[0m\n"
      ]
     },
     "metadata": {},
     "output_type": "display_data"
    },
    {
     "data": {
      "text/html": [
       "<pre style=\"white-space:pre;overflow-x:auto;line-height:normal;font-family:Menlo,'DejaVu Sans Mono',consolas,'Courier New',monospace\"><span style=\"color: #008080; text-decoration-color: #008080; font-weight: bold\">2023</span>-<span style=\"color: #008080; text-decoration-color: #008080; font-weight: bold\">03</span>-<span style=\"color: #008080; text-decoration-color: #008080; font-weight: bold\">26</span> <span style=\"color: #00ff00; text-decoration-color: #00ff00; font-weight: bold\">20:08:34</span>: Input: \n",
       "<span style=\"color: #008080; text-decoration-color: #008080; font-weight: bold\">-0.1165245682958862</span>,<span style=\"color: #008080; text-decoration-color: #008080; font-weight: bold\">-0.33137077332136317</span>,<span style=\"color: #008080; text-decoration-color: #008080; font-weight: bold\">0.2506716146449868</span>,<span style=\"color: #008080; text-decoration-color: #008080; font-weight: bold\">0.026018869731704603</span>,<span style=\"color: #008080; text-decoration-color: #008080; font-weight: bold\">0.11324196430979931</span>,<span style=\"color: #008080; text-decoration-color: #008080; font-weight: bold\">-0.22439192217</span>\n",
       "<span style=\"color: #008080; text-decoration-color: #008080; font-weight: bold\">205264</span>,<span style=\"color: #008080; text-decoration-color: #008080; font-weight: bold\">0.11616929784029704</span>,<span style=\"color: #008080; text-decoration-color: #008080; font-weight: bold\">0.0</span>,<span style=\"color: #008080; text-decoration-color: #008080; font-weight: bold\">1.0</span>,<span style=\"color: #008080; text-decoration-color: #008080; font-weight: bold\">0.0</span>\n",
       "</pre>\n"
      ],
      "text/plain": [
       "\u001b[1;36m2023\u001b[0m-\u001b[1;36m03\u001b[0m-\u001b[1;36m26\u001b[0m \u001b[1;92m20:08:34\u001b[0m: Input: \n",
       "\u001b[1;36m-0.1165245682958862\u001b[0m,\u001b[1;36m-0.33137077332136317\u001b[0m,\u001b[1;36m0.2506716146449868\u001b[0m,\u001b[1;36m0.026018869731704603\u001b[0m,\u001b[1;36m0.11324196430979931\u001b[0m,\u001b[1;36m-0.22439192217\u001b[0m\n",
       "\u001b[1;36m205264\u001b[0m,\u001b[1;36m0.11616929784029704\u001b[0m,\u001b[1;36m0.0\u001b[0m,\u001b[1;36m1.0\u001b[0m,\u001b[1;36m0.0\u001b[0m\n"
      ]
     },
     "metadata": {},
     "output_type": "display_data"
    },
    {
     "data": {
      "text/html": [
       "<pre style=\"white-space:pre;overflow-x:auto;line-height:normal;font-family:Menlo,'DejaVu Sans Mono',consolas,'Courier New',monospace\"><span style=\"color: #008080; text-decoration-color: #008080; font-weight: bold\">2023</span>-<span style=\"color: #008080; text-decoration-color: #008080; font-weight: bold\">03</span>-<span style=\"color: #008080; text-decoration-color: #008080; font-weight: bold\">26</span> <span style=\"color: #00ff00; text-decoration-color: #00ff00; font-weight: bold\">20:08:34</span>: <span style=\"font-weight: bold\">&lt;</span><span style=\"color: #ff00ff; text-decoration-color: #ff00ff; font-weight: bold\">class</span><span style=\"color: #000000; text-decoration-color: #000000\"> </span><span style=\"color: #008000; text-decoration-color: #008000\">'numpy.ndarray'</span><span style=\"font-weight: bold\">&gt;</span>\n",
       "</pre>\n"
      ],
      "text/plain": [
       "\u001b[1;36m2023\u001b[0m-\u001b[1;36m03\u001b[0m-\u001b[1;36m26\u001b[0m \u001b[1;92m20:08:34\u001b[0m: \u001b[1m<\u001b[0m\u001b[1;95mclass\u001b[0m\u001b[39m \u001b[0m\u001b[32m'numpy.ndarray'\u001b[0m\u001b[1m>\u001b[0m\n"
      ]
     },
     "metadata": {},
     "output_type": "display_data"
    },
    {
     "data": {
      "text/html": [
       "<pre style=\"white-space:pre;overflow-x:auto;line-height:normal;font-family:Menlo,'DejaVu Sans Mono',consolas,'Courier New',monospace\"><span style=\"color: #008080; text-decoration-color: #008080; font-weight: bold\">2023</span>-<span style=\"color: #008080; text-decoration-color: #008080; font-weight: bold\">03</span>-<span style=\"color: #008080; text-decoration-color: #008080; font-weight: bold\">26</span> <span style=\"color: #00ff00; text-decoration-color: #00ff00; font-weight: bold\">20:08:34</span>: <span style=\"font-weight: bold\">&lt;</span><span style=\"color: #ff00ff; text-decoration-color: #ff00ff; font-weight: bold\">class</span><span style=\"color: #000000; text-decoration-color: #000000\"> </span><span style=\"color: #008000; text-decoration-color: #008000\">'xgboost.core.DMatrix'</span><span style=\"font-weight: bold\">&gt;</span>\n",
       "</pre>\n"
      ],
      "text/plain": [
       "\u001b[1;36m2023\u001b[0m-\u001b[1;36m03\u001b[0m-\u001b[1;36m26\u001b[0m \u001b[1;92m20:08:34\u001b[0m: \u001b[1m<\u001b[0m\u001b[1;95mclass\u001b[0m\u001b[39m \u001b[0m\u001b[32m'xgboost.core.DMatrix'\u001b[0m\u001b[1m>\u001b[0m\n"
      ]
     },
     "metadata": {},
     "output_type": "display_data"
    },
    {
     "data": {
      "text/html": [
       "<pre style=\"white-space:pre;overflow-x:auto;line-height:normal;font-family:Menlo,'DejaVu Sans Mono',consolas,'Courier New',monospace\"><span style=\"color: #008080; text-decoration-color: #008080; font-weight: bold\">2023</span>-<span style=\"color: #008080; text-decoration-color: #008080; font-weight: bold\">03</span>-<span style=\"color: #008080; text-decoration-color: #008080; font-weight: bold\">26</span> <span style=\"color: #00ff00; text-decoration-color: #00ff00; font-weight: bold\">20:08:35</span>: <span style=\"color: #00ff00; text-decoration-color: #00ff00; font-weight: bold\">169.254.178.2</span> - - <span style=\"font-weight: bold\">[</span><span style=\"color: #008080; text-decoration-color: #008080; font-weight: bold\">26</span>/Mar/<span style=\"color: #00ff00; text-decoration-color: #00ff00; font-weight: bold\">2023:20:08:34</span> +<span style=\"color: #008080; text-decoration-color: #008080; font-weight: bold\">0000</span><span style=\"font-weight: bold\">]</span> <span style=\"color: #008000; text-decoration-color: #008000\">\"POST /invocations HTTP/1.1\"</span> <span style=\"color: #008080; text-decoration-color: #008080; font-weight: bold\">200</span> <span style=\"color: #008080; text-decoration-color: #008080; font-weight: bold\">30</span> <span style=\"color: #008000; text-decoration-color: #008000\">\"-\"</span> \n",
       "<span style=\"color: #008000; text-decoration-color: #008000\">\"AHC/2.0\"</span>\n",
       "</pre>\n"
      ],
      "text/plain": [
       "\u001b[1;36m2023\u001b[0m-\u001b[1;36m03\u001b[0m-\u001b[1;36m26\u001b[0m \u001b[1;92m20:08:35\u001b[0m: \u001b[1;92m169.254.178.2\u001b[0m - - \u001b[1m[\u001b[0m\u001b[1;36m26\u001b[0m/Mar/\u001b[1;92m2023:20:08:34\u001b[0m +\u001b[1;36m0000\u001b[0m\u001b[1m]\u001b[0m \u001b[32m\"POST /invocations HTTP/1.1\"\u001b[0m \u001b[1;36m200\u001b[0m \u001b[1;36m30\u001b[0m \u001b[32m\"-\"\u001b[0m \n",
       "\u001b[32m\"AHC/2.0\"\u001b[0m\n"
      ]
     },
     "metadata": {},
     "output_type": "display_data"
    },
    {
     "data": {
      "text/html": [
       "<pre style=\"white-space:pre;overflow-x:auto;line-height:normal;font-family:Menlo,'DejaVu Sans Mono',consolas,'Courier New',monospace\"><span style=\"color: #008080; text-decoration-color: #008080; font-weight: bold\">2023</span>-<span style=\"color: #008080; text-decoration-color: #008080; font-weight: bold\">03</span>-<span style=\"color: #008080; text-decoration-color: #008080; font-weight: bold\">26</span> <span style=\"color: #00ff00; text-decoration-color: #00ff00; font-weight: bold\">20:08:35</span>: Input: \n",
       "<span style=\"color: #008080; text-decoration-color: #008080; font-weight: bold\">-0.1165245682958862</span>,<span style=\"color: #008080; text-decoration-color: #008080; font-weight: bold\">0.4748533892842405</span>,<span style=\"color: #008080; text-decoration-color: #008080; font-weight: bold\">-0.10799086572910815</span>,<span style=\"color: #008080; text-decoration-color: #008080; font-weight: bold\">-0.29213400735694167</span>,<span style=\"color: #008080; text-decoration-color: #008080; font-weight: bold\">-0.3238202287815201</span>,<span style=\"color: #008080; text-decoration-color: #008080; font-weight: bold\">-0.24263990949</span>\n",
       "<span style=\"color: #008080; text-decoration-color: #008080; font-weight: bold\">604408</span>,<span style=\"color: #008080; text-decoration-color: #008080; font-weight: bold\">-0.2538391653261097</span>,<span style=\"color: #008080; text-decoration-color: #008080; font-weight: bold\">0.0</span>,<span style=\"color: #008080; text-decoration-color: #008080; font-weight: bold\">1.0</span>,<span style=\"color: #008080; text-decoration-color: #008080; font-weight: bold\">0.0</span>\n",
       "</pre>\n"
      ],
      "text/plain": [
       "\u001b[1;36m2023\u001b[0m-\u001b[1;36m03\u001b[0m-\u001b[1;36m26\u001b[0m \u001b[1;92m20:08:35\u001b[0m: Input: \n",
       "\u001b[1;36m-0.1165245682958862\u001b[0m,\u001b[1;36m0.4748533892842405\u001b[0m,\u001b[1;36m-0.10799086572910815\u001b[0m,\u001b[1;36m-0.29213400735694167\u001b[0m,\u001b[1;36m-0.3238202287815201\u001b[0m,\u001b[1;36m-0.24263990949\u001b[0m\n",
       "\u001b[1;36m604408\u001b[0m,\u001b[1;36m-0.2538391653261097\u001b[0m,\u001b[1;36m0.0\u001b[0m,\u001b[1;36m1.0\u001b[0m,\u001b[1;36m0.0\u001b[0m\n"
      ]
     },
     "metadata": {},
     "output_type": "display_data"
    },
    {
     "data": {
      "text/html": [
       "<pre style=\"white-space:pre;overflow-x:auto;line-height:normal;font-family:Menlo,'DejaVu Sans Mono',consolas,'Courier New',monospace\"><span style=\"color: #008080; text-decoration-color: #008080; font-weight: bold\">2023</span>-<span style=\"color: #008080; text-decoration-color: #008080; font-weight: bold\">03</span>-<span style=\"color: #008080; text-decoration-color: #008080; font-weight: bold\">26</span> <span style=\"color: #00ff00; text-decoration-color: #00ff00; font-weight: bold\">20:08:35</span>: <span style=\"font-weight: bold\">&lt;</span><span style=\"color: #ff00ff; text-decoration-color: #ff00ff; font-weight: bold\">class</span><span style=\"color: #000000; text-decoration-color: #000000\"> </span><span style=\"color: #008000; text-decoration-color: #008000\">'numpy.ndarray'</span><span style=\"font-weight: bold\">&gt;</span>\n",
       "</pre>\n"
      ],
      "text/plain": [
       "\u001b[1;36m2023\u001b[0m-\u001b[1;36m03\u001b[0m-\u001b[1;36m26\u001b[0m \u001b[1;92m20:08:35\u001b[0m: \u001b[1m<\u001b[0m\u001b[1;95mclass\u001b[0m\u001b[39m \u001b[0m\u001b[32m'numpy.ndarray'\u001b[0m\u001b[1m>\u001b[0m\n"
      ]
     },
     "metadata": {},
     "output_type": "display_data"
    },
    {
     "data": {
      "text/html": [
       "<pre style=\"white-space:pre;overflow-x:auto;line-height:normal;font-family:Menlo,'DejaVu Sans Mono',consolas,'Courier New',monospace\"><span style=\"color: #008080; text-decoration-color: #008080; font-weight: bold\">2023</span>-<span style=\"color: #008080; text-decoration-color: #008080; font-weight: bold\">03</span>-<span style=\"color: #008080; text-decoration-color: #008080; font-weight: bold\">26</span> <span style=\"color: #00ff00; text-decoration-color: #00ff00; font-weight: bold\">20:08:35</span>: <span style=\"font-weight: bold\">&lt;</span><span style=\"color: #ff00ff; text-decoration-color: #ff00ff; font-weight: bold\">class</span><span style=\"color: #000000; text-decoration-color: #000000\"> </span><span style=\"color: #008000; text-decoration-color: #008000\">'xgboost.core.DMatrix'</span><span style=\"font-weight: bold\">&gt;</span>\n",
       "</pre>\n"
      ],
      "text/plain": [
       "\u001b[1;36m2023\u001b[0m-\u001b[1;36m03\u001b[0m-\u001b[1;36m26\u001b[0m \u001b[1;92m20:08:35\u001b[0m: \u001b[1m<\u001b[0m\u001b[1;95mclass\u001b[0m\u001b[39m \u001b[0m\u001b[32m'xgboost.core.DMatrix'\u001b[0m\u001b[1m>\u001b[0m\n"
      ]
     },
     "metadata": {},
     "output_type": "display_data"
    },
    {
     "data": {
      "text/html": [
       "<pre style=\"white-space:pre;overflow-x:auto;line-height:normal;font-family:Menlo,'DejaVu Sans Mono',consolas,'Courier New',monospace\"><span style=\"color: #008080; text-decoration-color: #008080; font-weight: bold\">2023</span>-<span style=\"color: #008080; text-decoration-color: #008080; font-weight: bold\">03</span>-<span style=\"color: #008080; text-decoration-color: #008080; font-weight: bold\">26</span> <span style=\"color: #00ff00; text-decoration-color: #00ff00; font-weight: bold\">20:08:35</span>: <span style=\"color: #00ff00; text-decoration-color: #00ff00; font-weight: bold\">169.254.178.2</span> - - <span style=\"font-weight: bold\">[</span><span style=\"color: #008080; text-decoration-color: #008080; font-weight: bold\">26</span>/Mar/<span style=\"color: #00ff00; text-decoration-color: #00ff00; font-weight: bold\">2023:20:08:34</span> +<span style=\"color: #008080; text-decoration-color: #008080; font-weight: bold\">0000</span><span style=\"font-weight: bold\">]</span> <span style=\"color: #008000; text-decoration-color: #008000\">\"POST /invocations HTTP/1.1\"</span> <span style=\"color: #008080; text-decoration-color: #008080; font-weight: bold\">200</span> <span style=\"color: #008080; text-decoration-color: #008080; font-weight: bold\">31</span> <span style=\"color: #008000; text-decoration-color: #008000\">\"-\"</span> \n",
       "<span style=\"color: #008000; text-decoration-color: #008000\">\"AHC/2.0\"</span>\n",
       "</pre>\n"
      ],
      "text/plain": [
       "\u001b[1;36m2023\u001b[0m-\u001b[1;36m03\u001b[0m-\u001b[1;36m26\u001b[0m \u001b[1;92m20:08:35\u001b[0m: \u001b[1;92m169.254.178.2\u001b[0m - - \u001b[1m[\u001b[0m\u001b[1;36m26\u001b[0m/Mar/\u001b[1;92m2023:20:08:34\u001b[0m +\u001b[1;36m0000\u001b[0m\u001b[1m]\u001b[0m \u001b[32m\"POST /invocations HTTP/1.1\"\u001b[0m \u001b[1;36m200\u001b[0m \u001b[1;36m31\u001b[0m \u001b[32m\"-\"\u001b[0m \n",
       "\u001b[32m\"AHC/2.0\"\u001b[0m\n"
      ]
     },
     "metadata": {},
     "output_type": "display_data"
    },
    {
     "data": {
      "text/html": [
       "<pre style=\"white-space:pre;overflow-x:auto;line-height:normal;font-family:Menlo,'DejaVu Sans Mono',consolas,'Courier New',monospace\"><span style=\"color: #008080; text-decoration-color: #008080; font-weight: bold\">2023</span>-<span style=\"color: #008080; text-decoration-color: #008080; font-weight: bold\">03</span>-<span style=\"color: #008080; text-decoration-color: #008080; font-weight: bold\">26</span> <span style=\"color: #00ff00; text-decoration-color: #00ff00; font-weight: bold\">20:08:35</span>: Transformed data: <span style=\"font-weight: bold\">&lt;</span><span style=\"color: #ff00ff; text-decoration-color: #ff00ff; font-weight: bold\">xgboost.core.DMatrix</span><span style=\"color: #000000; text-decoration-color: #000000\"> object at </span><span style=\"color: #008080; text-decoration-color: #008080; font-weight: bold\">0x7f662be93b20</span><span style=\"font-weight: bold\">&gt;</span>\n",
       "</pre>\n"
      ],
      "text/plain": [
       "\u001b[1;36m2023\u001b[0m-\u001b[1;36m03\u001b[0m-\u001b[1;36m26\u001b[0m \u001b[1;92m20:08:35\u001b[0m: Transformed data: \u001b[1m<\u001b[0m\u001b[1;95mxgboost.core.DMatrix\u001b[0m\u001b[39m object at \u001b[0m\u001b[1;36m0x7f662be93b20\u001b[0m\u001b[1m>\u001b[0m\n"
      ]
     },
     "metadata": {},
     "output_type": "display_data"
    },
    {
     "data": {
      "text/html": [
       "<pre style=\"white-space:pre;overflow-x:auto;line-height:normal;font-family:Menlo,'DejaVu Sans Mono',consolas,'Courier New',monospace\"><span style=\"color: #008080; text-decoration-color: #008080; font-weight: bold\">2023</span>-<span style=\"color: #008080; text-decoration-color: #008080; font-weight: bold\">03</span>-<span style=\"color: #008080; text-decoration-color: #008080; font-weight: bold\">26</span> <span style=\"color: #00ff00; text-decoration-color: #00ff00; font-weight: bold\">20:08:35</span>: xgboost model loaded\n",
       "</pre>\n"
      ],
      "text/plain": [
       "\u001b[1;36m2023\u001b[0m-\u001b[1;36m03\u001b[0m-\u001b[1;36m26\u001b[0m \u001b[1;92m20:08:35\u001b[0m: xgboost model loaded\n"
      ]
     },
     "metadata": {},
     "output_type": "display_data"
    },
    {
     "data": {
      "text/html": [
       "<pre style=\"white-space:pre;overflow-x:auto;line-height:normal;font-family:Menlo,'DejaVu Sans Mono',consolas,'Courier New',monospace\"><span style=\"color: #008080; text-decoration-color: #008080; font-weight: bold\">2023</span>-<span style=\"color: #008080; text-decoration-color: #008080; font-weight: bold\">03</span>-<span style=\"color: #008080; text-decoration-color: #008080; font-weight: bold\">26</span> <span style=\"color: #00ff00; text-decoration-color: #00ff00; font-weight: bold\">20:08:35</span>: <span style=\"color: #00ff00; text-decoration-color: #00ff00; font-weight: bold\">169.254.178.2</span> - - <span style=\"font-weight: bold\">[</span><span style=\"color: #008080; text-decoration-color: #008080; font-weight: bold\">26</span>/Mar/<span style=\"color: #00ff00; text-decoration-color: #00ff00; font-weight: bold\">2023:20:08:35</span> +<span style=\"color: #008080; text-decoration-color: #008080; font-weight: bold\">0000</span><span style=\"font-weight: bold\">]</span> <span style=\"color: #008000; text-decoration-color: #008000\">\"GET /ping HTTP/1.1\"</span> <span style=\"color: #008080; text-decoration-color: #008080; font-weight: bold\">200</span> <span style=\"color: #008080; text-decoration-color: #008080; font-weight: bold\">1</span> <span style=\"color: #008000; text-decoration-color: #008000\">\"-\"</span> <span style=\"color: #008000; text-decoration-color: #008000\">\"AHC/2.0\"</span>\n",
       "</pre>\n"
      ],
      "text/plain": [
       "\u001b[1;36m2023\u001b[0m-\u001b[1;36m03\u001b[0m-\u001b[1;36m26\u001b[0m \u001b[1;92m20:08:35\u001b[0m: \u001b[1;92m169.254.178.2\u001b[0m - - \u001b[1m[\u001b[0m\u001b[1;36m26\u001b[0m/Mar/\u001b[1;92m2023:20:08:35\u001b[0m +\u001b[1;36m0000\u001b[0m\u001b[1m]\u001b[0m \u001b[32m\"GET /ping HTTP/1.1\"\u001b[0m \u001b[1;36m200\u001b[0m \u001b[1;36m1\u001b[0m \u001b[32m\"-\"\u001b[0m \u001b[32m\"AHC/2.0\"\u001b[0m\n"
      ]
     },
     "metadata": {},
     "output_type": "display_data"
    },
    {
     "data": {
      "text/html": [
       "<pre style=\"white-space:pre;overflow-x:auto;line-height:normal;font-family:Menlo,'DejaVu Sans Mono',consolas,'Courier New',monospace\"><span style=\"color: #008080; text-decoration-color: #008080; font-weight: bold\">2023</span>-<span style=\"color: #008080; text-decoration-color: #008080; font-weight: bold\">03</span>-<span style=\"color: #008080; text-decoration-color: #008080; font-weight: bold\">26</span> <span style=\"color: #00ff00; text-decoration-color: #00ff00; font-weight: bold\">20:08:35</span>: Transformed data: <span style=\"font-weight: bold\">&lt;</span><span style=\"color: #ff00ff; text-decoration-color: #ff00ff; font-weight: bold\">xgboost.core.DMatrix</span><span style=\"color: #000000; text-decoration-color: #000000\"> object at </span><span style=\"color: #008080; text-decoration-color: #008080; font-weight: bold\">0x7f662be94b50</span><span style=\"font-weight: bold\">&gt;</span>\n",
       "</pre>\n"
      ],
      "text/plain": [
       "\u001b[1;36m2023\u001b[0m-\u001b[1;36m03\u001b[0m-\u001b[1;36m26\u001b[0m \u001b[1;92m20:08:35\u001b[0m: Transformed data: \u001b[1m<\u001b[0m\u001b[1;95mxgboost.core.DMatrix\u001b[0m\u001b[39m object at \u001b[0m\u001b[1;36m0x7f662be94b50\u001b[0m\u001b[1m>\u001b[0m\n"
      ]
     },
     "metadata": {},
     "output_type": "display_data"
    },
    {
     "data": {
      "text/html": [
       "<pre style=\"white-space:pre;overflow-x:auto;line-height:normal;font-family:Menlo,'DejaVu Sans Mono',consolas,'Courier New',monospace\"><span style=\"color: #008080; text-decoration-color: #008080; font-weight: bold\">2023</span>-<span style=\"color: #008080; text-decoration-color: #008080; font-weight: bold\">03</span>-<span style=\"color: #008080; text-decoration-color: #008080; font-weight: bold\">26</span> <span style=\"color: #00ff00; text-decoration-color: #00ff00; font-weight: bold\">20:08:35</span>: Input: \n",
       "<span style=\"color: #008080; text-decoration-color: #008080; font-weight: bold\">-0.03324573832379023</span>,<span style=\"color: #008080; text-decoration-color: #008080; font-weight: bold\">0.021352297818588113</span>,<span style=\"color: #008080; text-decoration-color: #008080; font-weight: bold\">0.728888255143781</span>,<span style=\"color: #008080; text-decoration-color: #008080; font-weight: bold\">0.08516267380587607</span>,<span style=\"color: #008080; text-decoration-color: #008080; font-weight: bold\">0.06367821045408265</span>,<span style=\"color: #008080; text-decoration-color: #008080; font-weight: bold\">0.3504196785336</span>\n",
       "<span style=\"color: #008080; text-decoration-color: #008080; font-weight: bold\">7667</span>,<span style=\"color: #008080; text-decoration-color: #008080; font-weight: bold\">0.08024614607656821</span>,<span style=\"color: #008080; text-decoration-color: #008080; font-weight: bold\">1.0</span>,<span style=\"color: #008080; text-decoration-color: #008080; font-weight: bold\">0.0</span>,<span style=\"color: #008080; text-decoration-color: #008080; font-weight: bold\">0.0</span>\n",
       "</pre>\n"
      ],
      "text/plain": [
       "\u001b[1;36m2023\u001b[0m-\u001b[1;36m03\u001b[0m-\u001b[1;36m26\u001b[0m \u001b[1;92m20:08:35\u001b[0m: Input: \n",
       "\u001b[1;36m-0.03324573832379023\u001b[0m,\u001b[1;36m0.021352297818588113\u001b[0m,\u001b[1;36m0.728888255143781\u001b[0m,\u001b[1;36m0.08516267380587607\u001b[0m,\u001b[1;36m0.06367821045408265\u001b[0m,\u001b[1;36m0.3504196785336\u001b[0m\n",
       "\u001b[1;36m7667\u001b[0m,\u001b[1;36m0.08024614607656821\u001b[0m,\u001b[1;36m1.0\u001b[0m,\u001b[1;36m0.0\u001b[0m,\u001b[1;36m0.0\u001b[0m\n"
      ]
     },
     "metadata": {},
     "output_type": "display_data"
    },
    {
     "data": {
      "text/html": [
       "<pre style=\"white-space:pre;overflow-x:auto;line-height:normal;font-family:Menlo,'DejaVu Sans Mono',consolas,'Courier New',monospace\"><span style=\"color: #008080; text-decoration-color: #008080; font-weight: bold\">2023</span>-<span style=\"color: #008080; text-decoration-color: #008080; font-weight: bold\">03</span>-<span style=\"color: #008080; text-decoration-color: #008080; font-weight: bold\">26</span> <span style=\"color: #00ff00; text-decoration-color: #00ff00; font-weight: bold\">20:08:35</span>: <span style=\"font-weight: bold\">&lt;</span><span style=\"color: #ff00ff; text-decoration-color: #ff00ff; font-weight: bold\">class</span><span style=\"color: #000000; text-decoration-color: #000000\"> </span><span style=\"color: #008000; text-decoration-color: #008000\">'numpy.ndarray'</span><span style=\"font-weight: bold\">&gt;</span>\n",
       "</pre>\n"
      ],
      "text/plain": [
       "\u001b[1;36m2023\u001b[0m-\u001b[1;36m03\u001b[0m-\u001b[1;36m26\u001b[0m \u001b[1;92m20:08:35\u001b[0m: \u001b[1m<\u001b[0m\u001b[1;95mclass\u001b[0m\u001b[39m \u001b[0m\u001b[32m'numpy.ndarray'\u001b[0m\u001b[1m>\u001b[0m\n"
      ]
     },
     "metadata": {},
     "output_type": "display_data"
    },
    {
     "data": {
      "text/html": [
       "<pre style=\"white-space:pre;overflow-x:auto;line-height:normal;font-family:Menlo,'DejaVu Sans Mono',consolas,'Courier New',monospace\"><span style=\"color: #008080; text-decoration-color: #008080; font-weight: bold\">2023</span>-<span style=\"color: #008080; text-decoration-color: #008080; font-weight: bold\">03</span>-<span style=\"color: #008080; text-decoration-color: #008080; font-weight: bold\">26</span> <span style=\"color: #00ff00; text-decoration-color: #00ff00; font-weight: bold\">20:08:35</span>: <span style=\"font-weight: bold\">&lt;</span><span style=\"color: #ff00ff; text-decoration-color: #ff00ff; font-weight: bold\">class</span><span style=\"color: #000000; text-decoration-color: #000000\"> </span><span style=\"color: #008000; text-decoration-color: #008000\">'xgboost.core.DMatrix'</span><span style=\"font-weight: bold\">&gt;</span>\n",
       "</pre>\n"
      ],
      "text/plain": [
       "\u001b[1;36m2023\u001b[0m-\u001b[1;36m03\u001b[0m-\u001b[1;36m26\u001b[0m \u001b[1;92m20:08:35\u001b[0m: \u001b[1m<\u001b[0m\u001b[1;95mclass\u001b[0m\u001b[39m \u001b[0m\u001b[32m'xgboost.core.DMatrix'\u001b[0m\u001b[1m>\u001b[0m\n"
      ]
     },
     "metadata": {},
     "output_type": "display_data"
    },
    {
     "data": {
      "text/html": [
       "<pre style=\"white-space:pre;overflow-x:auto;line-height:normal;font-family:Menlo,'DejaVu Sans Mono',consolas,'Courier New',monospace\"><span style=\"color: #008080; text-decoration-color: #008080; font-weight: bold\">2023</span>-<span style=\"color: #008080; text-decoration-color: #008080; font-weight: bold\">03</span>-<span style=\"color: #008080; text-decoration-color: #008080; font-weight: bold\">26</span> <span style=\"color: #00ff00; text-decoration-color: #00ff00; font-weight: bold\">20:08:36</span>: <span style=\"color: #00ff00; text-decoration-color: #00ff00; font-weight: bold\">169.254.178.2</span> - - <span style=\"font-weight: bold\">[</span><span style=\"color: #008080; text-decoration-color: #008080; font-weight: bold\">26</span>/Mar/<span style=\"color: #00ff00; text-decoration-color: #00ff00; font-weight: bold\">2023:20:08:35</span> +<span style=\"color: #008080; text-decoration-color: #008080; font-weight: bold\">0000</span><span style=\"font-weight: bold\">]</span> <span style=\"color: #008000; text-decoration-color: #008000\">\"POST /invocations HTTP/1.1\"</span> <span style=\"color: #008080; text-decoration-color: #008080; font-weight: bold\">200</span> <span style=\"color: #008080; text-decoration-color: #008080; font-weight: bold\">31</span> <span style=\"color: #008000; text-decoration-color: #008000\">\"-\"</span> \n",
       "<span style=\"color: #008000; text-decoration-color: #008000\">\"AHC/2.0\"</span>\n",
       "</pre>\n"
      ],
      "text/plain": [
       "\u001b[1;36m2023\u001b[0m-\u001b[1;36m03\u001b[0m-\u001b[1;36m26\u001b[0m \u001b[1;92m20:08:36\u001b[0m: \u001b[1;92m169.254.178.2\u001b[0m - - \u001b[1m[\u001b[0m\u001b[1;36m26\u001b[0m/Mar/\u001b[1;92m2023:20:08:35\u001b[0m +\u001b[1;36m0000\u001b[0m\u001b[1m]\u001b[0m \u001b[32m\"POST /invocations HTTP/1.1\"\u001b[0m \u001b[1;36m200\u001b[0m \u001b[1;36m31\u001b[0m \u001b[32m\"-\"\u001b[0m \n",
       "\u001b[32m\"AHC/2.0\"\u001b[0m\n"
      ]
     },
     "metadata": {},
     "output_type": "display_data"
    },
    {
     "data": {
      "text/html": [
       "<pre style=\"white-space:pre;overflow-x:auto;line-height:normal;font-family:Menlo,'DejaVu Sans Mono',consolas,'Courier New',monospace\"><span style=\"color: #008080; text-decoration-color: #008080; font-weight: bold\">2023</span>-<span style=\"color: #008080; text-decoration-color: #008080; font-weight: bold\">03</span>-<span style=\"color: #008080; text-decoration-color: #008080; font-weight: bold\">26</span> <span style=\"color: #00ff00; text-decoration-color: #00ff00; font-weight: bold\">20:08:36</span>: Transformed data: <span style=\"font-weight: bold\">&lt;</span><span style=\"color: #ff00ff; text-decoration-color: #ff00ff; font-weight: bold\">xgboost.core.DMatrix</span><span style=\"color: #000000; text-decoration-color: #000000\"> object at </span><span style=\"color: #008080; text-decoration-color: #008080; font-weight: bold\">0x7f662be94970</span><span style=\"font-weight: bold\">&gt;</span>\n",
       "</pre>\n"
      ],
      "text/plain": [
       "\u001b[1;36m2023\u001b[0m-\u001b[1;36m03\u001b[0m-\u001b[1;36m26\u001b[0m \u001b[1;92m20:08:36\u001b[0m: Transformed data: \u001b[1m<\u001b[0m\u001b[1;95mxgboost.core.DMatrix\u001b[0m\u001b[39m object at \u001b[0m\u001b[1;36m0x7f662be94970\u001b[0m\u001b[1m>\u001b[0m\n"
      ]
     },
     "metadata": {},
     "output_type": "display_data"
    },
    {
     "data": {
      "text/html": [
       "<pre style=\"white-space:pre;overflow-x:auto;line-height:normal;font-family:Menlo,'DejaVu Sans Mono',consolas,'Courier New',monospace\"><span style=\"color: #008080; text-decoration-color: #008080; font-weight: bold\">2023</span>-<span style=\"color: #008080; text-decoration-color: #008080; font-weight: bold\">03</span>-<span style=\"color: #008080; text-decoration-color: #008080; font-weight: bold\">26</span> <span style=\"color: #00ff00; text-decoration-color: #00ff00; font-weight: bold\">20:08:36</span>: Input: \n",
       "<span style=\"color: #008080; text-decoration-color: #008080; font-weight: bold\">0.7579031464111207</span>,<span style=\"color: #008080; text-decoration-color: #008080; font-weight: bold\">0.676409429935641</span>,<span style=\"color: #008080; text-decoration-color: #008080; font-weight: bold\">0.8484424152684789</span>,<span style=\"color: #008080; text-decoration-color: #008080; font-weight: bold\">0.744922005460857</span>,<span style=\"color: #008080; text-decoration-color: #008080; font-weight: bold\">0.8995033322936672</span>,<span style=\"color: #008080; text-decoration-color: #008080; font-weight: bold\">0.7153794250135053</span>,<span style=\"color: #008080; text-decoration-color: #008080; font-weight: bold\">0.5</span>\n",
       "<span style=\"color: #008080; text-decoration-color: #008080; font-weight: bold\">580240645341612</span>,<span style=\"color: #008080; text-decoration-color: #008080; font-weight: bold\">1.0</span>,<span style=\"color: #008080; text-decoration-color: #008080; font-weight: bold\">0.0</span>,<span style=\"color: #008080; text-decoration-color: #008080; font-weight: bold\">0.0</span>\n",
       "</pre>\n"
      ],
      "text/plain": [
       "\u001b[1;36m2023\u001b[0m-\u001b[1;36m03\u001b[0m-\u001b[1;36m26\u001b[0m \u001b[1;92m20:08:36\u001b[0m: Input: \n",
       "\u001b[1;36m0.7579031464111207\u001b[0m,\u001b[1;36m0.676409429935641\u001b[0m,\u001b[1;36m0.8484424152684789\u001b[0m,\u001b[1;36m0.744922005460857\u001b[0m,\u001b[1;36m0.8995033322936672\u001b[0m,\u001b[1;36m0.7153794250135053\u001b[0m,\u001b[1;36m0.5\u001b[0m\n",
       "\u001b[1;36m580240645341612\u001b[0m,\u001b[1;36m1.0\u001b[0m,\u001b[1;36m0.0\u001b[0m,\u001b[1;36m0.0\u001b[0m\n"
      ]
     },
     "metadata": {},
     "output_type": "display_data"
    },
    {
     "data": {
      "text/html": [
       "<pre style=\"white-space:pre;overflow-x:auto;line-height:normal;font-family:Menlo,'DejaVu Sans Mono',consolas,'Courier New',monospace\"><span style=\"color: #008080; text-decoration-color: #008080; font-weight: bold\">2023</span>-<span style=\"color: #008080; text-decoration-color: #008080; font-weight: bold\">03</span>-<span style=\"color: #008080; text-decoration-color: #008080; font-weight: bold\">26</span> <span style=\"color: #00ff00; text-decoration-color: #00ff00; font-weight: bold\">20:08:36</span>: <span style=\"font-weight: bold\">&lt;</span><span style=\"color: #ff00ff; text-decoration-color: #ff00ff; font-weight: bold\">class</span><span style=\"color: #000000; text-decoration-color: #000000\"> </span><span style=\"color: #008000; text-decoration-color: #008000\">'numpy.ndarray'</span><span style=\"font-weight: bold\">&gt;</span>\n",
       "</pre>\n"
      ],
      "text/plain": [
       "\u001b[1;36m2023\u001b[0m-\u001b[1;36m03\u001b[0m-\u001b[1;36m26\u001b[0m \u001b[1;92m20:08:36\u001b[0m: \u001b[1m<\u001b[0m\u001b[1;95mclass\u001b[0m\u001b[39m \u001b[0m\u001b[32m'numpy.ndarray'\u001b[0m\u001b[1m>\u001b[0m\n"
      ]
     },
     "metadata": {},
     "output_type": "display_data"
    },
    {
     "data": {
      "text/html": [
       "<pre style=\"white-space:pre;overflow-x:auto;line-height:normal;font-family:Menlo,'DejaVu Sans Mono',consolas,'Courier New',monospace\"><span style=\"color: #008080; text-decoration-color: #008080; font-weight: bold\">2023</span>-<span style=\"color: #008080; text-decoration-color: #008080; font-weight: bold\">03</span>-<span style=\"color: #008080; text-decoration-color: #008080; font-weight: bold\">26</span> <span style=\"color: #00ff00; text-decoration-color: #00ff00; font-weight: bold\">20:08:36</span>: <span style=\"font-weight: bold\">&lt;</span><span style=\"color: #ff00ff; text-decoration-color: #ff00ff; font-weight: bold\">class</span><span style=\"color: #000000; text-decoration-color: #000000\"> </span><span style=\"color: #008000; text-decoration-color: #008000\">'xgboost.core.DMatrix'</span><span style=\"font-weight: bold\">&gt;</span>\n",
       "</pre>\n"
      ],
      "text/plain": [
       "\u001b[1;36m2023\u001b[0m-\u001b[1;36m03\u001b[0m-\u001b[1;36m26\u001b[0m \u001b[1;92m20:08:36\u001b[0m: \u001b[1m<\u001b[0m\u001b[1;95mclass\u001b[0m\u001b[39m \u001b[0m\u001b[32m'xgboost.core.DMatrix'\u001b[0m\u001b[1m>\u001b[0m\n"
      ]
     },
     "metadata": {},
     "output_type": "display_data"
    }
   ],
   "source": [
    "from datetime import timedelta\n",
    "\n",
    "logs_client = boto3.client(\"logs\")\n",
    "end_time = datetime.utcnow()\n",
    "start_time = end_time - timedelta(minutes=15)\n",
    "\n",
    "log_group_name = f\"/aws/sagemaker/Endpoints/{endpoint_name}\"\n",
    "log_streams = logs_client.describe_log_streams(logGroupName=log_group_name)\n",
    "log_stream_name = log_streams[\"logStreams\"][0][\"logStreamName\"]\n",
    "\n",
    "# Retrieve the logs\n",
    "logs = logs_client.get_log_events(\n",
    "    logGroupName=log_group_name,\n",
    "    logStreamName=log_stream_name,\n",
    "    startTime=int(start_time.timestamp() * 1000),\n",
    "    endTime=int(end_time.timestamp() * 1000),\n",
    ")\n",
    "\n",
    "# Print the logs\n",
    "for event in logs[\"events\"]:\n",
    "    print(f\"{datetime.fromtimestamp(event['timestamp'] // 1000)}: {event['message']}\")"
   ]
  },
  {
   "cell_type": "markdown",
   "id": "e05d4caf-e665-477d-965d-1ba8cb91bd0a",
   "metadata": {},
   "source": [
    "### Cleanup"
   ]
  },
  {
   "cell_type": "code",
   "execution_count": 13,
   "id": "b8ffc175-ee55-4dc7-83ec-b306a75978e6",
   "metadata": {
    "tags": []
   },
   "outputs": [
    {
     "data": {
      "text/html": [
       "<pre style=\"white-space:pre;overflow-x:auto;line-height:normal;font-family:Menlo,'DejaVu Sans Mono',consolas,'Courier New',monospace\">EP: AbaloneXGB-ep-predictor-<span style=\"color: #008080; text-decoration-color: #008080; font-weight: bold\">12926</span>-26Mar2023\n",
       "EPC: AbaloneXGB-epc-predictor-<span style=\"color: #008080; text-decoration-color: #008080; font-weight: bold\">12926</span>-26Mar2023\n",
       "Model: AbaloneXGB-predictor-<span style=\"color: #008080; text-decoration-color: #008080; font-weight: bold\">12926</span>-26Mar2023\n",
       "</pre>\n"
      ],
      "text/plain": [
       "EP: AbaloneXGB-ep-predictor-\u001b[1;36m12926\u001b[0m-26Mar2023\n",
       "EPC: AbaloneXGB-epc-predictor-\u001b[1;36m12926\u001b[0m-26Mar2023\n",
       "Model: AbaloneXGB-predictor-\u001b[1;36m12926\u001b[0m-26Mar2023\n"
      ]
     },
     "metadata": {},
     "output_type": "display_data"
    },
    {
     "data": {
      "text/html": [
       "<pre style=\"white-space:pre;overflow-x:auto;line-height:normal;font-family:Menlo,'DejaVu Sans Mono',consolas,'Courier New',monospace\">Deleting endpoint: AbaloneXGB-ep-predictor-<span style=\"color: #008080; text-decoration-color: #008080; font-weight: bold\">12926</span>-26Mar2023\n",
       "</pre>\n"
      ],
      "text/plain": [
       "Deleting endpoint: AbaloneXGB-ep-predictor-\u001b[1;36m12926\u001b[0m-26Mar2023\n"
      ]
     },
     "metadata": {},
     "output_type": "display_data"
    },
    {
     "data": {
      "text/html": [
       "<pre style=\"white-space:pre;overflow-x:auto;line-height:normal;font-family:Menlo,'DejaVu Sans Mono',consolas,'Courier New',monospace\">Deleting endpoint_config: AbaloneXGB-epc-predictor-<span style=\"color: #008080; text-decoration-color: #008080; font-weight: bold\">12926</span>-26Mar2023\n",
       "</pre>\n"
      ],
      "text/plain": [
       "Deleting endpoint_config: AbaloneXGB-epc-predictor-\u001b[1;36m12926\u001b[0m-26Mar2023\n"
      ]
     },
     "metadata": {},
     "output_type": "display_data"
    },
    {
     "data": {
      "text/html": [
       "<pre style=\"white-space:pre;overflow-x:auto;line-height:normal;font-family:Menlo,'DejaVu Sans Mono',consolas,'Courier New',monospace\">Deleting Model: AbaloneXGB-predictor-<span style=\"color: #008080; text-decoration-color: #008080; font-weight: bold\">12926</span>-26Mar2023\n",
       "</pre>\n"
      ],
      "text/plain": [
       "Deleting Model: AbaloneXGB-predictor-\u001b[1;36m12926\u001b[0m-26Mar2023\n"
      ]
     },
     "metadata": {},
     "output_type": "display_data"
    }
   ],
   "source": [
    "# Delete endpoint, endpoint_configuration and model\n",
    "print(f\"EP: {endpoint_name}\\nEPC: {endpoint_config_name}\\nModel: {model_name}\")\n",
    "\n",
    "try:\n",
    "    print(f\"Deleting endpoint: {endpoint_name}\")\n",
    "    sm_client.delete_endpoint(EndpointName=endpoint_name)\n",
    "except Exception as e:\n",
    "    print(f\"Error deleting EP: {endpoint_name}\\n{e}\")\n",
    "    pass\n",
    "\n",
    "try:\n",
    "    print(f\"Deleting endpoint_config: {endpoint_config_name}\")\n",
    "    sm_client.delete_endpoint_config(EndpointConfigName=endpoint_config_name)\n",
    "except Exception as e:\n",
    "    print(f\"Error deleting EPC: {endpoint_config_name}\\n{e}\")\n",
    "    pass\n",
    "\n",
    "try:\n",
    "    print(f\"Deleting Model: {model_name}\")\n",
    "    sm_client.delete_model(ModelName=model_name)\n",
    "except Exception as e:\n",
    "    print(f\"Error deleting Model: {model_name}\\n{e}\")\n",
    "    pass"
   ]
  }
 ],
 "metadata": {
  "kernelspec": {
   "display_name": "conda_python3",
   "language": "python",
   "name": "conda_python3"
  },
  "language_info": {
   "codemirror_mode": {
    "name": "ipython",
    "version": 3
   },
   "file_extension": ".py",
   "mimetype": "text/x-python",
   "name": "python",
   "nbconvert_exporter": "python",
   "pygments_lexer": "ipython3",
   "version": "3.10.8"
  }
 },
 "nbformat": 4,
 "nbformat_minor": 5
}
